{
 "cells": [
  {
   "cell_type": "markdown",
   "metadata": {},
   "source": [
    "(content:rv:basics)=\n",
    "# Random variables\n"
   ]
  },
  {
   "cell_type": "markdown",
   "metadata": {},
   "source": [
    "## Define and work with a random variable\n",
    "\n",
    "A random variable in Fesslix is handled through the class {class}`flx.rv`:\n"
   ]
  },
  {
   "cell_type": "markdown",
   "metadata": {},
   "source": [
    "```{eval-rst}\n",
    ".. class:: flx.rv\n",
    "\n",
    "   A random variable.\n",
    "\n",
    "   .. method:: __init__(config)\n",
    "\n",
    "      Initialize the `flx.rv` instance with the given configuration.\n",
    "      \n",
    "      :param config: The configuration to use for the random variable.\n",
    "      :type config: :type:`flx_rv_config`\n",
    "\n",
    "   .. py:method:: get_name()\n",
    "\n",
    "      Retrieves the name of the random variable.\n",
    "\n",
    "      :returns: name of random variable\n",
    "      :rtype: str\n",
    "      \n",
    "   .. py:method:: get_descr()\n",
    "\n",
    "      Retrieves the description of the random variable.\n",
    "\n",
    "      :returns: description of random variable\n",
    "      :rtype: str\n",
    "      \n",
    "   .. py:method:: get_type()\n",
    "\n",
    "      Retrieves the type of the random variable.\n",
    "\n",
    "      :returns: type of random variable\n",
    "      :rtype: :type:`flx_rv_type`\n",
    "      \n",
    "   .. py:method:: get_value()\n",
    "\n",
    "      Retrieves the value currently assigned to the random variable.\n",
    "\n",
    "      :returns: value of the random variable\n",
    "      :rtype: float\n",
    "      \n",
    "   .. py:method:: pdf(x_val, safeCalc=true)\n",
    "\n",
    "      Evaluate the probability density function (PDF) of the random variable at `x_val`.\n",
    "\n",
    "      :param float x_val: The value at which to evaluate the PDF.\n",
    "      :param bool safeCalc: see :py:attr:`safeCalc`\n",
    "      :return: The value of the PDF at `x_val`.\n",
    "      :rtype: float\n",
    "      \n",
    "   .. py:method:: pdf_array(x_vec, safeCalc=true)\n",
    "\n",
    "      Evaluate the probability density function (PDF) of the random variable for input vector `x_vec`.\n",
    "\n",
    "      :param x_vec: The vector of values at which to evaluate the PDF.\n",
    "      :type x_vec: numpy.ndarray\n",
    "      :param bool safeCalc: see :py:attr:`safeCalc`\n",
    "      :return: The vector of PDF values associated with `x_vec`.\n",
    "      :rtype: numpy.ndarray\n",
    "      \n",
    "   .. py:method:: pdf_log(x_val)\n",
    "\n",
    "      Evaluate the natural logarithm of the probability density function (PDF) of the random variable at `x_val`.\n",
    "\n",
    "      :param float x_val: The value at which to evaluate the natural logarithm of the PDF.\n",
    "      :param bool safeCalc: see :py:attr:`safeCalc`\n",
    "      :return: The value of the natural logarithm of the PDF at `x_val`\n",
    "      :rtype: float\n",
    "      \n",
    "   .. py:method:: cdf(x_val, safeCalc=true)\n",
    "\n",
    "      Evaluate the cumulative distribution function (CDF) of the random variable at `x_val`.\n",
    "\n",
    "      :param float x_val: The value at which to evaluate the CDF.\n",
    "      :param bool safeCalc: see :py:attr:`safeCalc`\n",
    "      :return: The value of the CDF at `x_val`.\n",
    "      :rtype: :type:`flx_pr`\n",
    "\n",
    "   .. py:method:: cdf_array(x_vec, safeCalc=true)\n",
    "\n",
    "      Evaluate the cumulative distribution function (CDF) of the random variable for input vector `x_vec`.\n",
    "\n",
    "      :param x_vec: The vector of values at which to evaluate the CDF.\n",
    "      :type x_vec: numpy.ndarray\n",
    "      :param bool safeCalc: see :py:attr:`safeCalc`\n",
    "      :return: The vector of CDF values associated with `x_vec`.\n",
    "      :rtype: numpy.ndarray\n",
    "      \n",
    "   .. py:method:: sf(x_val, safeCalc=true)\n",
    "\n",
    "      Evaluate the survival function of the random variable at `x_val`, which is defined as ``1.-CDf(x_val)``.\n",
    "\n",
    "      :param float x_val: The value at which to evaluate the survival function.\n",
    "      :param bool safeCalc: see :py:attr:`safeCalc`\n",
    "      :return: The value of the survival function at `x_val`\n",
    "      :rtype: :type:`flx_pr`\n",
    "      \n",
    "   .. py:method:: sf_array(x_vec, safeCalc=true)\n",
    "\n",
    "      Evaluate the survival function of the random variable for input vector `x_vec`.\n",
    "\n",
    "      :param x_vec: The vector of values at which to evaluate the survival function.\n",
    "      :type x_vec: numpy.ndarray\n",
    "      :param bool safeCalc: see :py:attr:`safeCalc`\n",
    "      :return: The vector of CDF values associated with `x_vec`.\n",
    "      :rtype: numpy.ndarray\n",
    "      \n",
    "   .. py:method:: icdf(p)\n",
    "\n",
    "      Evaluates the inverse of the CDF of the random variable for probability `p`.\n",
    "\n",
    "      :param p: The probability at which to evaluate the CDF.\n",
    "      :type p: :type:`flx_pr`\n",
    "      :return: The value at which `CDF(value)=p`\n",
    "      :rtype: float\n",
    "\n",
    "   .. py:method:: icdf_array(p_vec, safeCalc=true)\n",
    "\n",
    "      Evaluate the inverse of the CDF of the random variable for input vector `x_vec`.\n",
    "\n",
    "      :param p_vec: The vector of probabilities at which to evaluate the CDF.\n",
    "      :type p_vec: numpy.ndarray\n",
    "      :param bool safeCalc: see :py:attr:`safeCalc`\n",
    "      :return: The vector of values at which `CDF(values)=p_vec`\n",
    "      :rtype: numpy.ndarray\n",
    "      \n",
    "   .. py:method:: x2y(x_val)\n",
    "\n",
    "      Transform `x_val` from original space into standard Normal space.\n",
    "\n",
    "      :param float x_val: A value in the domain of the random variable.\n",
    "      :return: The equivalent of `x_val` in standard Normal space.\n",
    "      :rtype: float\n",
    "      \n",
    "   .. py:method:: y2x(y_val)\n",
    "\n",
    "      Transform `y_val` from standard Normal space into original space.\n",
    "\n",
    "      :param float x_val: Realization of a standard Normal random variable.\n",
    "      :return: The equivalent of `y_val` in the space of the random variable at hand.\n",
    "      :rtype: float\n",
    "      \n",
    "   .. py:method:: sample()\n",
    "\n",
    "      Returns a random realization of the random variable.\n",
    "\n",
    "      :rtype: float\n",
    "      \n",
    "   .. py:method:: sample_array(x_vec)\n",
    "\n",
    "      Assigns random realizations to the values of `x_vec`.\n",
    "\n",
    "      :param x_vec: The array to which to assign realizations. Note that the array is modified!\n",
    "      :type x_vec: numpy.ndarray\n",
    "      :rtype: None      \n",
    "      \n",
    "   .. py:method:: mean()\n",
    "\n",
    "      Returns the mean value of the random variable.\n",
    "\n",
    "      :rtype: float\n",
    "      \n",
    "   .. py:method:: sd()\n",
    "\n",
    "      Returns the standard deviation of the random variable.\n",
    "\n",
    "      :rtype: float\n",
    "      \n",
    "   .. py:method:: median()\n",
    "\n",
    "      Returns the median of the random variable.\n",
    "\n",
    "      :rtype: float\n",
    "      \n",
    "   .. py:method:: mode()\n",
    "\n",
    "      Returns the mode of the random variable.\n",
    "\n",
    "      :rtype: float\n",
    "      \n",
    "   .. py:method:: entropy()\n",
    "\n",
    "      Returns the entropy of the random variable.\n",
    "\n",
    "      :rtype: float\n",
    "      \n",
    "   .. py:method:: check_x(x_val)\n",
    "\n",
    "      Checks if `x_val` is within the valid domain of the random variable at hand.\n",
    "\n",
    "      :param float x_val: The value to check.\n",
    "      :return: `true`, if `x_val` is within the valid domain and `false` otherwise.\n",
    "      :rtype: bool\n",
    "      \n",
    "   .. py:method:: get_HPD(p)\n",
    "\n",
    "      Returns the lower quantile value of the HPD (highest probability density) interval of the distribution.\n",
    "\n",
    "      :param p: The probability that the HPD interval should enclose.\n",
    "      :type p: :type:`flx_pr`\n",
    "      :rtype: float\n",
    "      \n",
    "   .. py:method:: info()\n",
    "\n",
    "      Returns information about the random variable at hand.\n",
    "\n",
    "      :rtype: dict\n",
    "      \n",
    "```"
   ]
  },
  {
   "cell_type": "markdown",
   "metadata": {},
   "source": [
    "```{eval-rst}\n",
    ".. py:type:: flx_rv_config\n",
    "   :canonical: dict\n",
    "\n",
    "   Syntax:\n",
    "       ``CONFIG``\n",
    "\n",
    "   Description:   \n",
    "       The configuration used to initialize a random variable, where `CONFIG` is of type *dict*.\n",
    "\n",
    "   The following keys are allowed independent of the :type:`type of the random variable<flx_rv_type>`:\n",
    "     - ``type`` (:type:`flx_rv_type`): The type of the random variable (*required*).\n",
    "     - ``name`` (:type:`rvID`): The name to assign to the random variable. If the random variable is defined through :class:`flx.rv`, specifying a name is *optional*.\n",
    "     - ``eval_once`` (*bool*, default: *False*): Setting ``eval_once`` to `true` can result in a considerable performance gain. However, if the parameters of the probability distribution are functions of other random variables, ``eval_once`` must not be set to `true`.\n",
    "     - ``descr`` (*str*, default:\"\"): A arbitrary description of the random variable.\n",
    "     \n",
    "   Additionally, depending on the specified ``type`` of the random variable, other keys can be required for definition.\n",
    "```"
   ]
  },
  {
   "cell_type": "markdown",
   "metadata": {},
   "source": [
    "```{eval-rst}\n",
    ".. py:property:: safeCalc\n",
    "   :type: bool\n",
    "\n",
    "   ``safeCalc`` is a parameter of some methods of :class:`flx.rv`.\n",
    "   \n",
    "   If set to `true`, it is ensured that `x_val` is within the valid domain of the random variable before evaluating the PDF. Setting this to `false` implicitly assumes that `x_val` is within the valid domain and can result in a performance gain (at the cost of stability if the value is outside of the valid domain).\n",
    "```"
   ]
  },
  {
   "cell_type": "markdown",
   "metadata": {},
   "source": [
    "```{eval-rst}\n",
    ".. py:type:: rvID\n",
    "   :canonical: Word\n",
    "   \n",
    "   Syntax:\n",
    "       ``Word``\n",
    "\n",
    "   Description:\n",
    "       This data-type assigns a unique identifier (of type :type:`Word`) to a random variable (of type :class:`flx.rv`).\n",
    "```"
   ]
  },
  {
   "cell_type": "markdown",
   "metadata": {},
   "source": [
    "```{eval-rst}\n",
    ".. py:type:: flx_pr\n",
    "   :canonical: float\n",
    "\n",
    "   Syntax:\n",
    "       ``VALUE``\n",
    "\n",
    "   Description:\n",
    "       A probability that can take a value on the interval :math:`[0,1]`.\n",
    "```"
   ]
  },
  {
   "cell_type": "markdown",
   "metadata": {},
   "source": [
    "### Example\n",
    "Let's [set up the engine of Fesslix](content:start:engine):"
   ]
  },
  {
   "cell_type": "code",
   "execution_count": 1,
   "metadata": {},
   "outputs": [
    {
     "data": {
      "text/plain": [
       "0"
      ]
     },
     "execution_count": 1,
     "metadata": {},
     "output_type": "execute_result"
    },
    {
     "name": "stdout",
     "output_type": "stream",
     "text": [
      "Random Number Generator: MT19937 - initialized with rand()=1625777956;\n",
      "Random Number Generator: MT19937 - initialized with 1000 initial calls.\n"
     ]
    }
   ],
   "source": [
    "import fesslix as flx\n",
    "flx.load_engine()"
   ]
  },
  {
   "cell_type": "markdown",
   "metadata": {},
   "source": [
    "A standard Normal random variable does not expect any additional parameters:"
   ]
  },
  {
   "cell_type": "code",
   "execution_count": 2,
   "metadata": {},
   "outputs": [
    {
     "name": "stdout",
     "output_type": "stream",
     "text": [
      "standard Normal distribution\n",
      "  mean    = 0\n",
      "  std.dev = 1\n",
      "  entropy = 1.418939\n",
      "\n",
      "  x     cdf       sf\n",
      "-3.0  1.35e-03  9.99e-01\n",
      "-1.5  6.68e-02  9.33e-01\n",
      " 0.0  5.00e-01  5.00e-01\n",
      " 1.5  9.33e-01  6.68e-02\n",
      " 3.0  9.99e-01  1.35e-03\n"
     ]
    }
   ],
   "source": [
    "rv_0 = flx.rv({'type':'stdn'})\n",
    "print( rv_0.info() )\n",
    "print(\"  x     cdf       sf\")\n",
    "for x in [ -3., -1.5, 0., 1.5, 3. ]:\n",
    "    print( f\"{x:4.1f}  {rv_0.cdf(x):.2e}  {rv_0.sf(x):.2e}\" )"
   ]
  },
  {
   "cell_type": "markdown",
   "metadata": {},
   "source": [
    "A Normal random variable requires additional parameters:"
   ]
  },
  {
   "cell_type": "code",
   "execution_count": 6,
   "metadata": {},
   "outputs": [
    {
     "name": "stdout",
     "output_type": "stream",
     "text": [
      "Normal distribution\n",
      "  mean    = 4\n",
      "  std.dev = 1.5\n",
      "  entropy = 1.824404\n",
      "\n",
      "  x     cdf       sf\n",
      "-3.0  1.53e-06  1.00e+00\n",
      "-1.5  1.23e-04  1.00e+00\n",
      " 0.0  3.83e-03  9.96e-01\n",
      " 1.5  4.78e-02  9.52e-01\n",
      " 3.0  2.52e-01  7.48e-01\n"
     ]
    }
   ],
   "source": [
    "rv_1 = flx.rv({'type':'normal', 'mu':4, 'sd':1.5})\n",
    "print( rv_1.info() )\n",
    "print(\"  x     cdf       sf\")\n",
    "for x in [ -3., -1.5, 0., 1.5, 3. ]:\n",
    "    print( f\"{x:4.1f}  {rv_1.cdf(x):.2e}  {rv_1.sf(x):.2e}\" )"
   ]
  },
  {
   "cell_type": "markdown",
   "metadata": {},
   "source": [
    "## Types of random variables\n",
    "\n",
    "```{eval-rst}\n",
    ".. type:: flx_rv_type\n",
    "   :canonical: str\n",
    "\n",
    "   Syntax:\n",
    "       ``TYPE``\n",
    "\n",
    "   Description:\n",
    "       Specifies the type of a random variable.\n",
    "\n",
    "   The following values/types for random variables can be used:\n",
    "     - ``stdn`` » :ref:`content:rv:stdn`\n",
    "     - ``normal`` » :ref:`content:rv:normal`\n",
    "     - ``logn`` » :ref:`content:rv:logn`\n",
    "     - ``uniform`` » :ref:`content:rv:uniform`\n",
    "     - ``beta`` » :ref:`content:rv:beta`\n",
    "     - ``studentst`` » :ref:`content:rv:studentst`\n",
    "     - ``studentstgen`` » :ref:`content:rv:studentstgen`\n",
    "     - ``logt`` » :ref:`content:rv:logt`\n",
    "     - ``genpareto`` » :ref:`content:rv:genpareto`\n",
    "     - ``quantiles`` » :ref:`content:rv:quantiles`\n",
    "```"
   ]
  },
  {
   "cell_type": "code",
   "execution_count": null,
   "metadata": {},
   "outputs": [],
   "source": []
  }
 ],
 "metadata": {
  "kernelspec": {
   "display_name": "Python (.venv-fesslix)",
   "language": "python",
   "name": ".venv-fesslix"
  },
  "language_info": {
   "codemirror_mode": {
    "name": "ipython",
    "version": 3
   },
   "file_extension": ".py",
   "mimetype": "text/x-python",
   "name": "python",
   "nbconvert_exporter": "python",
   "pygments_lexer": "ipython3",
   "version": "3.13.3"
  },
  "widgets": {
   "application/vnd.jupyter.widget-state+json": {
    "state": {},
    "version_major": 2,
    "version_minor": 0
   }
  }
 },
 "nbformat": 4,
 "nbformat_minor": 4
}
