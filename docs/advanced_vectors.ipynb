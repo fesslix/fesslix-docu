{
 "cells": [
  {
   "cell_type": "markdown",
   "metadata": {},
   "source": [
    "# Vector-valued functions\n",
    "\n",
    "Some parameters require a function that returns a vector/array:"
   ]
  },
  {
   "cell_type": "markdown",
   "metadata": {},
   "source": [
    "```{eval-rst}\n",
    ".. py:type:: flxVecPara\n",
    "\n",
    "   Syntax:\n",
    "       :canonical: str | numpy.ndarray | collections.abc.Callable\n",
    "\n",
    "   Description:\n",
    "       A parameter that can pass a callable expression that returns an array (of pre-specified dimension ``N``).\n",
    "\n",
    "   The dimension ``N`` is defined separately and mentioned in the documentation of each parameter of type `flxVecPara`.\n",
    "\n",
    "   The following types are accepted as input:\n",
    "     - ``list``: A list of size `N` where each entry is of type :type:`FlxPara`.\n",
    "     - ``str``: The content of the string is parsed as a callable expression of type :type:`FlxMtxCode`.\n",
    "     - ``callable``: A Python-callable that does not require any parameters is expected. Alternatively, a single parameter can  be used as a reference to the result array - in which case the returned value of the function is ignored.\n",
    "     - ``numpy.ndarray``: A `numpy.ndarray` is assigned as value for the parameter.\n",
    "```\n",
    "**Example**:"
   ]
  },
  {
   "cell_type": "code",
   "execution_count": 1,
   "metadata": {},
   "outputs": [
    {
     "name": "stdout",
     "output_type": "stream",
     "text": [
      "Random Number Generator: MT19937 - initialized with rand()=2116366506;\n",
      "Random Number Generator: MT19937 - initialized with 1000 initial calls.\n",
      "[2.2 2.2 2.2 2.2 2.2]\n",
      "[0.  2.2 4.4 6.6 8.8]\n",
      "[ 3.14159265e+00  2.20000000e+00  4.20000000e+01  1.22464680e-16\n",
      " -1.00000000e+00]\n",
      "[3.14159265 3.14159265 3.14159265 3.14159265 3.14159265]\n",
      "[7.1 7.1 7.1 7.1 7.1]\n"
     ]
    }
   ],
   "source": [
    "import fesslix as flx\n",
    "flx.load_engine()\n",
    "import numpy as np\n",
    "\n",
    "## ==============================================\n",
    "## flxVecPara through Python function\n",
    "## ==============================================\n",
    "\n",
    "## -----------------------------------------\n",
    "## function returns a numpy array\n",
    "## -----------------------------------------\n",
    "a = 3.3\n",
    "def vec_help_a():\n",
    "    return np.ones(5)*a\n",
    "a = 2.2\n",
    "vec_1a = flx.eval_vfun(5,vec_help_a) \n",
    "print( vec_1a )\n",
    "\n",
    "## -----------------------------------------\n",
    "## function takes array as argument\n",
    "## -----------------------------------------\n",
    "def vec_help_b(res_vec):\n",
    "    for i in range(5):\n",
    "        res_vec[i] = a*i\n",
    "vec_1b = flx.eval_vfun(5,vec_help_b) \n",
    "print( vec_1b )\n",
    "\n",
    "## ==============================================\n",
    "## flxVecPara as list of flxPara\n",
    "## ==============================================\n",
    "def fun_hlp_2():\n",
    "    return 42.\n",
    "vec_2 = flx.eval_vfun(5,[ \"pi\", lambda: a, fun_hlp_2, \"sin(pi)\", \"cos(pi)\" ])\n",
    "print( vec_2 )\n",
    "\n",
    "## ==============================================\n",
    "## flxVecPara as Fesslix-Code\n",
    "## ==============================================\n",
    "vec_3 = flx.eval_vfun(5,\"\"\"my_vec={\n",
    "    mtxconst_new my_vec(5,1,pi);\n",
    "}\"\"\")\n",
    "print( vec_3 )\n",
    "\n",
    "## ==============================================\n",
    "## flxVecPara directly as <ndarray>\n",
    "## ==============================================\n",
    "vec_4 = flx.eval_vfun(5,np.ones(5)*7.1)\n",
    "print( vec_4 )"
   ]
  },
  {
   "cell_type": "markdown",
   "metadata": {},
   "source": [
    "```{eval-rst}\n",
    ".. py:type:: FlxMtxCode\n",
    "\n",
    "   .. code-block::\n",
    "      \n",
    "         VECNAME=CODE\n",
    "\n",
    "   Description:\n",
    "       Returns a vector from Fesslix with name ``VECNAME`` (of type :type:`Word`) that is created/modified by the code in ``CODE`` (of type :type:`FlxCode`).\n",
    "\n",
    "```"
   ]
  }
 ],
 "metadata": {
  "kernelspec": {
   "display_name": "Python (.venv-fesslix)",
   "language": "python",
   "name": ".venv-fesslix"
  },
  "language_info": {
   "codemirror_mode": {
    "name": "ipython",
    "version": 3
   },
   "file_extension": ".py",
   "mimetype": "text/x-python",
   "name": "python",
   "nbconvert_exporter": "python",
   "pygments_lexer": "ipython3",
   "version": "3.13.2"
  },
  "widgets": {
   "application/vnd.jupyter.widget-state+json": {
    "state": {},
    "version_major": 2,
    "version_minor": 0
   }
  }
 },
 "nbformat": 4,
 "nbformat_minor": 4
}
