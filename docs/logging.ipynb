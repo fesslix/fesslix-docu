{
 "cells": [
  {
   "cell_type": "markdown",
   "metadata": {},
   "source": [
    "# Logging"
   ]
  },
  {
   "cell_type": "markdown",
   "metadata": {},
   "source": [
    "By default, all output and logging messages of Fesslix are sent to standard output. The logging behavior of Fesslix can be configured."
   ]
  },
  {
   "cell_type": "markdown",
   "metadata": {},
   "source": [
    "## Log levels in Fesslix\n",
    "\n",
    "* **1** » alerts and errors are logged (`ALERT`)\n",
    "* **2** » warnings are logged (`WARNING`)\n",
    "* **3** » normal but significant information is logged (`NOTICE`)\n",
    "* **4** » informational (`INFO`)\n",
    "* **5** » debug-level messages (`DEBUG`)\n",
    "## Generate user-defined log messages\n",
    "You can also use the logging interface of Fesslix from within Python:"
   ]
  },
  {
   "cell_type": "code",
   "execution_count": 1,
   "metadata": {},
   "outputs": [
    {
     "name": "stdout",
     "output_type": "stream",
     "text": [
      "Fesslix::core » loaded\n",
      "Hello world!"
     ]
    }
   ],
   "source": [
    "import fesslix as flx\n",
    "\n",
    "## Use flx.slog(LOG_LEVEL,LOG_MESSAGE) to generate a log entry\n",
    "##    LOG_LEVEL   :: int\n",
    "##    LOG_MESSAGE :: string\n",
    "flx.slog(3, \"Hello world!\")"
   ]
  },
  {
   "cell_type": "markdown",
   "metadata": {},
   "source": [
    "## Using a logger from Python's logging module\n",
    "However, you can also use Python's `logging` module to configure the logging behavior of Fesslix. For information on how to use the `logging` module, check out the [documentation](https://docs.python.org/3/howto/logging.html) or this [tutorial](https://realpython.com/python-logging/).\n",
    "\n",
    "Python's `logging` module uses the following default log levels: `DEBUG`, `INFO`, `WARNING`, `ERROR` and `CRITICAL`.\n",
    "\n",
    "The following example demonstrates how to set up a logger in Python that logs to both the command line and into a file:"
   ]
  },
  {
   "cell_type": "code",
   "execution_count": 2,
   "metadata": {},
   "outputs": [],
   "source": [
    "import logging\n",
    "\n",
    "## ===========================\n",
    "## Create and configure logger\n",
    "## ===========================\n",
    "logger = logging.getLogger(\"fesslix\")   ## you can assign any name to the logger you want\n",
    "logger.setLevel(logging.DEBUG)\n",
    "## If you increase the log-Level, \n",
    "## only log messages at least as important as the specified level \n",
    "## will be outputted.\n",
    "\n",
    "## =====================\n",
    "## Create a file handler\n",
    "## =====================\n",
    "## Send log messages to file 'fesslix.log':\n",
    "file_handler = logging.FileHandler(\"fesslix.log\", mode=\"w\") \n",
    "## mode: 'w' » overwrite existing log-file\n",
    "##       'a' » append to existing log-file\n",
    "file_handler.setLevel(logging.DEBUG)\n",
    "\n",
    "## Define a log format\n",
    "formatter = logging.Formatter(\n",
    "       \"{asctime} » {levelname} » {message}\",\n",
    "        style=\"{\",\n",
    "        datefmt=\"%Y-%m-%d %H:%M\",\n",
    "    )\n",
    "file_handler.setFormatter(formatter)\n",
    "\n",
    "## Add handler to the logger\n",
    "logger.addHandler(file_handler)\n",
    "\n",
    "## =====================\n",
    "## Create a console handler\n",
    "## =====================\n",
    "## Send log messages to the console:\n",
    "console_handler = logging.StreamHandler()\n",
    "console_handler.setLevel(logging.INFO)\n",
    "## log only messages with level equal to at least 'INFO' to the console.\n",
    "\n",
    "## Define a log format\n",
    "formatter = logging.Formatter(\"{levelname} - {message}\", style=\"{\")\n",
    "console_handler.setFormatter(formatter)\n",
    "\n",
    "## Add handler to the logger\n",
    "logger.addHandler(console_handler)"
   ]
  },
  {
   "cell_type": "markdown",
   "metadata": {},
   "source": [
    "It is important to set not only the log-level of each handler, but also the log-Level of `logger`. Log messages will appear on a specific handler if the log-Level of the message is at least as important as the log-Level specified for both the handler and the `logger`.\n",
    "\n",
    "In order to link the `logger` to Fesslix, use `set_logger(LOGGER)`:"
   ]
  },
  {
   "cell_type": "code",
   "execution_count": 8,
   "metadata": {},
   "outputs": [
    {
     "name": "stderr",
     "output_type": "stream",
     "text": [
      "INFO - Hello again!\n",
      "INFO - Hi!\n",
      "WARNING - See you!\n"
     ]
    }
   ],
   "source": [
    "## link the 'logger' to fesslix:\n",
    "flx.set_logger(logger)\n",
    "\n",
    "## Now Fesslix uses 'logger':\n",
    "flx.slog(3, \"Hello again!\")\n",
    "logger.info(\"Hi!\")\n",
    "flx.slog(2, \"See you!\")"
   ]
  },
  {
   "cell_type": "markdown",
   "metadata": {},
   "source": [
    "The content of the generated log file 'fesslix.log' is:"
   ]
  },
  {
   "cell_type": "code",
   "execution_count": 6,
   "metadata": {},
   "outputs": [
    {
     "name": "stdout",
     "output_type": "stream",
     "text": [
      "2025-02-26 16:23 » INFO » Hello again!\n",
      "2025-02-26 16:23 » INFO » Hi!\n",
      "2025-02-26 16:23 » WARNING » See you!\n"
     ]
    }
   ],
   "source": [
    "!cat fesslix.log"
   ]
  },
  {
   "cell_type": "code",
   "execution_count": null,
   "metadata": {},
   "outputs": [],
   "source": []
  }
 ],
 "metadata": {
  "kernelspec": {
   "display_name": "Python (.venv-fesslix)",
   "language": "python",
   "name": ".venv-fesslix"
  },
  "language_info": {
   "codemirror_mode": {
    "name": "ipython",
    "version": 3
   },
   "file_extension": ".py",
   "mimetype": "text/x-python",
   "name": "python",
   "nbconvert_exporter": "python",
   "pygments_lexer": "ipython3",
   "version": "3.13.2"
  },
  "widgets": {
   "application/vnd.jupyter.widget-state+json": {
    "state": {},
    "version_major": 2,
    "version_minor": 0
   }
  }
 },
 "nbformat": 4,
 "nbformat_minor": 4
}
