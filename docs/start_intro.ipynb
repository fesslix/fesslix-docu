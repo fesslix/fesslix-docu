{
 "cells": [
  {
   "cell_type": "markdown",
   "metadata": {},
   "source": [
    "(content:start:engine)=\n",
    "# Setting up the Engine of Fesslix\n",
    "\n",
    "## Introduction\n",
    "Before you can use the Python module *Fesslix*, you need to {ref}`content:basics:intro:import` and {ref}`content:basics:intro:load_engine`.\n",
    "\n",
    "In case you want to load/process {ref}`content:config:options` for *Fesslix*, you need to do this before starting the engine (see {ref}`content:config:options:manual`).\n",
    "\n",
    "```{note}\n",
    "Ensure that Python is started [using the virtual environment in which you installed Fesslix](content:start:installation:activate-venv).\n",
    "```"
   ]
  },
  {
   "cell_type": "markdown",
   "metadata": {},
   "source": [
    "(content:basics:intro:import)=\n",
    "## Import the module in Python\n",
    "To import the Python module *Fesslix*, execute:"
   ]
  },
  {
   "cell_type": "code",
   "execution_count": 2,
   "metadata": {},
   "outputs": [],
   "source": [
    "import fesslix as flx"
   ]
  },
  {
   "cell_type": "markdown",
   "metadata": {},
   "source": [
    "However, before you can actually work with the module, you must {ref}`content:basics:intro:load_engine`."
   ]
  },
  {
   "cell_type": "markdown",
   "metadata": {},
   "source": [
    "(content:basics:intro:load_engine)=\n",
    "## Start the Fesslix engine\n",
    "The engine of Fesslix is started using {func}`flx.load_engine`:"
   ]
  },
  {
   "cell_type": "markdown",
   "metadata": {},
   "source": [
    "```{eval-rst}\n",
    ".. function:: flx.load_engine\n",
    "\n",
    "    Syntax:\n",
    "        ``flx.load_engine()``\n",
    "\n",
    "    Description:\n",
    "        Starts the engine of Fesslix.\n",
    "        Repeated calls to this function will restart the engine of Fesslix.\n",
    "        \n",
    "    :returns: *zero* for success and a value larger than *zero* in case of errors\n",
    "    :rtype: int\n",
    "    \n",
    "```"
   ]
  },
  {
   "cell_type": "code",
   "execution_count": 3,
   "metadata": {},
   "outputs": [
    {
     "data": {
      "text/plain": [
       "0"
      ]
     },
     "execution_count": 3,
     "metadata": {},
     "output_type": "execute_result"
    }
   ],
   "source": [
    "flx.load_engine()"
   ]
  },
  {
   "cell_type": "markdown",
   "metadata": {},
   "source": [
    "```{important}\n",
    "Please make sure that all {ref}`content:config:options` and settings related to {ref}`content:config:logging` are handled **before** starting the engine.\n",
    "```"
   ]
  },
  {
   "cell_type": "markdown",
   "metadata": {},
   "source": [
    "## TODO\n",
    "\n",
    "```{todo}\n",
    "Write this section.\n",
    "```"
   ]
  }
 ],
 "metadata": {
  "kernelspec": {
   "display_name": "Python (.venv-fesslix)",
   "language": "python",
   "name": ".venv-fesslix"
  },
  "language_info": {
   "codemirror_mode": {
    "name": "ipython",
    "version": 3
   },
   "file_extension": ".py",
   "mimetype": "text/x-python",
   "name": "python",
   "nbconvert_exporter": "python",
   "pygments_lexer": "ipython3",
   "version": "3.13.3"
  },
  "widgets": {
   "application/vnd.jupyter.widget-state+json": {
    "state": {},
    "version_major": 2,
    "version_minor": 0
   }
  }
 },
 "nbformat": 4,
 "nbformat_minor": 4
}
