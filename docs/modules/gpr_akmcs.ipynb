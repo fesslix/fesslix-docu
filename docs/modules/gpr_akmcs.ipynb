{
 "cells": [
  {
   "cell_type": "markdown",
   "metadata": {},
   "source": [
    "# AK-MCS"
   ]
  },
  {
   "cell_type": "markdown",
   "metadata": {},
   "source": [
    "## Theory\n",
    "\n",
    "*AK-MCS* is an active learning reliability method combining *Kriging* and *Monte Carlo Simulation*.\n",
    "\n",
    "```{todo}\n",
    "Write this section.\n",
    "```"
   ]
  },
  {
   "cell_type": "markdown",
   "metadata": {},
   "source": [
    "## Syntax"
   ]
  },
  {
   "cell_type": "markdown",
   "metadata": {},
   "source": [
    "```{eval-rst}\n",
    ".. class:: flx.gpr.akmcs\n",
    "\n",
    "   Represents/manages an instance of AK-MCS.\n",
    "\n",
    "   .. method:: __init__(config)\n",
    "\n",
    "      Defines the AK-MCS handler.\n",
    "      \n",
    "      :param config: Configuration directory. The structure of ``config`` is outlined in detail in the following.\n",
    "      :type config: dict\n",
    "\n",
    "      General properties:\n",
    "         The following properties are required/allowed in *config*:\n",
    "\n",
    "         - ``sampler`` (:class:`flx.sampler`): Sampler of a set of random variables.\n",
    "         - ``lsf`` (:type:`flxPara`): Limit-state function of the structural reliability problem to investigate. The function should depend on the random variables associated with ``sampler``.\n",
    "         - ``gp`` (:class:`flx.gpr.gp`, *optional*): Gaussian process for Kriging of the limit-state function.\n",
    "\n",
    "             If not specified, a *zero*-mean Gaussian process with a *Gaussian* kernel structure is used.\n",
    "             \n",
    "             .. important::\n",
    "            \n",
    "                    It is strongly recommended to use only Gaussian processes with a ``mean_type`` of ``\"zero\"`` (see :func:`flx.gpr.gp.__init__`).\n",
    "                    \n",
    "         - ``seed`` (*int*, default: *0*): Seed value for the Pseudo-Random-Number-Generator. Number must be positive or *zero*.\n",
    "         - ``N_RNG_init`` (*int*, default: *0*): Number of initial calls to the Pseudo-Random-Number-Generator. Number must be positive or *zero*.\n",
    "         - ``N_reserve`` (*int*, default:  :math:`10^4`): Memory is allocated for *N_reserve* calls of the actual limit-state function (``lsf``). Number must be positive.\n",
    "         - ``itermax`` (*int*, default: *500*): Maximum number of iterations used for optimizing the *process parameters* of the Gaussian process (see parameter ``itermax`` of :func:`flx.gpr.gp.optimize`).\n",
    "         - ``NmaxSur`` (*int*, default: :math:`10^7`): Maximum number of samples to use for Monte Carlo sampling of the surrogate model. If set to ``0``, an upper limit is not taken into account. Value must not be negative.\n",
    "         - ``Nsmpls`` (*int*, default: :math:`10^6`): Initial number of calls of the surrogate model (per simulation step). Value must be larger than *zero*.\n",
    "         - ``err_thresh`` (*float*, default: *0.3*): Threshold :math:`\\varepsilon_\\mathrm{t}` for evaluating the :ref:`content:gpr:akmcs:stop_crit`. Value must be larger than *zero*.\n",
    "         - ``tqi_val`` (*float*, default: *0.99*): Quantile value for evaluating the :ref:`content:gpr:akmcs:stop_crit`. Value should be within :math:`(0.5,1)`.\n",
    "         - ``data_box`` (:class:`flx.dataBox`): A :class:`flx.dataBox` for post-processing (e.g. writing to a file) of performed limit-state evaluatios. The dimension of the input vector of the :class:`flx.dataBox` must equal the number of standard Normal random variables in ``sampler``, the dimension of the output vector must eqal *one*.\n",
    "\n",
    "   .. py:method:: initialize_with_LHS(N=0)\n",
    "\n",
    "      Generate an initial set of samples for AK-MCS, using ``N`` Latin-hypercube samples.\n",
    "\n",
    "      :param N: Number of samples. Value must be *positive* or *zero*. If *N* is set to ``0``, the number of samples is set to two times the dimension of the input vector.\n",
    "      :type N: int\n",
    "      :rtype: None\n",
    "\n",
    "   .. py:method:: simulate()\n",
    "\n",
    "      Perform a single simulation step using the surrogate model.\n",
    "\n",
    "      :rtype: flx.gpr.akmcs_status\n",
    "      \n",
    "   .. py:attribute:: res\n",
    "       :type: dict\n",
    "\n",
    "       A dictionary that contains information about the previous call to :func:`flx.gpr.akmcs.simulate`.\n",
    "\n",
    "       The dictionary has the following structure:\n",
    "           - ``pf_mle`` (type: *float*): MLE estimate of the probability of failure\n",
    "           - ``mean_pf_bayesian`` (type: *float*): :math:`\\operatorname{E}\\left[p_\\mathrm{f}\\right]`, Bayesian posterior mean value of the probability of failure\n",
    "           - ``Pr_q_tqi`` (type: *float*): :math:`p_\\mathrm{tqi}` (see :ref:`content:gpr:akmcs:stop_crit`), the current value associated with the quantile ``tqi_val``.\n",
    "           - ``err`` (type: *float*): the current error value (see :ref:`content:gpr:akmcs:stop_crit`)\n",
    "           - ``r`` (type: *float*): Value of the ratio :math:`r` (see :ref:`content:gpr:akmcs:stop_crit`) that is associated with :math:`p_\\mathrm{tqi}`.\n",
    "           - ``r_increase_N_surrogate`` (type: *float*): Value of the ratio :math:`r` (see :ref:`content:gpr:akmcs:stop_crit`), if the MCS on the surrogate model is performed with twice as many samples.\n",
    "           - ``r_no_Kriging_uncertainty`` (type: *float*): Value of the ratio :math:`r` (see :ref:`content:gpr:akmcs:stop_crit`), if the uncertainty from the Kriging model is ignored; i.e., only the sampling uncertainty from the surrogate model is considered.\n",
    "           - ``af`` (type: *float*): ``af = (r_increase_N_surrogate-r_no_Kriging_uncertainty)/r``; if this value is positive, the actual limit-state function is evaluated in the next iteration; if the value is negative, the number of surrogate samples is increase in the next iteration.\n",
    "           - ``propose_to_increase_N_smpls_surrogate`` (type: *int*): ``1``, if ``af`` is negative, otherwise ``0``.\n",
    "           - ``N`` (type: *int*): Total number of samples used to perform a Monte Carlo Simulation on the surrogate model.\n",
    "           - ``N_model_calls`` (type: *int*): Total number of observations of the actual limit-state function (i.e., number of data-points to train the surrogate model).\n",
    "           - ``Uval_worst_point`` (type: *float*): The probability about the sign of the limit-state function is quantified for each surrogate sample. ``Uval_worst_point`` corresponds to the standard Normal transformation of this probability. Thus, the larger ``Uval_worst_point`` differs from *zero*, the larger the confidence about the sign of the most uncertain surrogate point.\n",
    "      \n",
    "   .. py:method:: get_GP()\n",
    "\n",
    "      Retrieve a reference to the internal Gaussian process.\n",
    "\n",
    "      .. note::\n",
    "\n",
    "          Do not modify the properties of the returned object to avoid inconsistent behavior.\n",
    "\n",
    "      :rtype: flx.gpr.gp\n",
    "      \n",
    "   .. py:method:: get_N_model_calls(only_from_current_run=True)\n",
    "\n",
    "      Retrieve total number of calls of the actual limit-state function.\n",
    "\n",
    "      :param only_from_current_run: \n",
    "           - ``True``: return number of limit-state function calls from the current instance. \n",
    "           - ``False``: return total number of available observations of the limit-state function.\n",
    "      :type only_from_current_run: bool\n",
    "      :rtype: int\n",
    "      \n",
    "```"
   ]
  },
  {
   "cell_type": "markdown",
   "metadata": {},
   "source": [
    "```{eval-rst}\n",
    ".. py:class:: flx.gpr.akmcs_status\n",
    "\n",
    "   An enumeration of the status of a :class:`flx.gpr.akmcs`.\n",
    "\n",
    "   Members:\n",
    "       - ``undefined``: initial state; the Gaussian process is currently not initialized\n",
    "       - ``defined``: internal state, nothing to do\n",
    "       - ``evalLSF``: requires a new call of the actual limit-state function of the model\n",
    "       - ``increase_N_surrogate``: requires an increase of surrogate samples\n",
    "       - ``decrease_N_surrogate``: a decrease of the number of surrogate samples is proposed\n",
    "       - ``stop_success``: stop is recommended, as error is below the specified threshold\n",
    "       - ``stop_iterLimit``: maximum number of surrogate samples is exceeded\n",
    "       \n",
    "```       "
   ]
  },
  {
   "cell_type": "markdown",
   "metadata": {},
   "source": [
    "(content:gpr:akmcs:stop_crit)=\n",
    "## Stopping criterion\n",
    "\n",
    "The value ``config['tqi_val']`` in {func}`flx.gpr.akmcs.__init__` defines a quantile of the distribution that represents the uncertainty about the value of the probability of failure estimated by {class}`flx.gpr.akmcs` (which includes both the uncertainty from the Kirging model and the sampling uncertainty from MCS on the surrogate model). \n",
    "We refer to the value associated with this quantile as $p_\\mathrm{tqi}$.\n",
    "The ratio $r$ is defined as:\n",
    "\n",
    "$$\n",
    "r = \\frac{p_\\mathrm{tqi}}{\\operatorname{E}\\left[p_\\mathrm{f}\\right]}\\;,\n",
    "$$\n",
    "\n",
    "where $\\operatorname{E}\\left[p_\\mathrm{f}\\right]$ is the Bayesian posterior mean value of the probability of failure.\n",
    "Note that $r$ equals *one* if $p_\\mathrm{tqi}$ equals $\\operatorname{E}\\left[p_\\mathrm{f}\\right]$.\n",
    "\n",
    "The error value $\\varepsilon$ is evaluated based on $r$ as:\n",
    "\n",
    "$$\n",
    "\\varepsilon = r - 1\n",
    "$$\n",
    "\n",
    "The probability of failure estimated through AK-MCS is considered sufficently accurate, when $\\varepsilon\\le\\varepsilon_\\mathrm{t}$ (where $\\varepsilon_\\mathrm{t}$ is defined through value ``config['err']`` in {func}`flx.gpr.akmcs.__init__`).\n",
    "If this condition is met, AK-MCS stops the iteration."
   ]
  },
  {
   "cell_type": "markdown",
   "metadata": {},
   "source": [
    "(content:gpr:akmcs:postproc:import)=\n",
    "## Importing data into an instance of AK-MCS\n",
    "\n",
    "```{eval-rst}\n",
    ".. py:property:: akmcs\n",
    "\n",
    "   A :class:`post-processor<flx.dataBox.postProc>` that imports any sample added to the corresponding :class:`flx.dataBox` to an instance of :class:`flx.gpr.akmcs`.\n",
    "\n",
    "   Parametrization:\n",
    "       Parameters of this post-processor can be specified as additional key-value pairs in an object of type :type:`dataBox_postProc_type`. \n",
    "       The following parameters are accepted:\n",
    "\n",
    "         - ``akmcs`` (:class:`flx.gpr.akmcs`): The instance of :class:`flx.gpr.akmcs` to which to add samples inserted into the :class:`flx.dataBox`.\n",
    "\n",
    "   States:\n",
    "       When the function :func:`flx.dataBox.postProc.eval` is called on this post-processor, the following states are returned:\n",
    "\n",
    "       - ``akmcs`` (:class:`flx.gpr.akmcs`): A reference to the :class:`flx.gpr.akmcs`-instance linked to this :class:`post-processor<flx.dataBox.postProc>`.\n",
    "\n",
    "```"
   ]
  },
  {
   "cell_type": "markdown",
   "metadata": {},
   "source": [
    "## Application Examples\n",
    "### Example 1"
   ]
  },
  {
   "cell_type": "code",
   "execution_count": 1,
   "metadata": {},
   "outputs": [
    {
     "name": "stdout",
     "output_type": "stream",
     "text": [
      "Random Number Generator: MT19937 - initialized with rand()=1529143242;\n",
      "Random Number Generator: MT19937 - initialized with 1000 initial calls.\n"
     ]
    }
   ],
   "source": [
    "import fesslix as flx\n",
    "flx.load_engine()\n",
    "import fesslix.gpr"
   ]
  },
  {
   "cell_type": "code",
   "execution_count": 2,
   "metadata": {},
   "outputs": [],
   "source": [
    "## ==============================================\n",
    "## Generate input model\n",
    "## ==============================================\n",
    "config_rv_R = { 'name':'R', 'type':'logn', 'mu':6., 'sd':1. }\n",
    "config_rv_S = { 'name':'S', 'type':'normal', 'mu':1., 'sd':1.0 }\n",
    "rv_set = flx.rv_set( {'name':'rv_set'}, [ config_rv_R, config_rv_S ] )\n",
    "sampler = flx.sampler(['rv_set'])"
   ]
  },
  {
   "cell_type": "code",
   "execution_count": 3,
   "metadata": {},
   "outputs": [],
   "source": [
    "## ==============================================\n",
    "## Set up dataBox (for storing preformed model calls)\n",
    "## ==============================================\n",
    "dBox_1 = flx.dataBox(2,1)\n",
    "dBox_1.write2file( {\n",
    "    'fname': \"akmcs_samples.bin\",\n",
    "    'append': False,\n",
    "    'binary': True,\n",
    "    'cols': 'all'\n",
    "    } )"
   ]
  },
  {
   "cell_type": "code",
   "execution_count": 4,
   "metadata": {},
   "outputs": [],
   "source": [
    "## ==============================================\n",
    "## Define the AK-MCS sampler\n",
    "## ==============================================\n",
    "config = {\n",
    "        \"sampler\": sampler,\n",
    "        \"lsf\": \"rbrv(rv_set::R)-rbrv(rv_set::S)\",\n",
    "        \"err_thresh\": 0.05,\n",
    "        \"data_box\": dBox_1\n",
    "    }\n",
    "ak_mcs = fesslix.gpr.akmcs(config)"
   ]
  },
  {
   "cell_type": "code",
   "execution_count": 5,
   "metadata": {},
   "outputs": [],
   "source": [
    "## ==============================================\n",
    "## Initialize with Latin-hypercube sampling\n",
    "## ==============================================\n",
    "ak_mcs.initialize_with_LHS(5)"
   ]
  },
  {
   "cell_type": "code",
   "execution_count": 6,
   "metadata": {},
   "outputs": [
    {
     "name": "stdout",
     "output_type": "stream",
     "text": [
      "akmcs_status.evalLSF {'pf_mle': 0.00023317681449451868, 'mean_pf_bayesian': 0.00023417634614182639, 'err': 2.6772292779142517, 'af': 0.6842458095084958, 'r': 3.6772292779142517, 'r_increase_N_surrogate': 3.674377511550564, 'r_no_Kriging_uncertainty': 1.1582487875357854, 'r_no_Kriging_uncertainty_AND_N_half': 1.2321542359662232, 'propose_to_increase_N_smpls_surrogate': 0, 'N': 1000000, 'N_model_calls': 5, 'Uval_worst_point': 0.004629937881319396, 'Pr_q_tqi': 0.0008611201162277061}\n"
     ]
    }
   ],
   "source": [
    "## ==============================================\n",
    "## Perform a single simulation step\n",
    "## ==============================================\n",
    "state = ak_mcs.simulate()\n",
    "print(state, ak_mcs.res)"
   ]
  },
  {
   "cell_type": "code",
   "execution_count": 7,
   "metadata": {},
   "outputs": [
    {
     "name": "stdout",
     "output_type": "stream",
     "text": [
      "»» LSE-results  logl=-10.2334  »»  sd_obsv [8.561902 <- 4.759064] »»  sd_Z [8.561902 <- 4.759064] »»  sd_noise [8.561902e-4 <- 4.759064e-4] \n",
      "\n",
      "{'type': ['gauss', 'gauss'], 'para_vec': array([4.75906436, 7.69838173, 7.31099519]), 'n_vec': array([1.        , 1.9369855 , 1.98087669]), 'kernel_sd': 4.759064360890354}\n"
     ]
    }
   ],
   "source": [
    "## ==============================================\n",
    "## Retrieve the current state of AK-MCS\n",
    "## ==============================================\n",
    "gp = ak_mcs.get_GP()\n",
    "gp_info = gp.info()\n",
    "print( gp_info['noise_log'] )\n",
    "print( gp_info['kernel'] )\n",
    "#print( gp_info['opt_log'] )"
   ]
  },
  {
   "cell_type": "code",
   "execution_count": 8,
   "metadata": {},
   "outputs": [
    {
     "name": "stdout",
     "output_type": "stream",
     "text": [
      "akmcs_status.evalLSF {'pf_mle': 0.00010080173514854765, 'mean_pf_bayesian': 0.00010180153154548456, 'err': 0.6979391635653349, 'af': 0.24812366619591147, 'r': 1.697939163565335, 'r_increase_N_surrogate': 1.6661846572826973, 'r_no_Kriging_uncertainty': 1.244885767041247, 'r_no_Kriging_uncertainty_AND_N_half': 1.366028029669237, 'propose_to_increase_N_smpls_surrogate': 0, 'N': 1000000, 'N_model_calls': 6, 'Uval_worst_point': 0.022032125455684996, 'Pr_q_tqi': 0.0001728528073220101}\n",
      "akmcs_status.increase_N_surrogate {'pf_mle': 5.069577894970781e-05, 'mean_pf_bayesian': 5.169567555835669e-05, 'err': 0.436545510071632, 'af': -0.012111499867191447, 'r': 1.436545510071632, 'r_increase_N_surrogate': 1.334268423173683, 'r_no_Kriging_uncertainty': 1.35166714392813, 'r_no_Kriging_uncertainty_AND_N_half': 1.5372428891184329, 'propose_to_increase_N_smpls_surrogate': 1, 'N': 1000000, 'N_model_calls': 7, 'Uval_worst_point': 0.11912529830116211, 'Pr_q_tqi': 7.426319061347711e-05}\n",
      "akmcs_status.evalLSF {'pf_mle': 5.248181482265811e-05, 'mean_pf_bayesian': 5.298176184089627e-05, 'err': 0.32071585808422576, 'af': 0.014660067432400756, 'r': 1.3207158580842258, 'r_increase_N_surrogate': 1.2591209610416454, 'r_no_Kriging_uncertainty': 1.2397591775030896, 'r_no_Kriging_uncertainty_AND_N_half': 1.3579796647749443, 'propose_to_increase_N_smpls_surrogate': 0, 'N': 2000000, 'N_model_calls': 7, 'Uval_worst_point': 0.002669018634342505, 'Pr_q_tqi': 6.997385305251341e-05}\n",
      "akmcs_status.increase_N_surrogate {'pf_mle': 5.4356306981339606e-05, 'mean_pf_bayesian': 5.485625212508748e-05, 'err': 0.24483644586949627, 'af': -0.05179733122414533, 'r': 1.2448364458694963, 'r_increase_N_surrogate': 1.1709163945582794, 'r_no_Kriging_uncertainty': 1.2353956002648696, 'r_no_Kriging_uncertainty_AND_N_half': 1.3511405353617685, 'propose_to_increase_N_smpls_surrogate': 1, 'N': 2000000, 'N_model_calls': 8, 'Uval_worst_point': 0.011514283851455843, 'Pr_q_tqi': 6.82870619291149e-05}\n",
      "akmcs_status.increase_N_surrogate {'pf_mle': 5.065529807066473e-05, 'mean_pf_bayesian': 5.090527261802842e-05, 'err': 0.18123852731542245, 'af': -0.03352091832794654, 'r': 1.1812385273154224, 'r_increase_N_surrogate': 1.1306111596795505, 'r_no_Kriging_uncertainty': 1.1702073598795146, 'r_no_Kriging_uncertainty_AND_N_half': 1.2503580952454476, 'propose_to_increase_N_smpls_surrogate': 1, 'N': 4000000, 'N_model_calls': 8, 'Uval_worst_point': 0.011514283851455843, 'Pr_q_tqi': 6.013126925990999e-05}\n",
      "akmcs_status.increase_N_surrogate {'pf_mle': 5.874496620838519e-05, 'mean_pf_bayesian': 5.886995149089732e-05, 'err': 0.12490864336276286, 'af': -0.013226610941313142, 'r': 1.1249086433627629, 'r_increase_N_surrogate': 1.095426759492935, 'r_no_Kriging_uncertainty': 1.1103054884632146, 'r_no_Kriging_uncertainty_AND_N_half': 1.1600926737655168, 'propose_to_increase_N_smpls_surrogate': 1, 'N': 8000000, 'N_model_calls': 8, 'Uval_worst_point': 0.011514283851455843, 'Pr_q_tqi': 6.622331726645695e-05}\n",
      "akmcs_status.stop_iterLimit {'pf_mle': 6.107650084554449e-05, 'mean_pf_bayesian': 6.117648861024677e-05, 'err': 0.10966525079862355, 'af': -0.010605558123058446, 'r': 1.1096652507986235, 'r_increase_N_surrogate': 1.084680077968987, 'r_no_Kriging_uncertainty': 1.09644869728347, 'r_no_Kriging_uncertainty_AND_N_half': 1.139539619025312, 'propose_to_increase_N_smpls_surrogate': 1, 'N': 10000000, 'N_model_calls': 8, 'Uval_worst_point': 0.011514283851455843, 'Pr_q_tqi': 6.788542357666862e-05}\n",
      "8\n"
     ]
    }
   ],
   "source": [
    "for i in range(10):\n",
    "    state = ak_mcs.simulate()\n",
    "    print(state, ak_mcs.res)\n",
    "    if state == fesslix.gpr.akmcs_status.stop_success or state == fesslix.gpr.akmcs_status.stop_iterLimit:\n",
    "        break\n",
    "dBox_1.close_file()\n",
    "print(ak_mcs.get_N_model_calls())"
   ]
  },
  {
   "cell_type": "markdown",
   "metadata": {},
   "source": [
    "### Example 2 - restart sampling"
   ]
  },
  {
   "cell_type": "code",
   "execution_count": 9,
   "metadata": {},
   "outputs": [],
   "source": [
    "## ==============================================\n",
    "## Set up dataBox (for storing preformed model calls)\n",
    "## ==============================================\n",
    "dBox_2 = flx.dataBox(2,1)\n",
    "dBox_2.write2file( {\n",
    "    'fname': \"akmcs_samples.bin\",\n",
    "    'append': True,\n",
    "    'binary': True,\n",
    "    'cols': 'all'\n",
    "    } )"
   ]
  },
  {
   "cell_type": "code",
   "execution_count": 10,
   "metadata": {},
   "outputs": [],
   "source": [
    "## ==============================================\n",
    "## Define the AK-MCS sampler\n",
    "## ==============================================\n",
    "config = {\n",
    "        \"sampler\": sampler,\n",
    "        \"lsf\": \"rbrv(rv_set::R)-rbrv(rv_set::S)\",\n",
    "        \"NmaxSur\": int(1e8),\n",
    "        \"err_thresh\": 0.05,\n",
    "        \"data_box\": dBox_2\n",
    "    }\n",
    "ak_mcs = fesslix.gpr.akmcs(config)"
   ]
  },
  {
   "cell_type": "code",
   "execution_count": 11,
   "metadata": {},
   "outputs": [
    {
     "name": "stdout",
     "output_type": "stream",
     "text": [
      "0 8\n"
     ]
    }
   ],
   "source": [
    "## ==============================================\n",
    "## Initialize with past model calls\n",
    "## ==============================================\n",
    "dBox_3 = flx.dataBox(2,1)\n",
    "dBox_3.register_post_processor({ 'type':'akmcs', 'akmcs':ak_mcs })\n",
    "dBox_3.read_from_file({'fname':\"akmcs_samples.bin\", 'binary':True})\n",
    "print(ak_mcs.get_N_model_calls(), ak_mcs.get_N_model_calls(False))"
   ]
  },
  {
   "cell_type": "code",
   "execution_count": 12,
   "metadata": {},
   "outputs": [
    {
     "name": "stdout",
     "output_type": "stream",
     "text": [
      "akmcs_status.increase_N_surrogate {'pf_mle': 5.265890252715555e-05, 'mean_pf_bayesian': 5.3658795209565135e-05, 'err': 0.353978630687539, 'af': -0.07696168530365746, 'r': 1.353978630687539, 'r_increase_N_surrogate': 1.2404662916034237, 'r_no_Kriging_uncertainty': 1.3446707688862751, 'r_no_Kriging_uncertainty_AND_N_half': 1.5258208462964489, 'propose_to_increase_N_smpls_surrogate': 1, 'N': 1000000, 'N_model_calls': 8, 'Uval_worst_point': 0.06823295770553107, 'Pr_q_tqi': 7.265286206219007e-05}\n"
     ]
    }
   ],
   "source": [
    "state = ak_mcs.simulate()\n",
    "print(state, ak_mcs.res)"
   ]
  },
  {
   "cell_type": "code",
   "execution_count": 13,
   "metadata": {},
   "outputs": [
    {
     "name": "stdout",
     "output_type": "stream",
     "text": [
      "akmcs_status.stop_success {'pf_mle': 6.234608797144315e-05, 'mean_pf_bayesian': 6.236171102263967e-05, 'err': 0.04492570252946004, 'af': -0.0008631253197446732, 'r': 1.04492570252946, 'r_increase_N_surrogate': 1.0362885110371378, 'r_no_Kriging_uncertainty': 1.037190412868243, 'r_no_Kriging_uncertainty_AND_N_half': 1.053067452416105, 'propose_to_increase_N_smpls_surrogate': 1, 'N': 64000000, 'N_model_calls': 9, 'Uval_worst_point': 0.0004919087334855564, 'Pr_q_tqi': 6.516335470127093e-05}\n",
      "1 9\n"
     ]
    }
   ],
   "source": [
    "state = ak_mcs.simulate(100)\n",
    "print(state, ak_mcs.res)\n",
    "print(ak_mcs.get_N_model_calls(), ak_mcs.get_N_model_calls(False))"
   ]
  },
  {
   "cell_type": "code",
   "execution_count": 14,
   "metadata": {},
   "outputs": [],
   "source": [
    "dBox_2.close_file()"
   ]
  },
  {
   "cell_type": "code",
   "execution_count": null,
   "metadata": {},
   "outputs": [],
   "source": []
  }
 ],
 "metadata": {
  "kernelspec": {
   "display_name": "Python (.venv-fesslix)",
   "language": "python",
   "name": ".venv-fesslix"
  },
  "language_info": {
   "codemirror_mode": {
    "name": "ipython",
    "version": 3
   },
   "file_extension": ".py",
   "mimetype": "text/x-python",
   "name": "python",
   "nbconvert_exporter": "python",
   "pygments_lexer": "ipython3",
   "version": "3.13.5"
  },
  "widgets": {
   "application/vnd.jupyter.widget-state+json": {
    "state": {},
    "version_major": 2,
    "version_minor": 0
   }
  }
 },
 "nbformat": 4,
 "nbformat_minor": 4
}
