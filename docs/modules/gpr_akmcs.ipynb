{
 "cells": [
  {
   "cell_type": "markdown",
   "metadata": {},
   "source": [
    "# AK-MCS"
   ]
  },
  {
   "cell_type": "markdown",
   "metadata": {},
   "source": [
    "## Theory\n",
    "\n",
    "*AK-MCS* is an active learning reliability method combining *Kriging* and *Monte Carlo Simulation*.\n",
    "\n",
    "```{todo}\n",
    "Write this section.\n",
    "```"
   ]
  },
  {
   "cell_type": "markdown",
   "metadata": {},
   "source": [
    "## Syntax"
   ]
  },
  {
   "cell_type": "markdown",
   "metadata": {},
   "source": [
    "```{eval-rst}\n",
    ".. class:: flx.gpr.akmcs\n",
    "\n",
    "   Represents/manages an instance of AK-MCS.\n",
    "\n",
    "   .. method:: __init__(config)\n",
    "\n",
    "      Defines the AK-MCS handler.\n",
    "      \n",
    "      :param config: Configuration directory. The structure of ``config`` is outlined in detail in the following.\n",
    "      :type config: dict\n",
    "\n",
    "      General properties:\n",
    "         The following properties are required/allowed in *config*:\n",
    "\n",
    "         - ``sampler`` (:class:`flx.sampler`): Sampler of a set of random variables.\n",
    "         - ``lsf`` (:type:`flxPara`): Limit-state function of the structural reliability problem to investigate. The function should depend on the random variables associated with ``sampler``.\n",
    "         - ``gp`` (:class:`flx.gpr.gp`, *optional*): Gaussian process for Kriging of the limit-state function.\n",
    "\n",
    "             If not specified, a *zero*-mean Gaussian process with a *Gaussian* kernel structure is used.\n",
    "             \n",
    "             .. important::\n",
    "            \n",
    "                    It is strongly recommended to use only Gaussian processes with a ``mean_type`` of ``\"zero\"`` (see :func:`flx.gpr.gp.__init__`).\n",
    "                    \n",
    "         - ``seed`` (*int*, default: *0*): Seed value for the Pseudo-Random-Number-Generator. Number must be positive or *zero*.\n",
    "         - ``N_RNG_init`` (*int*, default: *0*): Number of initial calls to the Pseudo-Random-Number-Generator. Number must be positive or *zero*.\n",
    "         - ``N_reserve`` (*int*, default:  :math:`10^4`): Memory is allocated for *N_reserve* calls of the actual limit-state function (``lsf``). Number must be positive.\n",
    "         - ``itermax`` (*int*, default: *500*): Maximum number of iterations used for optimizing the *process parameters* of the Gaussian process (see parameter ``itermax`` of :func:`flx.gpr.gp.optimize`).\n",
    "         - ``NmaxSur`` (*int*, default: :math:`10^7`): Maximum number of samples to use for Monte Carlo sampling of the surrogate model. If set to ``0``, an upper limit is not taken into account. Value must not be negative.\n",
    "         - ``Nsmpls`` (*int*, default: :math:`10^6`): Initial number of calls of the surrogate model (per simulation step). Value must be larger than *zero*.\n",
    "         - ``err_thresh`` (*float*, default: *0.3*): Threshold :math:`\\varepsilon_\\mathrm{t}` for evaluating the :ref:`content:gpr:akmcs:stop_crit`. Value must be larger than *zero*.\n",
    "         - ``tqi_val`` (*float*, default: *0.99*): Quantile value for evaluating the :ref:`content:gpr:akmcs:stop_crit`. Value should be within :math:`(0.5,1)`.\n",
    "         - ``data_box`` (:class:`flx.dataBox`): A :class:`flx.dataBox` for post-processing (e.g. writing to a file) of performed limit-state evaluatios. The dimension of the input vector of the :class:`flx.dataBox` must equal the number of standard Normal random variables in ``sampler``, the dimension of the output vector must eqal *one*.\n",
    "         - ``init_accept_only_unique`` (*bool*, default: *False*):\n",
    "         \n",
    "             - ``True``: when importing samples from ``data_box``, an error if thrown if the samples added are not unique.\n",
    "             - ``False``: any repeated samples imported from ``data_box`` are ignored\n",
    "             \n",
    "         - ``account4noise`` (*bool*, default: *False*):\n",
    "         \n",
    "             - ``True``: the model for the uncertainty about the limit-state function accounts for nummerical noise\n",
    "             - ``False``: a close-to-zero value is assigned to the noise parameter\n",
    "\n",
    "         - ``optimize_after_N_calls`` (*int*, default: `20`): Optimize the parameters of the underlying Gaussian process after the specified number of calls of the actual limit-state functions.\n",
    "\n",
    "   .. py:method:: initialize_with_LHS(N=0,box_bounds=3.)\n",
    "\n",
    "      Generate an initial set of samples for AK-MCS, using ``N`` Latin-hypercube samples.\n",
    "\n",
    "      :param N: Number of samples. Value must be *positive* or *zero*. If *N* is set to ``0``, the number of samples is set to two times the dimension of the input vector.\n",
    "      :type N: int\n",
    "      :param box_bounds: Specifies the bounds (in Standard Normal space) of the hyper-cube in which the Latin-hypercube samples are generated. Sampling within the hypercube is performed uniformely.\n",
    "      :type box_bounds: float\n",
    "      :rtype: None\n",
    "\n",
    "   .. py:method:: simulate(N=0, output_gp_info=False)\n",
    "\n",
    "      Perform a ``N`` simulation steps of the surrogate model.\n",
    "\n",
    "      :param N: Number simulation steps to conduct. If ``0``, a single simulation step is conducted.\n",
    "      :type N: int\n",
    "      :param output_gp_info: If ``True``, at each iteration step information about the Gaussian process is outputted.\n",
    "      :type output_gp_info: bool\n",
    "      :rtype: flx.gpr.akmcs_status\n",
    "      \n",
    "   .. py:attribute:: res\n",
    "       :type: dict\n",
    "\n",
    "       A dictionary that contains information about the previous call to :func:`flx.gpr.akmcs.simulate`.\n",
    "\n",
    "       The dictionary has the following structure:\n",
    "           - ``mean_pf_bayesian`` (type: *float*): :math:`\\operatorname{E}\\left[p_\\mathrm{f}\\right]`, Bayesian posterior mean value of the probability of failure\n",
    "           - ``pf_mle`` (type: *float*): MLE estimate of the probability of failure\n",
    "           - ``pf_no_Kriging_uncertainty`` (type: *float*): Estimate of the probability of failure, if the uncerainty of the Kriging model is ignored.\n",
    "           - ``Pr_q_tqi`` (type: *float*): :math:`p_\\mathrm{tqi}` (see :ref:`content:gpr:akmcs:stop_crit`), the current value associated with the quantile ``tqi_val``.\n",
    "           - ``err`` (type: *float*): the current error value (see :ref:`content:gpr:akmcs:stop_crit`)\n",
    "           - ``r`` (type: *float*): Value of the ratio :math:`r` (see :ref:`content:gpr:akmcs:stop_crit`) that is associated with :math:`p_\\mathrm{tqi}`.\n",
    "           - ``r_increase_N_surrogate`` (type: *float*): Value of the ratio :math:`r` (see :ref:`content:gpr:akmcs:stop_crit`), if the MCS on the surrogate model is performed with twice as many samples.\n",
    "           - ``r_no_Kriging_uncertainty`` (type: *float*): Value of the ratio :math:`r` (see :ref:`content:gpr:akmcs:stop_crit`), if the uncertainty from the Kriging model is ignored; i.e., only the sampling uncertainty from the surrogate model is considered.\n",
    "           - ``af`` (type: *float*): ``af = (r_increase_N_surrogate-r_no_Kriging_uncertainty)/r``; if this value is positive, the actual limit-state function is evaluated in the next iteration; if the value is negative, the number of surrogate samples is increase in the next iteration.\n",
    "           - ``propose_to_increase_N_smpls_surrogate`` (type: *int*): ``1``, if ``af`` is negative, otherwise ``0``.\n",
    "           - ``N`` (type: *int*): Total number of samples used to perform a Monte Carlo Simulation on the surrogate model.\n",
    "           - ``N_model_calls`` (type: *int*): Total number of observations of the actual limit-state function (i.e., number of data-points to train the surrogate model).\n",
    "           - ``Uval_worst_point`` (type: *float*): The probability about the sign of the limit-state function is quantified for each surrogate sample. ``Uval_worst_point`` corresponds to the standard Normal transformation of this probability. Thus, the larger ``Uval_worst_point`` differs from *zero*, the larger the confidence about the sign of the most uncertain surrogate point.\n",
    "           - ``sd_worst_point`` (type: *float*): The standard deviation associated with the *worst point*.\n",
    "           - ``sd_avg`` (type: *float*): The average standard deviation of the Kriging model at the sampling points.\n",
    "           - ``kernel_sd`` (type: *float*): A-priori standard deviation of the kernel.\n",
    "           - ``kernel_corrl`` (type: *numpy.ndarray*): A-priori correlation length of the kernel.\n",
    "      \n",
    "   .. py:method:: get_GP()\n",
    "\n",
    "      Retrieve a reference to the internal Gaussian process.\n",
    "\n",
    "      .. note::\n",
    "\n",
    "          Do not modify the properties of the returned object to avoid inconsistent behavior.\n",
    "\n",
    "      :rtype: flx.gpr.gp\n",
    "      \n",
    "   .. py:method:: get_N_model_calls(only_from_current_run=True)\n",
    "\n",
    "      Retrieve total number of calls of the actual limit-state function.\n",
    "\n",
    "      :param only_from_current_run: \n",
    "           - ``True``: return number of limit-state function calls from the current instance. \n",
    "           - ``False``: return total number of available observations of the limit-state function.\n",
    "      :type only_from_current_run: bool\n",
    "      :rtype: int\n",
    "      \n",
    "```"
   ]
  },
  {
   "cell_type": "markdown",
   "metadata": {},
   "source": [
    "```{eval-rst}\n",
    ".. py:class:: flx.gpr.akmcs_status\n",
    "\n",
    "   An enumeration of the status of a :class:`flx.gpr.akmcs`.\n",
    "\n",
    "   Members:\n",
    "       - ``undefined``: initial state; the Gaussian process is currently not initialized\n",
    "       - ``defined``: internal state, nothing to do\n",
    "       - ``evalLSF``: requires a new call of the actual limit-state function of the model\n",
    "       - ``increase_N_surrogate``: requires an increase of surrogate samples\n",
    "       - ``decrease_N_surrogate``: a decrease of the number of surrogate samples is proposed\n",
    "       - ``stop_success``: stop is recommended, as error is below the specified threshold\n",
    "       - ``stop_iterLimit``: maximum number of surrogate samples is exceeded\n",
    "       \n",
    "```       "
   ]
  },
  {
   "cell_type": "markdown",
   "metadata": {},
   "source": [
    "(content:gpr:akmcs:stop_crit)=\n",
    "## Stopping criterion\n",
    "\n",
    "The value ``config['tqi_val']`` in {func}`flx.gpr.akmcs.__init__` defines a quantile of the distribution that represents the uncertainty about the value of the probability of failure estimated by {class}`flx.gpr.akmcs` (which includes both the uncertainty from the Kirging model and the sampling uncertainty from MCS on the surrogate model). \n",
    "We refer to the value associated with this quantile as $p_\\mathrm{tqi}$.\n",
    "The ratio $r$ is defined as:\n",
    "\n",
    "$$\n",
    "r = \\frac{p_\\mathrm{tqi}}{\\operatorname{E}\\left[p_\\mathrm{f}\\right]}\\;,\n",
    "$$\n",
    "\n",
    "where $\\operatorname{E}\\left[p_\\mathrm{f}\\right]$ is the Bayesian posterior mean value of the probability of failure.\n",
    "Note that $r$ equals *one* if $p_\\mathrm{tqi}$ equals $\\operatorname{E}\\left[p_\\mathrm{f}\\right]$.\n",
    "\n",
    "The error value $\\varepsilon$ is evaluated based on $r$ as:\n",
    "\n",
    "$$\n",
    "\\varepsilon = r - 1\n",
    "$$\n",
    "\n",
    "The probability of failure estimated through AK-MCS is considered sufficently accurate, when $\\varepsilon\\le\\varepsilon_\\mathrm{t}$ (where $\\varepsilon_\\mathrm{t}$ is defined through value ``config['err']`` in {func}`flx.gpr.akmcs.__init__`).\n",
    "If this condition is met, AK-MCS stops the iteration."
   ]
  },
  {
   "cell_type": "markdown",
   "metadata": {},
   "source": [
    "(content:gpr:akmcs:postproc:import)=\n",
    "## Importing data into an instance of AK-MCS\n",
    "\n",
    "```{eval-rst}\n",
    ".. py:property:: akmcs\n",
    "\n",
    "   A :class:`post-processor<flx.dataBox.postProc>` that imports any sample added to the corresponding :class:`flx.dataBox` to an instance of :class:`flx.gpr.akmcs`.\n",
    "\n",
    "   Parametrization:\n",
    "       Parameters of this post-processor can be specified as additional key-value pairs in an object of type :type:`dataBox_postProc_type`. \n",
    "       The following parameters are accepted:\n",
    "\n",
    "         - ``akmcs`` (:class:`flx.gpr.akmcs`): The instance of :class:`flx.gpr.akmcs` to which to add samples inserted into the :class:`flx.dataBox`.\n",
    "\n",
    "   States:\n",
    "       When the function :func:`flx.dataBox.postProc.eval` is called on this post-processor, the following states are returned:\n",
    "\n",
    "       - ``akmcs`` (:class:`flx.gpr.akmcs`): A reference to the :class:`flx.gpr.akmcs`-instance linked to this :class:`post-processor<flx.dataBox.postProc>`.\n",
    "\n",
    "```"
   ]
  },
  {
   "cell_type": "markdown",
   "metadata": {},
   "source": [
    "## Application Examples\n",
    "### Example 1"
   ]
  },
  {
   "cell_type": "code",
   "execution_count": 1,
   "metadata": {},
   "outputs": [
    {
     "name": "stdout",
     "output_type": "stream",
     "text": [
      "Random Number Generator: MT19937 - initialized with rand()=2043927659;\n",
      "Random Number Generator: MT19937 - initialized with 1000 initial calls.\n"
     ]
    }
   ],
   "source": [
    "import fesslix as flx\n",
    "flx.load_engine()\n",
    "import fesslix.gpr"
   ]
  },
  {
   "cell_type": "code",
   "execution_count": 2,
   "metadata": {},
   "outputs": [],
   "source": [
    "## ==============================================\n",
    "## Generate input model\n",
    "## ==============================================\n",
    "config_rv_R = { 'name':'R', 'type':'logn', 'mu':6., 'sd':1. }\n",
    "config_rv_S = { 'name':'S', 'type':'normal', 'mu':1., 'sd':1.0 }\n",
    "rv_set = flx.rv_set( {'name':'rv_set'}, [ config_rv_R, config_rv_S ] )\n",
    "sampler = flx.sampler(['rv_set'])"
   ]
  },
  {
   "cell_type": "code",
   "execution_count": 3,
   "metadata": {},
   "outputs": [],
   "source": [
    "## ==============================================\n",
    "## Set up dataBox (for storing preformed model calls)\n",
    "## ==============================================\n",
    "dBox_1 = flx.dataBox(2,1)\n",
    "dBox_1.write2file( {\n",
    "    'fname': \"akmcs_samples.bin\",\n",
    "    'append': False,\n",
    "    'binary': True,\n",
    "    'cols': 'all'\n",
    "    } )"
   ]
  },
  {
   "cell_type": "code",
   "execution_count": 4,
   "metadata": {},
   "outputs": [],
   "source": [
    "## ==============================================\n",
    "## Define the AK-MCS sampler\n",
    "## ==============================================\n",
    "config = {\n",
    "        \"sampler\": sampler,\n",
    "        \"lsf\": \"rbrv(rv_set::R)-rbrv(rv_set::S)\",\n",
    "        \"err_thresh\": 0.05,\n",
    "        \"data_box\": dBox_1\n",
    "    }\n",
    "ak_mcs = fesslix.gpr.akmcs(config)"
   ]
  },
  {
   "cell_type": "code",
   "execution_count": 5,
   "metadata": {},
   "outputs": [],
   "source": [
    "## ==============================================\n",
    "## Initialize with Latin-hypercube sampling\n",
    "## ==============================================\n",
    "ak_mcs.initialize_with_LHS(N=5,box_bounds=4.)"
   ]
  },
  {
   "cell_type": "code",
   "execution_count": 6,
   "metadata": {},
   "outputs": [
    {
     "name": "stdout",
     "output_type": "stream",
     "text": [
      "akmcs_status.evalLSF {'mean_pf_bayesian': 0.00010820062050004497, 'pf_mle': 0.00010720083690128597, 'pf_no_Kriging_uncertainty': 9.9e-05, 'Pr_q_tqi': 0.0002819965555215735, 'err': 1.6062378775494754, 'af': 0.5225240052884704, 'r': 2.6062378775494754, 'r_increase_N_surrogate': 2.598941174911016, 'r_no_Kriging_uncertainty': 1.2371193203993418, 'r_no_Kriging_uncertainty_AND_N_half': 1.3538394348465204, 'propose_to_increase_N_smpls_surrogate': 0, 'N': 1000000, 'N_model_calls': 5, 'Uval_worst_point': 2.1885602507333028e-05, 'sd_worst_point': 0.07803290182151347, 'sd_kernel': 5.213420867013631}\n"
     ]
    }
   ],
   "source": [
    "## ==============================================\n",
    "## Perform a single simulation step\n",
    "## ==============================================\n",
    "state = ak_mcs.simulate()\n",
    "print(state, ak_mcs.res)"
   ]
  },
  {
   "cell_type": "code",
   "execution_count": 7,
   "metadata": {},
   "outputs": [
    {
     "name": "stdout",
     "output_type": "stream",
     "text": [
      "»» LSE-results  logl=-12.0165  »»  sd_obsv [8.750648 <- 5.213421] »»  sd_Z [8.750648 <- 5.213421] »»  sd_noise [8.750648e-4 <- 5.213421e-4] \n",
      "\n",
      "{'type': ['gauss', 'gauss'], 'para_vec': array([5.21342087, 5.60715716, 5.54952167]), 'n_vec': array([1.        , 2.58264733, 2.64116891]), 'kernel_sd': 5.213420867013631}\n"
     ]
    }
   ],
   "source": [
    "## ==============================================\n",
    "## Retrieve the current state of AK-MCS\n",
    "## ==============================================\n",
    "gp = ak_mcs.get_GP()\n",
    "gp_info = gp.info()\n",
    "print( gp_info['noise_log'] )\n",
    "print( gp_info['kernel'] )\n",
    "#print( gp_info['opt_log'] )"
   ]
  },
  {
   "cell_type": "code",
   "execution_count": 8,
   "metadata": {},
   "outputs": [
    {
     "name": "stdout",
     "output_type": "stream",
     "text": [
      "akmcs_status.evalLSF {'mean_pf_bayesian': 5.098370044039542e-05, 'pf_mle': 4.9983802407796294e-05, 'pf_no_Kriging_uncertainty': 5e-05, 'Pr_q_tqi': 8.385893544851343e-05, 'err': 0.6448185346324979, 'af': 0.12538160464604364, 'r': 1.644818534632498, 'r_increase_N_surrogate': 1.560538691396882, 'r_no_Kriging_uncertainty': 1.3543087041731052, 'r_no_Kriging_uncertainty_AND_N_half': 1.5415627258785531, 'propose_to_increase_N_smpls_surrogate': 0, 'N': 1000000, 'N_model_calls': 6, 'Uval_worst_point': 0.04763716075327402, 'sd_worst_point': 0.02363329196662406, 'sd_kernel': 9.500292624338744}\n",
      "akmcs_status.increase_N_surrogate {'mean_pf_bayesian': 5.4974106838252735e-05, 'pf_mle': 5.397421678646641e-05, 'pf_no_Kriging_uncertainty': 5.4e-05, 'Pr_q_tqi': 7.44074149571742e-05, 'err': 0.3534992969708266, 'af': -0.07136639936515717, 'r': 1.3534992969708266, 'r_increase_N_surrogate': 1.2436096909720995, 'r_no_Kriging_uncertainty': 1.340204062340179, 'r_no_Kriging_uncertainty_AND_N_half': 1.5185433975079146, 'propose_to_increase_N_smpls_surrogate': 1, 'N': 1000000, 'N_model_calls': 7, 'Uval_worst_point': 0.03100544194891389, 'sd_worst_point': 0.005031639705542309, 'sd_kernel': 30.42639453592187}\n",
      "akmcs_status.increase_N_surrogate {'mean_pf_bayesian': 5.577904085339413e-05, 'pf_mle': 5.527909663243499e-05, 'pf_no_Kriging_uncertainty': 5.55e-05, 'Pr_q_tqi': 6.925367193204285e-05, 'err': 0.24157158087505537, 'af': -0.05199096351402965, 'r': 1.2415715808750554, 'r_increase_N_surrogate': 1.168781019393446, 'r_no_Kriging_uncertainty': 1.2333315221547771, 'r_no_Kriging_uncertainty_AND_N_half': 1.3479094800708749, 'propose_to_increase_N_smpls_surrogate': 1, 'N': 2000000, 'N_model_calls': 7, 'Uval_worst_point': 0.03100544194891389, 'sd_worst_point': 0.005031639705542309, 'sd_kernel': 30.42639453592187}\n",
      "akmcs_status.increase_N_surrogate {'mean_pf_bayesian': 5.167691605331913e-05, 'pf_mle': 5.142694189177716e-05, 'pf_no_Kriging_uncertainty': 5.15e-05, 'Pr_q_tqi': 6.094250211889981e-05, 'err': 0.17929835549823925, 'af': -0.033076582251658826, 'r': 1.1792983554982392, 'r_increase_N_surrogate': 1.1298714515997015, 'r_no_Kriging_uncertainty': 1.168878610654585, 'r_no_Kriging_uncertainty_AND_N_half': 1.2483311831878792, 'propose_to_increase_N_smpls_surrogate': 1, 'N': 4000000, 'N_model_calls': 7, 'Uval_worst_point': 0.03100544194891389, 'sd_worst_point': 0.005031639705542309, 'sd_kernel': 30.42639453592187}\n",
      "akmcs_status.increase_N_surrogate {'mean_pf_bayesian': 5.9726793466558744e-05, 'pf_mle': 5.9601808398257115e-05, 'pf_no_Kriging_uncertainty': 5.9375e-05, 'Pr_q_tqi': 6.711226320541886e-05, 'err': 0.123654214636439, 'af': -0.012464187414533505, 'r': 1.123654214636439, 'r_increase_N_surrogate': 1.0954837605549583, 'r_no_Kriging_uncertainty': 1.1094891972753174, 'r_no_Kriging_uncertainty_AND_N_half': 1.1588784594410748, 'propose_to_increase_N_smpls_surrogate': 1, 'N': 8000000, 'N_model_calls': 7, 'Uval_worst_point': 0.03055187092840943, 'sd_worst_point': 0.015083900227316165, 'sd_kernel': 30.42639453592187}\n",
      "akmcs_status.increase_N_surrogate {'mean_pf_bayesian': 6.195389450428092e-05, 'pf_mle': 6.185390689505983e-05, 'pf_no_Kriging_uncertainty': 6.16e-05, 'Pr_q_tqi': 6.879919512272377e-05, 'err': 0.11049023912402878, 'af': -0.007951660792199822, 'r': 1.1104902391240288, 'r_increase_N_surrogate': 1.0869964378305201, 'r_no_Kriging_uncertainty': 1.0958266795250833, 'r_no_Kriging_uncertainty_AND_N_half': 1.138619935337932, 'propose_to_increase_N_smpls_surrogate': 1, 'N': 10000000, 'N_model_calls': 7, 'Uval_worst_point': 0.03055187092840943, 'sd_worst_point': 0.015083900227316165, 'sd_kernel': 30.42639453592187}\n",
      "akmcs_status.stop_iterLimit {'mean_pf_bayesian': 6.195389450428092e-05, 'pf_mle': 6.185390689505983e-05, 'pf_no_Kriging_uncertainty': 6.16e-05, 'Pr_q_tqi': 6.879919512272377e-05, 'err': 0.11049023912402878, 'af': -0.007951660792199822, 'r': 1.1104902391240288, 'r_increase_N_surrogate': 1.0869964378305201, 'r_no_Kriging_uncertainty': 1.0958266795250833, 'r_no_Kriging_uncertainty_AND_N_half': 1.138619935337932, 'propose_to_increase_N_smpls_surrogate': 1, 'N': 10000000, 'N_model_calls': 7, 'Uval_worst_point': 0.03055187092840943, 'sd_worst_point': 0.015083900227316165, 'sd_kernel': 30.42639453592187}\n",
      "7\n"
     ]
    }
   ],
   "source": [
    "for i in range(10):\n",
    "    state = ak_mcs.simulate()\n",
    "    print(state, ak_mcs.res)\n",
    "    if state == fesslix.gpr.akmcs_status.stop_success or state == fesslix.gpr.akmcs_status.stop_iterLimit:\n",
    "        break\n",
    "dBox_1.close_file()\n",
    "print(ak_mcs.get_N_model_calls())"
   ]
  },
  {
   "cell_type": "markdown",
   "metadata": {},
   "source": [
    "### Example 2 - restart sampling"
   ]
  },
  {
   "cell_type": "code",
   "execution_count": 9,
   "metadata": {},
   "outputs": [],
   "source": [
    "## ==============================================\n",
    "## Set up dataBox (for storing preformed model calls)\n",
    "## ==============================================\n",
    "dBox_2 = flx.dataBox(2,1)\n",
    "dBox_2.write2file( {\n",
    "    'fname': \"akmcs_samples.bin\",\n",
    "    'append': True,\n",
    "    'binary': True,\n",
    "    'cols': 'all'\n",
    "    } )"
   ]
  },
  {
   "cell_type": "code",
   "execution_count": 10,
   "metadata": {},
   "outputs": [],
   "source": [
    "## ==============================================\n",
    "## Define the AK-MCS sampler\n",
    "## ==============================================\n",
    "config = {\n",
    "        \"sampler\": sampler,\n",
    "        \"lsf\": \"rbrv(rv_set::R)-rbrv(rv_set::S)\",\n",
    "        \"NmaxSur\": int(1e8),\n",
    "        \"err_thresh\": 0.05,\n",
    "        \"data_box\": dBox_2\n",
    "    }\n",
    "ak_mcs = fesslix.gpr.akmcs(config)"
   ]
  },
  {
   "cell_type": "code",
   "execution_count": 11,
   "metadata": {},
   "outputs": [
    {
     "name": "stdout",
     "output_type": "stream",
     "text": [
      "0 7\n"
     ]
    }
   ],
   "source": [
    "## ==============================================\n",
    "## Initialize with past model calls\n",
    "## ==============================================\n",
    "dBox_3 = flx.dataBox(2,1)\n",
    "dBox_3.register_post_processor({ 'type':'akmcs', 'akmcs':ak_mcs })\n",
    "dBox_3.read_from_file({'fname':\"akmcs_samples.bin\", 'binary':True})\n",
    "print(ak_mcs.get_N_model_calls(), ak_mcs.get_N_model_calls(False))"
   ]
  },
  {
   "cell_type": "code",
   "execution_count": 12,
   "metadata": {},
   "outputs": [
    {
     "name": "stdout",
     "output_type": "stream",
     "text": [
      "akmcs_status.evalLSF {'mean_pf_bayesian': 5.5058010025525095e-05, 'pf_mle': 5.4058120141545146e-05, 'pf_no_Kriging_uncertainty': 5.5e-05, 'Pr_q_tqi': 8.40937313836753e-05, 'err': 0.5273659789863299, 'af': 0.06883949245734994, 'r': 1.5273659789863299, 'r_increase_N_surrogate': 1.4450679288721164, 'r_no_Kriging_uncertainty': 1.339924830082074, 'r_no_Kriging_uncertainty_AND_N_half': 1.5180888364129386, 'propose_to_increase_N_smpls_surrogate': 0, 'N': 1000000, 'N_model_calls': 7, 'Uval_worst_point': 0.0029731026088731533, 'sd_worst_point': 0.0007952057131443936, 'sd_kernel': 4.560714296084574}\n"
     ]
    }
   ],
   "source": [
    "state = ak_mcs.simulate()\n",
    "print(state, ak_mcs.res)"
   ]
  },
  {
   "cell_type": "code",
   "execution_count": 13,
   "metadata": {},
   "outputs": [
    {
     "name": "stdout",
     "output_type": "stream",
     "text": [
      "1: increase_N_surrogate :: {'mean_pf_bayesian': 5.423769169102739e-05, 'pf_mle': 5.323780016641077e-05, 'pf_no_Kriging_uncertainty': 5.3e-05, 'Pr_q_tqi': 7.378503931051841e-05, 'err': 0.3604015401474905, 'af': -0.06688287867669249, 'r': 1.3604015401474905, 'r_increase_N_surrogate': 1.2516963479478274, 'r_no_Kriging_uncertainty': 1.3426839191090976, 'r_no_Kriging_uncertainty_AND_N_half': 1.5225823207867202, 'propose_to_increase_N_smpls_surrogate': 1, 'N': 1000000, 'N_model_calls': 8, 'Uval_worst_point': 0.2847870175936936, 'sd_worst_point': 0.004827420308638341, 'sd_kernel': 37.105613352907504}\n",
      "2: increase_N_surrogate :: {'mean_pf_bayesian': 5.533738424763804e-05, 'pf_mle': 5.483743958502228e-05, 'pf_no_Kriging_uncertainty': 5.5e-05, 'Pr_q_tqi': 6.892492241946386e-05, 'err': 0.24553994296190051, 'af': -0.04858712821022838, 'r': 1.2455399429619005, 'r_increase_N_surrogate': 1.1737955359805385, 'r_no_Kriging_uncertainty': 1.234312744880189, 'r_no_Kriging_uncertainty_AND_N_half': 1.3494451akmcs_status.stop_success {'mean_pf_bayesian': 6.297491562180884e-05, 'pf_mle': 6.295929258977495e-05, 'pf_no_Kriging_uncertainty': 6.3015625e-05, 'Pr_q_tqi': 6.595161850758519e-05, 'err': 0.047268072634709224, 'af': 0.0020165711379434023, 'r': 1.0472680726347092, 'r_increase_N_surrogate': 1.0391189967396528, 'r_no_Kriging_uncertainty': 1.037007106170688, 'r_no_Kriging_uncertainty_AND_N_half': 1.0528035898906931, 'propose_to_increase_N_smpls_surrogate': 0, 'N': 64000000, 'N_model_calls': 9, 'Uval_worst_point': 0.023566904506893988, 'sd_worst_point': 0.004854448856505952, 'sd_kernel': 28.561493399369358}\n",
      "2 9\n",
      "38962263, 'propose_to_increase_N_smpls_surrogate': 1, 'N': 2000000, 'N_model_calls': 8, 'Uval_worst_point': 0.05963559410927124, 'sd_worst_point': 0.004379781978321203, 'sd_kernel': 37.105613352907504}\n",
      "3: increase_N_surrogate :: {'mean_pf_bayesian': 5.144897250995123e-05, 'pf_mle': 5.119899823443748e-05, 'pf_no_Kriging_uncertainty': 5.125e-05, 'Pr_q_tqi': 6.0833508511937845e-05, 'err': 0.1824047312154089, 'af': -0.029904845053312562, 'r': 1.182404731215409, 'r_increase_N_surrogate': 1.1339082978850628, 'r_no_Kriging_uncertainty': 1.1692679281623632, 'r_no_Kriging_uncertainty_AND_N_half': 1.248924944687903, 'propose_to_increase_N_smpls_surrogate': 1, 'N': 4000000, 'N_model_calls': 8, 'Uval_worst_point': 0.025848802087008873, 'sd_worst_point': 0.030456505103651523, 'sd_kernel': 37.105613352907504}\n",
      "4: increase_N_surrogate :: {'mean_pf_bayesian': 5.944304909634931e-05, 'pf_mle': 5.931806395711158e-05, 'pf_no_Kriging_uncertainty': 5.9375e-05, 'Pr_q_tqi': 6.68423883869716e-05, 'err': 0.12447778845645918, 'af': -0.012331590599782071, 'r': 1.1244777884564592, 'r_increase_N_surrogate': 1.0958909227643998, 'r_no_Kriging_uncertainty': 1.1097575224901932, 'r_no_Kriging_uncertainty_AND_N_half': 1.1592775394872963, 'propose_to_increase_N_smpls_surrogate': 1, 'N': 8000000, 'N_model_calls': 8, 'Uval_worst_point': 0.025231192698160636, 'sd_worst_point': 0.009944898201016414, 'sd_kernel': 37.105613352907504}\n",
      "5: evalLSF :: {'mean_pf_bayesian': 6.252076836893928e-05, 'pf_mle': 6.245827618403532e-05, 'pf_no_Kriging_uncertainty': 6.2375e-05, 'Pr_q_tqi': 6.828201424273585e-05, 'err': 0.09214931332575871, 'af': 0.00029806477505023776, 'r': 1.0921493133257587, 'r_increase_N_surrogate': 1.07534316454646, 'r_no_Kriging_uncertainty': 1.0750176333070622, 'r_no_Kriging_uncertainty_AND_N_half': 1.1079986112653128, 'propose_to_increase_N_smpls_surrogate': 0, 'N': 16000000, 'N_model_calls': 8, 'Uval_worst_point': 0.025231192698160636, 'sd_worst_point': 0.009944898201016414, 'sd_kernel': 37.105613352907504}\n",
      "6: increase_N_surrogate :: {'mean_pf_bayesian': 6.263405451225197e-05, 'pf_mle': 6.257156234150879e-05, 'pf_no_Kriging_uncertainty': 6.2625e-05, 'Pr_q_tqi': 6.771369675314566e-05, 'err': 0.08110032601992989, 'af': -0.013212253033431494, 'r': 1.08110032601993, 'r_increase_N_surrogate': 1.0606646623569742, 'r_no_Kriging_uncertainty': 1.0749484334188748, 'r_no_Kriging_uncertainty_AND_N_half': 1.107897254840171, 'propose_to_increase_N_smpls_surrogate': 1, 'N': 16000000, 'N_model_calls': 9, 'Uval_worst_point': 0.03456574005568045, 'sd_worst_point': 0.0056206103311543364, 'sd_kernel': 28.561493399369358}\n",
      "7: increase_N_surrogate :: {'mean_pf_bayesian': 6.315259501812979e-05, 'pf_mle': 6.312134896516698e-05, 'pf_no_Kriging_uncertainty': 6.321875e-05, 'Pr_q_tqi': 6.687274467383676e-05, 'err': 0.05890731259165194, 'af': -0.006752386769340184, 'r': 1.058907312591652, 'r_increase_N_surrogate': 1.0453239249436, 'r_no_Kriging_uncertainty': 1.0524740766711014, 'r_no_Kriging_uncertainty_AND_N_half': 1.0751469698998304, 'propose_to_increase_N_smpls_surrogate': 1, 'N': 32000000, 'N_model_"
     ]
    }
   ],
   "source": [
    "state = ak_mcs.simulate(100)\n",
    "print(state, ak_mcs.res)\n",
    "print(ak_mcs.get_N_model_calls(), ak_mcs.get_N_model_calls(False))"
   ]
  },
  {
   "cell_type": "code",
   "execution_count": 14,
   "metadata": {},
   "outputs": [],
   "source": [
    "dBox_2.close_file()"
   ]
  },
  {
   "cell_type": "code",
   "execution_count": null,
   "metadata": {},
   "outputs": [],
   "source": []
  }
 ],
 "metadata": {
  "kernelspec": {
   "display_name": "Python (.venv-fesslix)",
   "language": "python",
   "name": ".venv-fesslix"
  },
  "language_info": {
   "codemirror_mode": {
    "name": "ipython",
    "version": 3
   },
   "file_extension": ".py",
   "mimetype": "text/x-python",
   "name": "python",
   "nbconvert_exporter": "python",
   "pygments_lexer": "ipython3",
   "version": "3.13.5"
  },
  "widgets": {
   "application/vnd.jupyter.widget-state+json": {
    "state": {},
    "version_major": 2,
    "version_minor": 0
   }
  }
 },
 "nbformat": 4,
 "nbformat_minor": 4
}
