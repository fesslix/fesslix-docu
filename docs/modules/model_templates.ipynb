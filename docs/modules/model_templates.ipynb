{
 "cells": [
  {
   "cell_type": "markdown",
   "metadata": {},
   "source": [
    "# `model_templates` - a collection of models"
   ]
  },
  {
   "cell_type": "markdown",
   "metadata": {},
   "source": [
    "\n",
    "```{todo}\n",
    "Write this section.\n",
    "```\n"
   ]
  },
  {
   "cell_type": "code",
   "execution_count": 1,
   "metadata": {},
   "outputs": [
    {
     "name": "stdout",
     "output_type": "stream",
     "text": [
      "Random Number Generator: MT19937 - initialized with rand()=1229912605;\n",
      "Random Number Generator: MT19937 - initialized with 1000 initial calls.\n"
     ]
    }
   ],
   "source": [
    "import fesslix as flx\n",
    "flx.load_engine()\n",
    "import fesslix.model_templates"
   ]
  },
  {
   "cell_type": "markdown",
   "metadata": {},
   "source": [
    "## Structural reliability analysis"
   ]
  },
  {
   "cell_type": "markdown",
   "metadata": {},
   "source": [
    "```{eval-rst}\n",
    ".. function:: fesslix.model_templates.generate_reliability_R_S_example\n",
    "\n",
    "    Syntax:\n",
    "        ``fesslix.model_templates.generate_reliability_R_S_example()``\n",
    "\n",
    "    Description:\n",
    "        Defines a simple R-S model for reliability analysis.\n",
    "\n",
    "    The resistance *R* follows a log-normal distribution and the load *S* follows a Normal distribution.\n",
    "    The limit-state function is :math:`R-S`.\n",
    "        \n",
    "    :returns: A Python dictionary that contains the model.\n",
    "    :rtype: dict\n",
    "\n",
    "    The returned *dict* has the following entries:\n",
    "\n",
    "         - ``rv_set`` (:class:`flx.rv_set`): set of input random random variables of this model\n",
    "         - ``sampler`` (:class:`flx.sampler`): to generate realizations of the input random variables of this model\n",
    "         - ``model`` (:type:`flxVecPara`): A vector-valued function that returns the model output. In this case it is of dimension *one* and returns the value of the limit-state function.\n",
    "\n",
    "```\n",
    "**Example:**"
   ]
  },
  {
   "cell_type": "code",
   "execution_count": 2,
   "metadata": {},
   "outputs": [
    {
     "name": "stdout",
     "output_type": "stream",
     "text": [
      "{'rv_set': <fesslix.core.rvset object at 0x764bfc2bccb0>, 'sampler': <fesslix.core.sampler object at 0x764bfc2bccf0>, 'model': ['rbrv(rv_set::R)-rbrv(rv_set::S)']}\n"
     ]
    }
   ],
   "source": [
    "print( fesslix.model_templates.generate_reliability_R_S_example() )"
   ]
  },
  {
   "cell_type": "code",
   "execution_count": null,
   "metadata": {},
   "outputs": [],
   "source": []
  },
  {
   "cell_type": "code",
   "execution_count": null,
   "metadata": {},
   "outputs": [],
   "source": []
  }
 ],
 "metadata": {
  "kernelspec": {
   "display_name": "Python (.venv-fesslix)",
   "language": "python",
   "name": ".venv-fesslix"
  },
  "language_info": {
   "codemirror_mode": {
    "name": "ipython",
    "version": 3
   },
   "file_extension": ".py",
   "mimetype": "text/x-python",
   "name": "python",
   "nbconvert_exporter": "python",
   "pygments_lexer": "ipython3",
   "version": "3.13.3"
  },
  "widgets": {
   "application/vnd.jupyter.widget-state+json": {
    "state": {},
    "version_major": 2,
    "version_minor": 0
   }
  }
 },
 "nbformat": 4,
 "nbformat_minor": 4
}
