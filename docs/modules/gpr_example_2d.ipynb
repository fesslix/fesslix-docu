{
 "cells": [
  {
   "cell_type": "markdown",
   "metadata": {},
   "source": [
    "(content:modules:gpr:2dexample)=\n",
    "# 2D Example"
   ]
  },
  {
   "cell_type": "markdown",
   "metadata": {},
   "source": [
    "```{todo}\n",
    "Write this section.\n",
    "```\n"
   ]
  },
  {
   "cell_type": "code",
   "execution_count": 1,
   "metadata": {},
   "outputs": [
    {
     "name": "stdout",
     "output_type": "stream",
     "text": [
      "Random Number Generator: MT19937 - initialized with rand()=1688174461;\n",
      "Random Number Generator: MT19937 - initialized with 1000 initial calls.\n"
     ]
    }
   ],
   "source": [
    "import fesslix as flx\n",
    "flx.load_engine()\n",
    "import fesslix.gpr\n",
    "\n",
    "import matplotlib.pyplot as plt\n",
    "import numpy as np"
   ]
  },
  {
   "cell_type": "code",
   "execution_count": 2,
   "metadata": {},
   "outputs": [
    {
     "name": "stdout",
     "output_type": "stream",
     "text": [
      "(300, 2) (300,)\n"
     ]
    }
   ],
   "source": [
    "## load data\n",
    "N_data_max = 300\n",
    "dm_in = np.genfromtxt(\"../data/sample_01_dps_full.csv\",delimiter=',')[:N_data_max,:]\n",
    "dm_out = np.genfromtxt(\"../data/sample_01_out_full.csv\",delimiter=',')[:N_data_max]\n",
    "print(dm_in.shape, dm_out.shape)\n",
    "#print(dm_in)\n",
    "#print(dm_out)"
   ]
  },
  {
   "cell_type": "code",
   "execution_count": 3,
   "metadata": {},
   "outputs": [
    {
     "name": "stdout",
     "output_type": "stream",
     "text": [
      "{'type': 'singlegp', 'name': 'gp_1', 'mean': {'type': 'universal', 'para_vec': array([9.05771163]), 'normalizef': 1.0}, 'kernel': {'type': ['gauss', 'gauss'], 'para_vec': array([1.43225701, 1.        , 1.        ]), 'n_vec': array([  1.        , 301.60409606,   0.52678004]), 'kernel_sd': 1.4322570128931111}, 'noise': 0.3120960131089485, 'noise_log': '  =====================================\\n  1D-optimization (minimization)\\n  =====================================\\n»» LSE-results  logl=-217.528  »»  sd_obsv [24.61948 <- 0.717925] »»  sd_Z [24.61825 <- 0.717889] »»  sd_noise [0.246183 <- 7.178886e-3] \\n    *** best guess ***  logl=-217.528  noise=7.178886e-3  sd_Z=0.717889\\n»» LSE-results  logl=-182.311  »»  sd_obsv [0.588177 <- 1.015248] »»  sd_Z [0.415904 <- 0.717889] »»  sd_noise [0.415904 <- 0.717889] \\n    *** best guess ***  logl=-182.311  noise=0.717889  sd_Z=0.717889\\n»» LSE-results  logl=-140.772  »»  sd_obsv [2.894893 <- 0.721469] »»  sd_Z [2.880526 <- 0.717889] »»  sd_noise [0.288053 <- 0.0717889] \\n    *** best guess ***  logl=-140.772  noise=0.0717889  sd_Z=0.717889\\n  fa=f(-4.93661)=217.528\\n  fb=f(-2.63403)=140.772\\n  fc=f(-0.331441)=182.311\\n»» LSE-results  logl=-150.252  »»  sd_obsv [4.727501 <- 0.719098] »»  sd_Z [4.719551 <- 0.717889] »»  sd_noise [0.274052 <- 0.0416859] \\n  using brent method\\n  iter [lower, upper] xmin fmin err(est)\\n  0\\t-4.93661\\t-0.331441\\t-2.63403\\t4.60517\\n»» LSE-results  logl=-158.871  »»  sd_obsv [6.43511 <- 0.718507] »»  sd_Z [6.429576 <- 0.717889] »»  sd_noise [0.266819 <- 0.0297914] \\n  1\\t-3.51354\\t-0.331441\\t-2.63403\\t3.18209\\n»» LSE-results  logl=-135.425  »»  sd_obsv [1.347719 <- 0.738437] »»  sd_Z [1.310216 <- 0.717889] »»  sd_noise [0.315725 <- 0.172991] \\n    *** best guess ***  logl=-135.425  noise=0.172991  sd_Z=0.717889\\n  2\\t-2.63403\\t-0.331441\\t-1.75452\\t2.30259\\n»» LSE-results  logl=-135.323  »»  sd_obsv [1.415463 <- 0.736181] »»  sd_Z [1.380292 <- 0.717889] »»  sd_noise [0.313576 <- 0.163091] \\n    *** best guess ***  logl=-135.323  noise=0.163091  sd_Z=0.717889\\n  3\\t-2.63403\\t-1.75452\\t-1.81345\\t0.879509\\n»» LSE-results  logl=-136.071  »»  sd_obsv [1.85015 <- 0.727719] »»  sd_Z [1.825157 <- 0.717889] »»  sd_noise [0.303075 <- 0.119208] \\n  4\\t-2.12688\\t-1.75452\\t-1.81345\\t0.372365\\n»» LSE-results  logl=-135.303  »»  sd_obsv [1.474986 <- 0.734491] »»  sd_Z [1.441645 <- 0.717889] »»  sd_noise [0.311838 <- 0.155284] \\n    *** best guess ***  logl=-135.303  noise=0.155284  sd_Z=0.717889\\n  5\\t-2.12688\\t-1.81345\\t-1.8625\\t0.313433\\n»» LSE-results  logl=-135.302  »»  sd_obsv [1.465021 <- 0.734757] »»  sd_Z [1.431386 <- 0.717889] »»  sd_noise [0.31212 <- 0.156539] \\n    *** best guess ***  logl=-135.302  noise=0.156539  sd_Z=0.717889\\n  6\\t-1.8625\\t-1.81345\\t-1.85445\\t0.0490487\\n»» LSE-results  logl=-135.302  »»  sd_obsv [1.465943 <- 0.734733] »»  sd_Z [1.432336 <- 0.717889] »»  sd_noise [0.312094 <- 0.156422] \\n    *** best guess ***  logl=-135.302  noise=0.156422  sd_Z=0.717889\\n  7\\t-1.8625\\t-1.85445\\t-1.8552\\t0.00804605\\n»» LSE-results  logl=-135.302  »»  sd_obsv [1.465868 <- 0.734735] »»  sd_Z [1.432258 <- 0.717889] »»  sd_noise [0.312096 <- 0.156431] \\n    *** best guess ***  logl=-135.302  noise=0.156431  sd_Z=0.717889\\n  8\\t-1.8552\\t-1.85445\\t-1.85514\\t0.00074725\\n»» LSE-results  logl=-135.302  »»  sd_obsv [1.465866 <- 0.734735] »»  sd_Z [1.432257 <- 0.717889] »»  sd_noise [0.312096 <- 0.156432] \\n    *** best guess ***  logl=-135.302  noise=0.156432  sd_Z=0.717889\\n  9\\t-1.85514\\t-1.85445\\t-1.85514\\t0.000686356\\n»» LSE-results  logl=-135.302  »»  sd_obsv [1.465866 <- 0.734735] »»  sd_Z [1.432257 <- 0.717889] »»  sd_noise [0.312096 <- 0.156432] \\n  10\\t-1.85514\\t-1.85514\\t-1.85514\\t1.03279e-06\\n  Optimization converged\\n»» LSE-results  logl=-135.302  »»  sd_obsv [1.465866 <- 0.734735] »»  sd_Z [1.432257 <- 0.717889] »»  sd_noise [0.312096 <- 0.156432] \\n', 'opt_log': '', 'logl_obsv': -135.30211892323598, 'N_obsv': 300, 'obsv_up2date': True}\n",
      "{'type': 'singlegp', 'name': 'gp_1', 'mean': {'type': 'universal', 'para_vec': array([9.07867198]), 'normalizef': 1.0}, 'kernel': {'type': ['gauss', 'gauss'], 'para_vec': array([1.43225701, 0.57230755, 1.1939226 ]), 'n_vec': array([  1.        , 301.60409606,   0.52678004]), 'kernel_sd': 1.4322570128931111}, 'noise': 0.3120960131089485, 'noise_log': '»» LSE-results  logl=-131.875  »»  sd_obsv [1.38838 <- 1.465866] »»  sd_Z [1.356547 <- 1.432257] »»  sd_noise [0.295598 <- 0.312096] \\n', 'opt_log': '    flxGPProj::likeli_f_89 -135.302   ( 0, 0 )   no\\n       initial point estimate: -135.302 at ( 0, 0 ) dim=2\\n    flxGPProj::likeli_f_89 -135.302   ( 0, 0 )   no\\n    flxGPProj::likeli_f_89 -147.709   ( 1, 0 )   yes\\n    flxGPProj::likeli_f_89 -141.118   ( 0, 1 )   yes\\n    flxGPProj::likeli_f_89 -146.572   ( -1, 1 )   yes\\n    flxGPProj::likeli_f_89 -137.884   ( -0.5, 0.75 )   yes\\n    flxGPProj::likeli_f_89 -133.195   ( -0.5, -0.25 )   yes\\n    flxGPProj::likeli_f_89 -146.598   ( -0.75, -0.875 )   yes\\n    flxGPProj::likeli_f_89 -148.617   ( 0, -1 )   yes\\n    flxGPProj::likeli_f_89 -132.247   ( -0.375, 0.3125 )   yes\\n    flxGPProj::likeli_f_89 -133.779   ( -0.875, 0.0625 )   yes\\n    flxGPProj::likeli_f_89 -132.075   ( -0.65625, 0.046875 )   yes\\n    flxGPProj::likeli_f_89 -135.137   ( -0.53125, 0.609375 )   yes\\n    flxGPProj::likeli_f_89 -132.029   ( -0.507812, -0.0351562 )   yes\\n    flxGPProj::likeli_f_89 -135.908   ( -0.789062, -0.300781 )   yes\\n    flxGPProj::likeli_f_89 -131.996   ( -0.478516, 0.15918 )   yes\\n    flxGPProj::likeli_f_89 -132.541   ( -0.330078, 0.0771484 )   yes\\n    flxGPProj::likeli_f_89 -131.92   ( -0.574707, 0.0544434 )   yes\\n    flxGPProj::likeli_f_89 -131.881   ( -0.54541, 0.248779 )   yes\\n    flxGPProj::likeli_f_89 -132.351   ( -0.564209, 0.390747 )   yes\\n    flxGPProj::likeli_f_89 -131.986   ( -0.641602, 0.144043 )   yes\\n    flxGPProj::likeli_f_89 -131.905   ( -0.60083, 0.147827 )   yes\\n    flxGPProj::likeli_f_89 -132.083   ( -0.571533, 0.342163 )   yes\\n    flxGPProj::likeli_f_89 -131.897   ( -0.573914, 0.126373 )   yes\\n    flxGPProj::likeli_f_89 -131.9   ( -0.518494, 0.227325 )   yes\\n    flxGPProj::likeli_f_89 -131.878   ( -0.539078, 0.207451 )   yes\\n    flxGPProj::likeli_f_89 -132.074   ( -0.510574, 0.329857 )   yes\\n    flxGPProj::likeli_f_89 -131.875   ( -0.558079, 0.177244 )   yes\\n       MLE: -131.875 at ( -0.558079, 0.177244 ) :: niter = 27, dim = 2\\n    flxGPProj::likeli_f_89 -131.875   ( -0.558079, 0.177244 )   no\\n', 'logl_obsv': -131.87529828420332, 'N_obsv': 300, 'obsv_up2date': True}\n",
      "{'type': 'singlegp', 'name': 'gp_1', 'mean': {'type': 'universal', 'para_vec': array([9.08218271]), 'normalizef': 1.0}, 'kernel': {'type': ['gauss', 'gauss'], 'para_vec': array([1.3320121 , 0.57230755, 1.1939226 ]), 'n_vec': array([  1.        , 301.60409606,   0.52678004]), 'kernel_sd': 1.3320120953441206}, 'noise': 0.29646855025884833, 'noise_log': '  =====================================\\n  1D-optimization (minimization)\\n  =====================================\\n»» LSE-results  logl=-203.305  »»  sd_obsv [11.19383 <- 1.432597] »»  sd_Z [11.19117 <- 1.432257] »»  sd_noise [0.243861 <- 0.0312096] \\n    *** best guess ***  logl=-203.305  noise=0.0312096  sd_Z=1.432257\\n»» LSE-results  logl=-253.821  »»  sd_obsv [0.599269 <- 3.433912] »»  sd_Z [0.24995 <- 1.432257] »»  sd_noise [0.544654 <- 3.12096] \\n»» LSE-results  logl=-131.875  »»  sd_obsv [1.38838 <- 1.465866] »»  sd_Z [1.356547 <- 1.432257] »»  sd_noise [0.295598 <- 0.312096] \\n    *** best guess ***  logl=-131.875  noise=0.312096  sd_Z=1.432257\\n  fa=f(-3.46703)=203.305\\n  fb=f(-1.16444)=131.875\\n  fc=f(1.13814)=253.821\\n»» LSE-results  logl=-137.063  »»  sd_obsv [2.20581 <- 1.443677] »»  sd_Z [2.188362 <- 1.432257] »»  sd_noise [0.276897 <- 0.181226] \\n  using brent method\\n  iter [lower, upper] xmin fmin err(est)\\n  0\\t-3.46703\\t1.13814\\t-1.16444\\t4.60517\\n»» LSE-results  logl=-144.369  »»  sd_obsv [2.975207 <- 1.438101] »»  sd_Z [2.963116 <- 1.432257] »»  sd_noise [0.267948 <- 0.129516] \\n  1\\t-2.04395\\t1.13814\\t-1.16444\\t3.18209\\n»» LSE-results  logl=-131.915  »»  sd_obsv [1.30946 <- 1.471018] »»  sd_Z [1.274956 <- 1.432257] »»  sd_noise [0.298617 <- 0.335459] \\n  2\\t-2.04395\\t-1.09225\\t-1.16444\\t0.951699\\n»» LSE-results  logl=-131.867  »»  sd_obsv [1.366893 <- 1.467162] »»  sd_Z [1.334374 <- 1.432257] »»  sd_noise [0.296383 <- 0.318125] \\n    *** best guess ***  logl=-131.867  noise=0.318125  sd_Z=1.432257\\n  3\\t-1.16444\\t-1.09225\\t-1.14531\\t0.0721897\\n»» LSE-results  logl=-131.867  »»  sd_obsv [1.36476 <- 1.467294] »»  sd_Z [1.332171 <- 1.432257] »»  sd_noise [0.296463 <- 0.318736] \\n    *** best guess ***  logl=-131.867  noise=0.318736  sd_Z=1.432257\\n  4\\t-1.14531\\t-1.09225\\t-1.14339\\t0.0530574\\n»» LSE-results  logl=-131.867  »»  sd_obsv [1.3646 <- 1.467304] »»  sd_Z [1.332006 <- 1.432257] »»  sd_noise [0.296469 <- 0.318782] \\n    *** best guess ***  logl=-131.867  noise=0.318782  sd_Z=1.432257\\n  5\\t-1.14339\\t-1.09225\\t-1.14325\\t0.0511374\\n»» LSE-results  logl=-131.867  »»  sd_obsv [1.364606 <- 1.467304] »»  sd_Z [1.332012 <- 1.432257] »»  sd_noise [0.296469 <- 0.31878] \\n    *** best guess ***  logl=-131.867  noise=0.31878  sd_Z=1.432257\\n  6\\t-1.14339\\t-1.14325\\t-1.14325\\t0.000144486\\n  Optimization converged\\n»» LSE-results  logl=-131.867  »»  sd_obsv [1.364606 <- 1.467304] »»  sd_Z [1.332012 <- 1.432257] »»  sd_noise [0.296469 <- 0.31878] \\n', 'opt_log': '    flxGPProj::likeli_f_89 -135.302   ( 0, 0 )   no\\n       initial point estimate: -135.302 at ( 0, 0 ) dim=2\\n    flxGPProj::likeli_f_89 -135.302   ( 0, 0 )   no\\n    flxGPProj::likeli_f_89 -147.709   ( 1, 0 )   yes\\n    flxGPProj::likeli_f_89 -141.118   ( 0, 1 )   yes\\n    flxGPProj::likeli_f_89 -146.572   ( -1, 1 )   yes\\n    flxGPProj::likeli_f_89 -137.884   ( -0.5, 0.75 )   yes\\n    flxGPProj::likeli_f_89 -133.195   ( -0.5, -0.25 )   yes\\n    flxGPProj::likeli_f_89 -146.598   ( -0.75, -0.875 )   yes\\n    flxGPProj::likeli_f_89 -148.617   ( 0, -1 )   yes\\n    flxGPProj::likeli_f_89 -132.247   ( -0.375, 0.3125 )   yes\\n    flxGPProj::likeli_f_89 -133.779   ( -0.875, 0.0625 )   yes\\n    flxGPProj::likeli_f_89 -132.075   ( -0.65625, 0.046875 )   yes\\n    flxGPProj::likeli_f_89 -135.137   ( -0.53125, 0.609375 )   yes\\n    flxGPProj::likeli_f_89 -132.029   ( -0.507812, -0.0351562 )   yes\\n    flxGPProj::likeli_f_89 -135.908   ( -0.789062, -0.300781 )   yes\\n    flxGPProj::likeli_f_89 -131.996   ( -0.478516, 0.15918 )   yes\\n    flxGPProj::likeli_f_89 -132.541   ( -0.330078, 0.0771484 )   yes\\n    flxGPProj::likeli_f_89 -131.92   ( -0.574707, 0.0544434 )   yes\\n    flxGPProj::likeli_f_89 -131.881   ( -0.54541, 0.248779 )   yes\\n    flxGPProj::likeli_f_89 -132.351   ( -0.564209, 0.390747 )   yes\\n    flxGPProj::likeli_f_89 -131.986   ( -0.641602, 0.144043 )   yes\\n    flxGPProj::likeli_f_89 -131.905   ( -0.60083, 0.147827 )   yes\\n    flxGPProj::likeli_f_89 -132.083   ( -0.571533, 0.342163 )   yes\\n    flxGPProj::likeli_f_89 -131.897   ( -0.573914, 0.126373 )   yes\\n    flxGPProj::likeli_f_89 -131.9   ( -0.518494, 0.227325 )   yes\\n    flxGPProj::likeli_f_89 -131.878   ( -0.539078, 0.207451 )   yes\\n    flxGPProj::likeli_f_89 -132.074   ( -0.510574, 0.329857 )   yes\\n    flxGPProj::likeli_f_89 -131.875   ( -0.558079, 0.177244 )   yes\\n       MLE: -131.875 at ( -0.558079, 0.177244 ) :: niter = 27, dim = 2\\n    flxGPProj::likeli_f_89 -131.875   ( -0.558079, 0.177244 )   no\\n', 'logl_obsv': -131.86709066589054, 'N_obsv': 300, 'obsv_up2date': True}\n"
     ]
    }
   ],
   "source": [
    "config_gp = { 'name':'gp_1', 'Ndim':2, 'mean_type':'universal', 'mean_polyo':0, 'kernel_lst':['gauss','gauss'] }\n",
    "gp_1 = fesslix.gpr.gp(config_gp)\n",
    "gp_1.get_name()\n",
    "gp_1.condition_on(dm_in,dm_out,opt_noise=True)\n",
    "print( gp_1.info() )\n",
    "gp_1.optimize()\n",
    "print( gp_1.info() )\n",
    "gp_1.condition_on(dm_in,dm_out,init_pvec=False)\n",
    "print( gp_1.info() )"
   ]
  },
  {
   "cell_type": "code",
   "execution_count": 4,
   "metadata": {},
   "outputs": [
    {
     "name": "stdout",
     "output_type": "stream",
     "text": [
      "{'type': 'singlegp', 'name': 'gp_2', 'mean': {'type': 'universal', 'para_vec': array([1.]), 'normalizef': 1.0}, 'kernel': {'type': ['gauss', 'gauss'], 'para_vec': array([1., 1., 1.]), 'n_vec': array([1., 1., 1.]), 'kernel_sd': 1.0}, 'noise': 0.5, 'noise_log': '', 'opt_log': '', 'N_obsv': 0, 'obsv_up2date': False}\n",
      "{'type': 'singlegp', 'name': 'gp_2', 'mean': {'type': 'universal', 'para_vec': array([1.]), 'normalizef': 10.257333333333333}, 'kernel': {'type': ['gauss', 'gauss'], 'para_vec': array([1., 1., 1.]), 'n_vec': array([  0.71788864, 301.60409606,   0.52678004]), 'kernel_sd': 0.7178886421751652}, 'noise': 0.33117755511473074, 'noise_log': '  =====================================\\n  1D-optimization (minimization)\\n  =====================================\\n    *** best guess ***  logl=-1.75414e5  noise=7.178886e-3  sd_Z=0.717889\\n    *** best guess ***  logl=-252.34  noise=0.717889  sd_Z=0.717889\\n  fa=f(-4.93661)=175414\\n  fb=f(-2.63403)=2010.71\\n  fc=f(-0.331441)=252.34\\n  bracketing the mimimum\\n    0: fc=f(3.39422)=1294.12\\n    *** best guess ***  logl=-252.34  noise=0.717889  sd_Z=0.717889\\n  using brent method\\n  iter [lower, upper] xmin fmin err(est)\\n  0\\t-2.63403\\t3.39422\\t-0.331441\\t6.02825\\n  1\\t-2.63403\\t1.09163\\t-0.331441\\t3.72566\\n    *** best guess ***  logl=-157.522  noise=0.297914  sd_Z=0.717889\\n  2\\t-2.63403\\t-0.331441\\t-1.21095\\t2.30259\\n  3\\t-1.25479\\t-0.331441\\t-1.21095\\t0.923354\\n  4\\t-1.25479\\t-0.875007\\t-1.21095\\t0.379788\\n    *** best guess ***  logl=-154.657  noise=0.338703  sd_Z=0.717889\\n  5\\t-1.21095\\t-0.875007\\t-1.08263\\t0.335943\\n    *** best guess ***  logl=-154.535  noise=0.330171  sd_Z=0.717889\\n  6\\t-1.21095\\t-1.08263\\t-1.10815\\t0.128319\\n    *** best guess ***  logl=-154.533  noise=0.331391  sd_Z=0.717889\\n  7\\t-1.10815\\t-1.08263\\t-1.10446\\t0.025514\\n    *** best guess ***  logl=-154.533  noise=0.331183  sd_Z=0.717889\\n  8\\t-1.10815\\t-1.10446\\t-1.10508\\t0.0036894\\n    *** best guess ***  logl=-154.533  noise=0.331178  sd_Z=0.717889\\n  9\\t-1.10815\\t-1.10508\\t-1.1051\\t0.00306199\\n    *** best guess ***  logl=-154.533  noise=0.331178  sd_Z=0.717889\\n  10\\t-1.10815\\t-1.1051\\t-1.1051\\t0.00304531\\n    *** best guess ***  logl=-154.533  noise=0.331178  sd_Z=0.717889\\n  11\\t-1.1051\\t-1.1051\\t-1.1051\\t6.21451e-07\\n  Optimization converged\\n', 'opt_log': '', 'logl_obsv': -154.5327961734892, 'N_obsv': 300, 'obsv_up2date': True}\n",
      "{'type': 'singlegp', 'name': 'gp_2', 'mean': {'type': 'universal', 'para_vec': array([0.87866234]), 'normalizef': 10.257333333333333}, 'kernel': {'type': ['gauss', 'gauss'], 'para_vec': array([1.85394249, 0.80040195, 1.38794787]), 'n_vec': array([  0.71788864, 301.60409606,   0.52678004]), 'kernel_sd': 1.3309242560578016}, 'noise': 0.33117755511473074, 'noise_log': '', 'opt_log': '    flxGPProj::likeli_f_89 -154.533   ( 1, 0, 0, 0 )   no\\n       initial point estimate: -154.533 at ( 1, 0, 0, 0 ) dim=4\\n    flxGPProj::likeli_f_89 -154.533   ( 1, 0, 0, 0 )   no\\n    flxGPProj::likeli_f_89 -1273.36   ( 2, 0, 0, 0 )   yes\\n    flxGPProj::likeli_f_89 -140.294   ( 1, 1, 0, 0 )   yes\\n    flxGPProj::likeli_f_89 -150.568   ( 1, 1, 1, 0 )   yes\\n    flxGPProj::likeli_f_89 -142.83   ( 1, 1, 0, 1 )   yes\\n    flxGPProj::likeli_f_89 -170.223   ( 0, 1.5, 0.5, 0.5 )   yes\\n    flxGPProj::likeli_f_89 -151.702   ( 0.5, 1.125, 0.375, 0.375 )   yes\\n    flxGPProj::likeli_f_89 -150.447   ( 0.75, 2.0625, 0.6875, 0.6875 )   yes\\n    flxGPProj::likeli_f_89 -155.681   ( 1.375, 1.40625, 0.46875, 0.46875 )   yes\\n    flxGPProj::likeli_f_89 -142.969   ( 0.71875, 1.195312, 0.398438, 0.398438 )   yes\\n    flxGPProj::likeli_f_89 -150.681   ( 0.734375, 1.628906, -0.457031, 1.042969 )   yes\\n    flxGPProj::likeli_f_89 -145.859   ( 0.933594, 1.157227, 0.635742, 0.260742 )   yes\\n    flxGPProj::likeli_f_89 -165.13   ( 1.076172, 0.11377, -0.17041, 0.14209 )   yes\\n    flxGPProj::likeli_f_89 -144.689   ( 0.831543, 1.575317, 0.473022, 0.551147 )   yes\\n    flxGPProj::likeli_f_89 -138.939   ( 0.841553, 1.228088, -0.200012, 0.71405 )   yes\\n    flxGPProj::likeli_f_89 -146.032   ( 0.795532, 1.263519, -0.617889, 0.940704 )   yes\\n    flxGPProj::likeli_f_89 -136.053   ( 0.948608, 0.636383, -0.37381, 0.505096 )   yes\\n    flxGPProj::likeli_f_89 -154.804   ( 1.007141, 0.166916, -0.797226, 0.482071 )   yes\\n    flxGPProj::likeli_f_89 -162.995   ( 1.176331, 0.736923, -0.685349, 0.711136 )   yes\\n    flxGPProj::likeli_f_89 -136.911   ( 0.833145, 1.080715, 0.127491, 0.476612 )   yes\\n    flxGPProj::likeli_f_89 -139.93   ( 0.811653, 0.972593, -0.223166, -0.152121 )   yes\\n    flxGPProj::likeli_f_89 -141.546   ( 0.71748, 0.95889, -0.334748, 0.771819 )   yes\\n    flxGPProj::likeli_f_89 -136.762   ( 0.92937, 0.989722, -0.0836871, 0.192955 )   yes\\n    flxGPProj::likeli_f_89 -143.712   ( 0.964685, 0.994861, -0.0418435, 1.096477 )   yes\\n    flxGPProj::likeli_f_89 -136.442   ( 0.849911, 0.97816, -0.177835, 0.160029 )   yes\\n    flxGPProj::likeli_f_89 -136.718   ( 0.938965, 0.614402, -0.0539082, -0.0467042 )   yes\\n    flxGPProj::likeli_f_89 -140.792   ( 1.000282, 0.528619, -0.472111, -0.0709241 )   yes\\n    flxGPProj::likeli_f_89 -135.101   ( 0.874929, 0.942691, -0.0224095, 0.339728 )   yes\\n    flxGPProj::likeli_f_89 -133.366   ( 0.876837, 0.596096, -0.230294, 0.28612 )   yes\\n    flxGPProj::likeli_f_89 -134.874   ( 0.85057, 0.399282, -0.303598, 0.332702 )   yes\\n    flxGPProj::likeli_f_89 -137.521   ( 0.836178, 0.962263, -0.348266, 0.692191 )   yes\\n    flxGPProj::likeli_f_89 -134.699   ( 0.913268, 0.701367, -0.127498, 0.13802 )   yes\\n    flxGPProj::likeli_f_89 -136.702   ( 0.95691, 0.460108, -0.199171, 0.474453 )   yes\\n    flxGPProj::likeli_f_89 -134.593   ( 0.876661, 0.848647, -0.183169, 0.238635 )   yes\\n    flxGPProj::likeli_f_89 -138.538   ( 0.822239, 0.908018, 0.0921246, -3.845265e-3 )   yes\\n    flxGPProj::likeli_f_89 -133.962   ( 0.917016, 0.704292, -0.257326, 0.377861 )   yes\\n    flxGPProj::likeli_f_89 -134.44   ( 0.916961, 0.48251, -0.376734, 0.18059 )   yes\\n    flxGPProj::likeli_f_89 -133.894   ( 0.88047, 0.614405, -0.396264, 0.403583 )   yes\\n    flxGPProj::likeli_f_89 -136.214   ( 0.918981, 0.350004, -0.44714, 0.385442 )   yes\\n    flxGPProj::likeli_f_89 -133.728   ( 0.887241, 0.723986, -0.249162, 0.275337 )   yes\\n    flxGPProj::likeli_f_89 -134.229   ( 0.86382, 0.83688, -0.189789, 0.490861 )   yes\\n    flxGPProj::likeli_f_89 -133.681   ( 0.877106, 0.748287, -0.236525, 0.413293 )   yes\\n    flxGPProj::likeli_f_89 -133.816   ( 0.84381, 0.637096, -0.298796, 0.311305 )   yes\\n    flxGPProj::likeli_f_89 -134.059   ( 0.862027, 0.738327, -0.111125, 0.239444 )   yes\\n    flxGPProj::likeli_f_89 -133.55   ( 0.875859, 0.645386, -0.324979, 0.362548 )   yes\\n    flxGPProj::likeli_f_89 -133.878   ( 0.914711, 0.719782, -0.221684, 0.357344 )   yes\\n    flxGPProj::likeli_f_89 -133.512   ( 0.861535, 0.657767, -0.279518, 0.322815 )   yes\\n    flxGPProj::likeli_f_89 -133.748   ( 0.858427, 0.599781, -0.286497, 0.417051 )   yes\\n    flxGPProj::likeli_f_89 -133.506   ( 0.880038, 0.692935, -0.258496, 0.310765 )   yes\\n    flxGPProj::likeli_f_89 -133.678   ( 0.870029, 0.547805, -0.310118, 0.227831 )   yes\\n    flxGPProj::likeli_f_89 -133.477   ( 0.871798, 0.597925, -0.29172, 0.274197 )   yes\\n    flxGPProj::likeli_f_89 -133.58   ( 0.869245, 0.626976, -0.205035, 0.2344 )   yes\\n    flxGPProj::likeli_f_89 -133.444   ( 0.874205, 0.640783, -0.294993, 0.330511 )   yes\\n    flxGPProj::likeli_f_89 -133.429   ( 0.889903, 0.606103, -0.258233, 0.277982 )   yes\\n    flxGPProj::likeli_f_89 -133.52   ( 0.876334, 0.527518, -0.279125, 0.273639 )   yes\\n    flxGPProj::likeli_f_89 -133.42   ( 0.879112, 0.651581, -0.263653, 0.301484 )   yes\\n    flxGPProj::likeli_f_89 -133.382   ( 0.888231, 0.649356, -0.231867, 0.323852 )   yes\\n    flxGPProj::likeli_f_89 -133.475   ( 0.892836, 0.610784, -0.19703, 0.264207 )   yes\\n    flxGPProj::likeli_f_89 -133.388   ( 0.878863, 0.633284, -0.270502, 0.313935 )   yes\\n    flxGPProj::likeli_f_89 -133.378   ( 0.871618, 0.659056, -0.239925, 0.334714 )   yes\\n    flxGPProj::likeli_f_89 -133.317   ( 0.878662, 0.617314, -0.222641, 0.327826 )   yes\\n    flxGPProj::likeli_f_89 -133.32   ( 0.878438, 0.600181, -0.202135, 0.340998 )   yes\\n    flxGPProj::likeli_f_89 -133.325   ( 0.878811, 0.627627, -0.191861, 0.32232 )   yes\\n    flxGPProj::likeli_f_89 -133.392   ( 0.864733, 0.600691, -0.210494, 0.311638 )   yes\\n    flxGPProj::likeli_f_89 -133.34   ( 0.882356, 0.63719, -0.226523, 0.320798 )   yes\\n    flxGPProj::likeli_f_89 -133.38   ( 0.886715, 0.580058, -0.195735, 0.293819 )   yes\\n    flxGPProj::likeli_f_89 -133.339   ( 0.875392, 0.639306, -0.228877, 0.32449 )   yes\\n    flxGPProj::likeli_f_89 -133.358   ( 0.880774, 0.664623, -0.204657, 0.361598 )   yes\\n    flxGPProj::likeli_f_89 -133.331   ( 0.87979, 0.647491, -0.211067, 0.342728 )   yes\\n    flxGPProj::likeli_f_89 -133.32   ( 0.873971, 0.62868, -0.2007, 0.337884 )   yes\\n    flxGPProj::likeli_f_89 -133.322   ( 0.880225, 0.62125, -0.184257, 0.34089 )   yes\\n    flxGPProj::likeli_f_89 -133.332   ( 0.876045, 0.599945, -0.188663, 0.321732 )   yes\\n    flxGPProj::likeli_f_89 -133.319   ( 0.878853, 0.635605, -0.205466, 0.337479 )   yes\\n       MLE: -133.317 at ( 0.878662, 0.617314, -0.222641, 0.327826 ) :: niter = 73, dim = 4\\n    flxGPProj::likeli_f_89 -133.317   ( 0.878662, 0.617314, -0.222641, 0.327826 )   yes\\n', 'logl_obsv': -133.3174658738168, 'N_obsv': 300, 'obsv_up2date': True}\n"
     ]
    }
   ],
   "source": [
    "config_gp = { 'name':'gp_2', 'Ndim':2, 'mean_type':'universal', 'mean_polyo':0, 'kernel_lst':['gauss','gauss'], 'useLSE':False }\n",
    "gp_2 = fesslix.gpr.gp(config_gp)\n",
    "gp_2.noise_white(0.5)\n",
    "print( gp_2.info() )\n",
    "gp_2.condition_on(dm_in,dm_out,opt_noise=True)  #,opt_noise=False\n",
    "print( gp_2.info() )\n",
    "gp_2.optimize()\n",
    "print( gp_2.info() )"
   ]
  },
  {
   "cell_type": "code",
   "execution_count": 5,
   "metadata": {},
   "outputs": [
    {
     "name": "stdout",
     "output_type": "stream",
     "text": [
      "9.082182705424747 9.082182705424747\n",
      "9.834747448394019 9.834747448394019\n",
      "0.4794831779879559 0.5637355047058976\n"
     ]
    }
   ],
   "source": [
    "print( gp_1.predict([3500.,7.15],type=\"trend\",predict_noise=False), gp_1.predict([3500.,7.15],type=\"trend\",predict_noise=True) )\n",
    "print( gp_1.predict([3500.,7.15],type=\"mean\",predict_noise=False), gp_1.predict([3500.,7.15],type=\"mean\",predict_noise=True) )\n",
    "print( gp_1.predict([3500.,7.15],type=\"sd\",predict_noise=False), gp_1.predict([3500.,7.15],type=\"sd\",predict_noise=True) )"
   ]
  },
  {
   "cell_type": "code",
   "execution_count": null,
   "metadata": {},
   "outputs": [],
   "source": []
  },
  {
   "cell_type": "code",
   "execution_count": null,
   "metadata": {},
   "outputs": [],
   "source": []
  }
 ],
 "metadata": {
  "kernelspec": {
   "display_name": "Python (.venv-fesslix)",
   "language": "python",
   "name": ".venv-fesslix"
  },
  "language_info": {
   "codemirror_mode": {
    "name": "ipython",
    "version": 3
   },
   "file_extension": ".py",
   "mimetype": "text/x-python",
   "name": "python",
   "nbconvert_exporter": "python",
   "pygments_lexer": "ipython3",
   "version": "3.13.3"
  },
  "widgets": {
   "application/vnd.jupyter.widget-state+json": {
    "state": {},
    "version_major": 2,
    "version_minor": 0
   }
  }
 },
 "nbformat": 4,
 "nbformat_minor": 4
}
