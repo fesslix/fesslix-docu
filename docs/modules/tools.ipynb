{
 "cells": [
  {
   "cell_type": "markdown",
   "metadata": {},
   "source": [
    "# `tools` - a collection of useful features"
   ]
  },
  {
   "cell_type": "markdown",
   "metadata": {},
   "source": [
    "\n",
    "```{todo}\n",
    "Write this section.\n",
    "```\n"
   ]
  },
  {
   "cell_type": "code",
   "execution_count": 1,
   "metadata": {},
   "outputs": [
    {
     "name": "stdout",
     "output_type": "stream",
     "text": [
      "Random Number Generator: MT19937 - initialized with rand()=66259881;\n",
      "Random Number Generator: MT19937 - initialized with 1000 initial calls.\n"
     ]
    }
   ],
   "source": [
    "import fesslix as flx\n",
    "flx.load_engine()\n",
    "import fesslix.tools\n",
    "import fesslix.model_templates as flx_model_templates\n",
    "import fesslix.plot as flx_plot\n",
    "\n",
    "import matplotlib.pyplot as plt\n",
    "import numpy as np"
   ]
  },
  {
   "cell_type": "markdown",
   "metadata": {},
   "source": [
    "## Working with files"
   ]
  },
  {
   "cell_type": "markdown",
   "metadata": {},
   "source": [
    "```{eval-rst}\n",
    ".. function:: fesslix.tools.replace_in_template\n",
    "\n",
    "    Syntax:\n",
    "        ``fesslix.tools.replace_in_template(fn_in, fn_out, dmap, var_indi_start=\"@{\", var_indi_end=\"}\")``\n",
    "\n",
    "    Description:\n",
    "        Replaces expressions of the type ``@{VARNAME}`` in file ``fn_in`` with the values in ``dmap`` and writes the processed file to ``fn_out``.\n",
    "\n",
    "        If the expression in ``VARNAME`` starts with a ``!``, the characters after the ``!`` are interpreted as expression of type :type:`rvFullID` and the value of the associated random variable is inserted. \n",
    "        \n",
    "    :param fn_in: File name of the template input file.\n",
    "    :type fn_in: str\n",
    "    :param fn_out: File name of the output file to generate.\n",
    "    :type fn_out: str\n",
    "    :param dmap: A dictionary of all variables that can potentially appear in the file *fn_in*.\n",
    "    :type dmap: dict\n",
    "    :param var_indi_start: Unique expression (w.r.t. structure of file) for the beginning of the expression to replace.\n",
    "    :type var_indi_start: str\n",
    "    :param var_indi_end: Unique expression (w.r.t. structure of file) for the ending of the expression to replace.\n",
    "    :type var_indi_end: str\n",
    "    :rtype: None\n",
    "```\n",
    "**Example:**"
   ]
  },
  {
   "cell_type": "code",
   "execution_count": 2,
   "metadata": {},
   "outputs": [],
   "source": [
    "## ================================================================\n",
    "## Generate a dictionary\n",
    "## ================================================================\n",
    "dmap = {}\n",
    "dmap['var1'] = 42.42\n",
    "dmap['var2'] = \"Hello world!\"\n",
    "\n",
    "## ================================================================\n",
    "## Generate a set of random variables\n",
    "## ================================================================\n",
    "config_rv_a1 = { 'name':'rv1', 'type':'stdn' }\n",
    "config_rv_a2 = { 'name':'rv2', 'type':'logn', 'mu':1., 'sd':2. }\n",
    "rv_set_a = flx.rv_set( {'name':'rv_set_a'}, [ config_rv_a1, config_rv_a2 ] )\n",
    "sampler_a = flx.sampler(['rv_set_a'])\n",
    "sampler_a.sample()\n",
    "    \n",
    "## ================================================================\n",
    "## Open template file and start replacing\n",
    "## ================================================================\n",
    "fesslix.tools.replace_in_template(fn_in=\"../data/sample_text.txt\", fn_out=\"modified_text.txt\", dmap=dmap)"
   ]
  },
  {
   "cell_type": "markdown",
   "metadata": {},
   "source": [
    "The content of the template file is:"
   ]
  },
  {
   "cell_type": "code",
   "execution_count": 7,
   "metadata": {},
   "outputs": [
    {
     "name": "stdout",
     "output_type": "stream",
     "text": [
      "@{var2} » This is an example text file @{var1}. \n",
      "\n",
      "The content is to be modified by »fesslix.tools.replace_in_template«.\n",
      "\n",
      "Value of random variable: @{!rv_set_a::rv1}\n",
      "\n",
      "\n",
      "\n",
      "\n"
     ]
    }
   ],
   "source": [
    "!cat ../data/sample_text.txt"
   ]
  },
  {
   "cell_type": "markdown",
   "metadata": {},
   "source": [
    "The content of the generated output file is:"
   ]
  },
  {
   "cell_type": "code",
   "execution_count": 8,
   "metadata": {},
   "outputs": [
    {
     "name": "stdout",
     "output_type": "stream",
     "text": [
      "Hello world! » This is an example text file 42.42. \n",
      "\n",
      "The content is to be modified by »fesslix.tools.replace_in_template«.\n",
      "\n",
      "Value of random variable: 0.155968\n",
      "\n",
      "\n",
      "\n",
      "\n"
     ]
    }
   ],
   "source": [
    "!cat modified_text.txt"
   ]
  },
  {
   "cell_type": "markdown",
   "metadata": {},
   "source": [
    "## Discretization"
   ]
  },
  {
   "cell_type": "markdown",
   "metadata": {},
   "source": [
    "```{eval-rst}\n",
    ".. function:: fesslix.tools.discretize_x\n",
    "\n",
    "    Syntax:\n",
    "        ``fesslix.tools.discretize_x(x_low, x_up, x_disc_N=int(1e3), x_disc_shift=False, x_disc_on_log=False)``\n",
    "\n",
    "    Description:\n",
    "        Discretizes a domain between `x_low` and `x_up` either linearly or in log scale.\n",
    "        \n",
    "    :param x_low: Lower bound of the discretization interval.\n",
    "    :type x_low: float\n",
    "    :param x_up: Upper bound of the discretization interval.\n",
    "    :type x_up: float\n",
    "    :param x_disc_N: Number of discretization points to generate.\n",
    "    :type x_disc_N: int\n",
    "    :param x_disc_shift: If `True`, the start and end point is shifted by half the mesh size so that `x_low` and `x_up` are not part of the returned set of discretization points.\n",
    "    :type x_disc_shift: bool\n",
    "    :param x_disc_on_log: If `True`, the discretization is performed in log-space (and both `x_low` and `x_up` must be larger than `zero`).\n",
    "    :type x_disc_on_log: bool\n",
    "    :returns: The `x_disc_N` points of discretization.\n",
    "    :rtype: numpy.ndarray\n",
    "```\n",
    "**Example:**"
   ]
  },
  {
   "cell_type": "code",
   "execution_count": 3,
   "metadata": {},
   "outputs": [
    {
     "name": "stdout",
     "output_type": "stream",
     "text": [
      "[0.   0.25 0.5  0.75 1.  ]\n",
      "[0.1 0.3 0.5 0.7 0.9]\n",
      "[0.01       0.03162278 0.1        0.31622777 1.        ]\n"
     ]
    }
   ],
   "source": [
    "print( fesslix.tools.discretize_x(x_low=0., x_up=1., x_disc_N=5, x_disc_shift=False, x_disc_on_log=False) )\n",
    "print( fesslix.tools.discretize_x(x_low=0., x_up=1., x_disc_N=5, x_disc_shift=True, x_disc_on_log=False) )\n",
    "print( fesslix.tools.discretize_x(x_low=0.01, x_up=1., x_disc_N=5, x_disc_shift=False, x_disc_on_log=True) )"
   ]
  },
  {
   "cell_type": "markdown",
   "metadata": {},
   "source": [
    "```{eval-rst}\n",
    ".. function:: fesslix.tools.discretize_x_get_diff\n",
    "\n",
    "    Syntax:\n",
    "        ``fesslix.tools.discretize_x_get_diff(x_low, x_up, x_disc_N=int(1e3), x_disc_on_log=False)``\n",
    "\n",
    "    Description:\n",
    "        Discretizes a domain between `x_low` and `x_up`. In addition to the discretization points, information about the grid size is returned.\n",
    "\n",
    "        Internally, this function calls :func:`fesslix.tools.discretize_x` with ``x_disc_shift=True``. The returned discretization points ``x`` are then interpreted as the mid-points of a discretization grid and the size of each grid element is returned as a second vector ``dx``. \n",
    "        \n",
    "    :param x_low: Lower bound of the discretization interval.\n",
    "    :type x_low: float\n",
    "    :param x_up: Upper bound of the discretization interval.\n",
    "    :type x_up: float\n",
    "    :param x_disc_N: Number of discretization points to generate.\n",
    "    :type x_disc_N: int\n",
    "    :param x_disc_on_log: If `True`, the discretization is performed in log-space (and both `x_low` and `x_up` must be larger than `zero`).\n",
    "    :type x_disc_on_log: bool\n",
    "    :returns: ``(x, dx)`` » ``x``: mid points of grid elements; ``dx`` size of grid elements\n",
    "    :rtype: (numpy.ndarray, numpy.ndarray)\n",
    "```\n",
    "**Example:**"
   ]
  },
  {
   "cell_type": "code",
   "execution_count": 4,
   "metadata": {},
   "outputs": [
    {
     "name": "stdout",
     "output_type": "stream",
     "text": [
      "[0.1 0.3 0.5 0.7 0.9]\n",
      "[0.2 0.2 0.2 0.2 0.2]\n"
     ]
    }
   ],
   "source": [
    "x, dx = fesslix.tools.discretize_x_get_diff(x_low=0., x_up=1., x_disc_N=5, x_disc_on_log=False) \n",
    "print(x)\n",
    "print(dx)"
   ]
  },
  {
   "cell_type": "markdown",
   "metadata": {},
   "source": [
    "```{eval-rst}\n",
    ".. function:: fesslix.tools.discretize_stdNormal_space\n",
    "\n",
    "    Syntax:\n",
    "        ``fesslix.tools.discretize_stdNormal_space(q_low=1e-3, q_up=None, x_disc_N=int(1e3))``\n",
    "\n",
    "    Description:\n",
    "        Returns equally spaced discretization points in the standard Normal domain. The parameters ``q_low`` and ``q_up`` are used to define the bounds in standard Normal space.\n",
    "        \n",
    "    :param q_low: Quantile of a lower bound..\n",
    "    :type q_low: float\n",
    "    :param q_up: Quantile of an upper bound. If ``None`` is specified, ``q_up=1.-q_low`` is assigned.\n",
    "    :type q_up: float\n",
    "    :param x_disc_N: Number of discretization points to generate.\n",
    "    :type x_disc_N: int\n",
    "    :returns: The `x_disc_N` points of discretization.\n",
    "    :rtype: numpy.ndarray\n",
    "```\n",
    "**Example:**"
   ]
  },
  {
   "cell_type": "code",
   "execution_count": 5,
   "metadata": {},
   "outputs": [
    {
     "name": "stdout",
     "output_type": "stream",
     "text": [
      "[-3.09023231 -1.54511615  0.          1.54511615  3.09023231]\n"
     ]
    }
   ],
   "source": [
    "print( fesslix.tools.discretize_stdNormal_space( x_disc_N=5 ) )"
   ]
  },
  {
   "cell_type": "markdown",
   "metadata": {},
   "source": [
    "```{eval-rst}\n",
    ".. function:: fesslix.tools.detect_bounds_x\n",
    "\n",
    "    Syntax:\n",
    "        ``flx_tools.detect_bounds_x(rv, config_dict, q_low=1e-3, q_up=None, mode='ignore')``\n",
    "\n",
    "    Description:\n",
    "        Evaluates and sets bounds `x_low` and `x_up` of random variable `rv` based on quantile values `q_low` and `q_up`. If existing values are to be overwritten is controled by `mode`.\n",
    "        \n",
    "    :param rv: random variable\n",
    "    :type rv: :class:`flx.rv`\n",
    "    :param config_dict: configuration dictionary » This function ensures that the parameters ``x_low`` and ``x_up`` are assigned.\n",
    "    :type config_dict: :type:`flx_plot_config`\n",
    "    :param q_low: Quantile value for lower bound.\n",
    "    :type q_low: :type:`flx_pr`\n",
    "    :param q_up: Quantile value for upper bound.\n",
    "    :type q_up: :type:`flx_pr`\n",
    "    :param mode: Controls how **existing** values of `x_low` and `x_up` in `config_dict` are handled. \n",
    "        The following keywords are allowed:    \n",
    "        \n",
    "        - ``'ignore'``: ignore bounds of `rv`, if `x_low` and `x_up` are already set in `config_dict`\n",
    "        - ``'overwrite'``: use bounds of `rv`, even if `x_low` and `x_up` are already set in `config_dict`\n",
    "        - ``'minmax'``: use smallest value for bounds, if `x_low` and `x_up` are already set in `config_dict`\n",
    "        \n",
    "    :type mode: str    \n",
    "    :returns: `None`\n",
    "```\n",
    "**Example:**"
   ]
  },
  {
   "cell_type": "code",
   "execution_count": 6,
   "metadata": {},
   "outputs": [
    {
     "name": "stdout",
     "output_type": "stream",
     "text": [
      "{'x_low': -4.753424308822899, 'x_up': 2.3263478740408408}\n"
     ]
    }
   ],
   "source": [
    "rv = flx.rv({'type':'stdn'})\n",
    "era_dict = { }\n",
    "fesslix.tools.detect_bounds_x(rv, era_dict,q_low=1e-6,q_up=0.99)\n",
    "print(era_dict)"
   ]
  },
  {
   "cell_type": "markdown",
   "metadata": {},
   "source": [
    "## Data fitting"
   ]
  },
  {
   "cell_type": "markdown",
   "metadata": {},
   "source": [
    "```{eval-rst}\n",
    ".. function:: fesslix.tools.discretize_x_from_data\n",
    "\n",
    "    Syntax:\n",
    "        ``fesslix.tools.discretize_x_from_data(data,config={}, data_is_sorted=False, lower_bound=None, upper_bound=None)``\n",
    "\n",
    "    Description:\n",
    "        Discretize the parameter space into bins based on a data array.\n",
    "        \n",
    "    :param data: vector of data/samples\n",
    "    :type data: numpy.ndarray\n",
    "    :param config: configuration dictionary\n",
    "    :type config: dict\n",
    "    :param data_is_sorted: Set this to ``True`` if the values in *data* are sorted from smallest to largest.\n",
    "    :type data_is_sorted: bool\n",
    "    :param lower_bound: Value of an absolute lower bound. Set *lower_bound* to ``None`` if a lower bound does not exist.\n",
    "    :type lower_bound: float | None\n",
    "    :param upper_bound: Value of an absolute upper bound. Set *upper_bound* to ``None`` if an upper bound does not exist.\n",
    "    :type upper_bound: float | None\n",
    "\n",
    "    Configuration directory:\n",
    "        The following keys are allowed in the configuration dictionary *config*:\n",
    "\n",
    "        - ``mode`` (:type:`Word`, default:``adaptive``): mode for the discretization of data into bins. The following modes for discretization are supported:\n",
    "\n",
    "            - ``adaptive``: The bin size is selected adaptively based on a minimum number of data-points per bin and on a minimum bin size.\n",
    "\n",
    "                For this mode, the following keys are additionally accepted in the configuration dictionary:\n",
    "\n",
    "                - ``N_points_per_bin_min`` (*int*, default: 100): Minimum number of data-points per bin. Any bin must contain at least *N_points_per_bin_min* data-points. The specified integer value must be positive.\n",
    "                - ``dx_min`` (*float*): Minimum size of a bin in parameter space. Any bin must have at least a width of *dx_min*. If *dx_min* is not specified, the default value is assigned such that at most 8 bins fit into the interval spanned by the 75% and 25% quantile.\n",
    "                \n",
    "            - ``equidist_p``: An equidistant grid in probability space is used to generate the bins.\n",
    "            \n",
    "                For this mode, the following keys are additionally accepted in the configuration dictionary:\n",
    "                \n",
    "                - ``N_bins`` (*int*, *optional*): Total number of bins.\n",
    "                - ``N_points_per_bin`` (*int*, default: 100): Number of data-points per bin. This parameter is only considered if *N_bins* is not specified.\n",
    "                \n",
    "            - ``fixed_p``: The user provides the grid layout.\n",
    "            \n",
    "                For this mode, the following key must be specified in the configuration dictionary:\n",
    "                \n",
    "                - ``p_vec`` (*numpy.ndarray*): A numpy array with the probabilities of the discretization points of the grid (i.e., the edges of the bins). The first entry in *p_vec* must be *zero* and the last entry must equal *one*.\n",
    "                \n",
    "        - ``tail_upper`` (*dict*, default:*None*): Sets information about the location of the start of the upper tail. The following key-value pairs are accepted:\n",
    "\n",
    "            - ``p`` (*float*): Probability value that the distribution is smaller or equal than the starting value of the tail.\n",
    "            - ``x`` (*float*): Starting value of the tail. \n",
    "            - ``data`` (*numpy.ndarray*, optional): A vector of samples in the tail. If specified, these samples are used to fit the tail instead of the samples in the global data array.\n",
    "        \n",
    "        - ``tail_lower`` (*dict*, default:*None*): Sets information about the location of the start of the upper tail. Configuration is identical to ``tail_upper``.\n",
    "    \n",
    "    :returns: A Python dictionary that contains the configuration of *data* into bins. \n",
    "\n",
    "        The returned *dict* has the following structure:\n",
    "\n",
    "            - ``N_total`` (*int*): The total number of data-points in the array specified by the input parameter *data*. \n",
    "            - ``N_bins`` (*int*): The total number of bins generated. \n",
    "            - ``q_vec`` (*numpy.ndarray*): Vector of quantiles of the edges of the bins (of size ``N_bins+1``). \n",
    "            - ``p_vec`` (*numpy.ndarray*): Vector of probabilities associated with the values in *q_vec* (of size ``N_bins+1``).\n",
    "            - ``N_vec`` (*numpy.ndarray*): Number of data-points that fall into the individual bins (of size ``N_bins+1``).\n",
    "            - ``tail_upper`` (*dict*): A configuration dictionary for modelling the upper tail. The structure of the *dict* corrsponds to the one returned by :func:`fesslix.tools.fit_tail_to_data`.\n",
    "            - ``tail_lower`` (*dict*): A configuration dictionary for modelling the lower tail. The structure of the *dict* corrsponds to the one returned by :func:`fesslix.tools.fit_tail_to_data`.\n",
    "\n",
    "            - ``type`` (:type:`Word`): Set to ``quantiles``, so that the returned configuration dictionary can directly be used to generate a :ref:`content:rv:quantiles`. \n",
    "            - ``interpol`` (:type:`Word`): Mode of interpolation. For documentation, please see key ``ìnterpol`` in the configuration of :ref:`content:rv:quantiles`.\n",
    "            - ``use_tail_fit`` (*bool*): ... see key ``use_tail_fit`` in the configuration of :ref:`content:rv:quantiles`.\n",
    "            - ``bin_rvbeta_params`` (*bool*): ... see key ``bin_rvbeta_params`` in the configuration of :ref:`content:rv:quantiles`.\n",
    "            - ``bin_rvlinear_params`` (*bool*): ... see key ``bin_rvlinear_params`` in the configuration of :ref:`content:rv:quantiles`.\n",
    "    \n",
    "        The returned *dict* can directly (i.e., without modification) be used as configuration dictionary to generate a :ref:`content:rv:quantiles`.\n",
    "        \n",
    "    :rtype: dict\n",
    "\n",
    "    Examples:\n",
    "        Usage of this function is demonstrated in the examples of the :ref:`content:rv:quantiles`.\n",
    "```"
   ]
  },
  {
   "cell_type": "markdown",
   "metadata": {},
   "source": [
    "```{eval-rst}\n",
    ".. function:: fesslix.tools.fit_tail_to_data\n",
    "\n",
    "    Syntax:\n",
    "        ``fesslix.tools.fit_tail_to_data(tail_data_transformed, bound=None)``\n",
    "\n",
    "    Description:\n",
    "        Fits a probabilistic model to the data-points associated with the tails of a distribution.\n",
    "\n",
    "        This function is called internally by :func:`fesslix.tools.discretize_x_from_data` for fitting the lower and upper tail to data.\n",
    "\n",
    "    :param tail_data_transformed: The data-points associated with the tail. The values need to be transformed such that they are all positive. A value of *zero* is associated with the cutting-quantile of the tail. The larger the value, the further the point is in the tail.\n",
    "    :type tail_data_transformed: *numpy.ndarray*\n",
    "    :param bound: A value specifying an absolute upper value (bound) for the tail. The value needs to be transformed as the data in *tail_data_transformed*.\n",
    "    :type bound: *float*\n",
    "\n",
    "    Supported probabilistic models for the tail:\n",
    "        Currently, the following probabilistic distribution models for the tail are supported:\n",
    "\n",
    "        - ``genpareto`` » :ref:`content:rv:genpareto`\n",
    "        - ``logn`` » :ref:`content:rv:logn`\n",
    "        - ``beta`` » :ref:`content:rv:beta` (only if *bound* is not *None*)\n",
    "    \n",
    "    :returns: A Python dictionary that contains the configuration for the probabilistic model of the tail. \n",
    "\n",
    "        The returned *dict* has the following structure:\n",
    "\n",
    "            - ``models`` (*dict*): A Python dictionary that contains all fitted models. All supported models are listed above. The *key* (of type :type:`flx_rv_type`) corresonds to the respective model. The value is a Python dictionary that contains with the following structure:\n",
    "\n",
    "                - ``type`` (:type:`flx_rv_type`): The type of the tail model.\n",
    "                - ``pdf_0`` (*float*): The value of the PDF at *zero*.\n",
    "                - ``nll`` (*float*): Value of the negative log-likelihood of the data (w.r.t. the fitted probabilistic model).\n",
    "                - ``kstest_D`` (*float*): KS test statistic\n",
    "                - ``kstest_p`` (*float*): p value from KS test\n",
    "\n",
    "                Additionally, for each probabilistic model, all parameters are specified such that the returned *dict* can be used as configuration *dict* to define a random variable (:func:`flx.rv.__init__`).         \n",
    "                \n",
    "            - ``best_model`` (:type:`flx_rv_type`): A reference to the model in *models* with the smallest value of the negative log likelihood (*nll*).\n",
    "            - ``use_model`` (:type:`flx_rv_type`): A reference to the model in *models* that should actually be used as probabilistic model for the tail. By default, this value is set equal to the value of *best_model*. This value needs to be modified by the user if a model different from the one with the largest likelihood should be used. If ``use_model`` is set to ``\"None\"`` (as string), no probabilistic distribution model is associated with the tail.\n",
    "            \n",
    "    :rtype: dict\n",
    "```"
   ]
  },
  {
   "cell_type": "markdown",
   "metadata": {},
   "source": [
    "```{eval-rst}\n",
    ".. function:: fesslix.tools.fit_pdf_based_on_qvec\n",
    "\n",
    "    Syntax:\n",
    "        ``fesslix.tools.fit_pdf_based_on_qvec(data, config)``\n",
    "\n",
    "    Description:\n",
    "        Fits a PDF based on linear interpolation to a data vector.\n",
    "        \n",
    "    :param data: vector of data/samples\n",
    "    :type data: numpy.ndarray\n",
    "    :param config: Configuration dictionary, as returned by :func:`fesslix.tools.discretize_x_from_data`. \n",
    "    :type config: dict\n",
    "\n",
    "    :returns: *None*\n",
    "\n",
    "    Modification of the configuration dictionary:\n",
    "        The configuration dictionary *config* is extended by this function.\n",
    "        Specifically, the key ``pdf_vec`` is added and the key ``ìnterpol`` is changed to ``pdf_linear`` (compare :ref:`content:rv:quantiles`).\n",
    "\n",
    "    Examples:\n",
    "        Usage of this function is demonstrated in the examples of the :ref:`content:rv:quantiles`.\n",
    "\n",
    "```"
   ]
  },
  {
   "cell_type": "code",
   "execution_count": null,
   "metadata": {},
   "outputs": [],
   "source": []
  }
 ],
 "metadata": {
  "kernelspec": {
   "display_name": "Python (.venv-fesslix)",
   "language": "python",
   "name": ".venv-fesslix"
  },
  "language_info": {
   "codemirror_mode": {
    "name": "ipython",
    "version": 3
   },
   "file_extension": ".py",
   "mimetype": "text/x-python",
   "name": "python",
   "nbconvert_exporter": "python",
   "pygments_lexer": "ipython3",
   "version": "3.13.5"
  },
  "widgets": {
   "application/vnd.jupyter.widget-state+json": {
    "state": {},
    "version_major": 2,
    "version_minor": 0
   }
  }
 },
 "nbformat": 4,
 "nbformat_minor": 4
}
