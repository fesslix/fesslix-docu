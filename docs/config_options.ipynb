{
 "cells": [
  {
   "cell_type": "markdown",
   "metadata": {},
   "source": [
    "(content:config:options)=\n",
    "# Configuration options\n",
    "\n",
    "## Introduction\n",
    "\n",
    "Fesslix can be configured using a configuration file. By default, Fesslix checks on start-up if the configuration file `fesslix.yaml` exists in the current working directory. The format of the file is [YAML][YAML-wiki].\n",
    "\n",
    "The following sections list all options that can be specified within the configuration file.\n",
    "\n",
    "## Configuration options available in Fesslix\n",
    "\n",
    "### General options\n",
    "\n",
    "```yaml\n",
    "flx:\n",
    "    ## prgbar » The execution of some objects might require some time. Some ojects can output a progress-bar \n",
    "    ##          to indicate how much of the work has already been completed. If this option is set to no, \n",
    "    ##          such a progress-bar is not shown.\n",
    "    ##    type          » bool\n",
    "    ##    default value » True\n",
    "    prgbar: True\n",
    "    ## usescreen » In case output to the standard output stream (the screen) is undesirable, it can be suppressed \n",
    "    ##             by setting this option to 'False'.\n",
    "    ##             If this option is set to 'False', output to ’cout’ is redirected to the log-file\n",
    "    ##             specified in configuration option 'log.file' (which must not be set to '{screen}').\n",
    "    ##    type          » bool\n",
    "    ##    default value » True\n",
    "    usescreen: True\n",
    "    ## leak-check » Run Fesslix, aware that leak-checking is done.\n",
    "    ##              For debbugging purposes only!!!\n",
    "    ##    type          » bool\n",
    "    ##    default value » False\n",
    "    leak-check: False\n",
    "```\n",
    "\n",
    "### Configuration option TOL\n",
    "\n",
    "A floating-point number is checked against `TOL` at various points in the code. In this check, if the\n",
    "number is smaller or equal to the value of `TOL`, the number is considered zero.\n",
    "\n",
    "```{caution}\n",
    "Setting the value of `TOL` equal to *zero* might cause numerical problems.\n",
    "Setting `TOL` too large is also not a good idea.\n",
    "```\n",
    "\n",
    "```yaml\n",
    "## TOL »  If checked against TOL, a number with an absolute value smaller or equal\n",
    "##        than this threshold is considered to be zero.\n",
    "##    type          » double\n",
    "##    default value » 1e-14\n",
    "TOL: !!float 1e-14   ## the !!float is required to ensure the value is not interpreted as a string\n",
    "```\n",
    "\n",
    "### Floating-point conversion\n",
    "\n",
    "```{todo}\n",
    "Write this section.\n",
    "```\n",
    "\n",
    "```yaml\n",
    "fpc:\n",
    "    ## prec »  Set the precision of floating point conversions.\n",
    "    ##         Sets the default value of the parameter flxoutput::float::prec.\n",
    "    ##    type          » unsigned integer\n",
    "    ##    default value » 6\n",
    "    prec: 6\n",
    "    ## type »  Set the type of floating point conversions.\n",
    "    ##         Sets the default value of the parameter flxoutput::float::type.\n",
    "    ##    type          » unsigned integer\n",
    "    ##    default value » 2\n",
    "    type: 2\n",
    "    ## bvalu » Set the upper bound (type 2) of floating point conversions.\n",
    "    ##         Sets the default value of the parameter flxoutput::float::bvalu.\n",
    "    ##    type          » double\n",
    "    ##    default value » 1e4\n",
    "    bvalu: !!float 1e4  ## the !!float is required to ensure the value is not interpreted as a string\n",
    "    ## bvall » Set the lower bound (type 2) of floating point conversions.\n",
    "    ##         Sets the default value of the parameter flxoutput::float::bvall.\n",
    "    ##    type          » double\n",
    "    ##    default value » 1e-2\n",
    "    bvall: !!float 1e-2  ## the !!float is required to ensure the value is not interpreted as a string\n",
    "    ## del0 » Set removing of zeros in case of floating point conversions.\n",
    "    ##        Sets the default value of the parameter flxoutput::float::del0.\n",
    "    ##    type          » bool\n",
    "    ##    default value » True\n",
    "    del0: True\n",
    "    ## delp » Set removing of the leading plus in case of floating point conversions.\n",
    "    ##        Sets the default value of the parameter flxoutput::float::delp.\n",
    "    ##    type          » bool\n",
    "    ##    default value » True\n",
    "    delp: True\n",
    "```\n",
    "\n",
    "### Gauss points\n",
    "\n",
    "When Fesslix starts, a file with Gauss points is loaded. By default, a file\n",
    "containing up to 45 Gauss points is installed with Fesslix.\n",
    "\n",
    "```yaml\n",
    "gauss:\n",
    "    ## file » Set a specific file to load the Gauss points from. \n",
    "    ##        Setting this option to \"{no}\" forces Fesslix not to load any Gauss-file. \n",
    "    ##        Setting this option to \"{default}\" will load the default Gauss-file.\n",
    "    ##    type          » string\n",
    "    ##    default value » \"{default}\"\n",
    "    file: \"{default}\"\n",
    "    ## maxnumb » Maximum number of Gauss points to input - from the file containing the Gauss points.\n",
    "    ##    type          » unsigned integer\n",
    "    ##    default value » 45\n",
    "    maxnumb: 45\n",
    "    ## numb » Number of Gauss points to load from the file already at the start of Fesslix.\n",
    "    ##    type          » unsigned integer\n",
    "    ##    default value » 20\n",
    "    numb: 20\n",
    "```\n",
    "\n",
    "(content:config:options:logging)=\n",
    "### Control the logging behavior\n",
    "\n",
    "The {ref}`content:config:logging` behavior of Fesslix can be controlled by means of the following configuration options:\n",
    "\n",
    "```yaml\n",
    "log:\n",
    "    ## input » Output the input of Fesslix (i.e., the content of the parameter file) to the log.\n",
    "    ##    type          » bool\n",
    "    ##    default value » True\n",
    "    input: True\n",
    "    ## file » Set a specific log-file for the output of logs. \n",
    "    ##        By means of the keyword \"{screen}\" you can output the log directly to cout (the screen).\n",
    "    ##    type          » string\n",
    "    ##    default value » \"fesslix.log\"\n",
    "    file: \"fesslix.log\"\n",
    "    ## level » Set the initial log-level.\n",
    "    ##    type          » integer\n",
    "    ##    default value » 4\n",
    "    level: 4\n",
    "    ## output » Send the output of Fesslix (which is written to cout) also to the log.\n",
    "    ##    type          » bool\n",
    "    ##    default value » True\n",
    "    output: True\n",
    "    ## trunc » If the logging information is written into a file, \n",
    "    ##         setting this option to 'True' will overwrite an already existing file that has the same name.\n",
    "    ##         If this option is set to 'False', the output will be appended in case a \n",
    "    ##         file with the same name already exists.\n",
    "    ##    type          » bool\n",
    "    ##    default value » True\n",
    "    trunc: True\n",
    "```\n",
    "\n",
    "### Pseudorandom number generator\n",
    "\n",
    "Fesslix uses the [Mersenne Twister][Mersenne-wiki] algorithm that is based on the \n",
    "Mersenne prime $2^{19937} − 1$ as pseudorandom number generator.\n",
    "\n",
    "```yaml\n",
    "MT19937:\n",
    "    init:\n",
    "        ## calls » number of initial calls of MT19937 after initization\n",
    "        ##    type          » unsigned integer\n",
    "        ##    default value » 1000\n",
    "        calls: 1000\n",
    "        ## rand » Initializes the Mersenne twister pseudorandom number generator MT19937 \n",
    "        ##        with the rand-function instead of the function time(0).\n",
    "        ##    type          » bool\n",
    "        ##    default value » True\n",
    "        rand: True\n",
    "        ## seed » Initializes the Mersenne twister pseudorandom number generator MT19937\n",
    "        ##        with the seed value specified in MT19937.init.seedvalue.\n",
    "        ##    type          » bool\n",
    "        ##    default value » False\n",
    "        seed: False\n",
    "        ## seedvalue »  Initial seed value in case MT19937.init.seed=yes\n",
    "        ##    type          » unsigned integer\n",
    "        ##    default value » 0\n",
    "        seedvalue: 0\n",
    "```\n",
    "        \n",
    "### All other options\n",
    "\n",
    "```yaml\n",
    "Legendre:\n",
    "    ## numb » Number of Legendre polynomials to initialize\n",
    "    ##    type          » unsigned integer\n",
    "    ##    default value » 10\n",
    "    numb: 10\n",
    "```    \n",
    "\n",
    "[YAML-wiki]: https://en.wikipedia.org/wiki/YAML \"Wikipedia page on YAML\"\n",
    "[Mersenne-wiki]: https://en.wikipedia.org/wiki/Mersenne_twister \"Wikipedia page on Mersenne twister\"\n",
    "\n"
   ]
  },
  {
   "cell_type": "markdown",
   "metadata": {},
   "source": [
    "(content:config:options:manual)=\n",
    "## Manually loading configuration options\n",
    "\n",
    "You can also load configuration files with arbitrary names; e.g. to load `my_flx_test.yaml' with content:\n"
   ]
  },
  {
   "cell_type": "code",
   "execution_count": 1,
   "metadata": {},
   "outputs": [
    {
     "name": "stdout",
     "output_type": "stream",
     "text": [
      "MT19937:\n",
      "    init:\n",
      "        calls: 2000\n",
      "        seed: True\n",
      "        seedvalue: 12345\n"
     ]
    }
   ],
   "source": [
    "!cat my_flx_test.yaml"
   ]
  },
  {
   "cell_type": "markdown",
   "metadata": {},
   "source": [
    "... you can use `flx.process_config(PYTHON_DICT)`, which expects a Python `<dict>` as input:"
   ]
  },
  {
   "cell_type": "code",
   "execution_count": 2,
   "metadata": {},
   "outputs": [
    {
     "name": "stdout",
     "output_type": "stream",
     "text": [
      "  Random Number Generator: MT19937 - initialized with user seed (12345)\n",
      "Random Number Generator: MT19937 - initialized with 2000 initial calls.\n"
     ]
    },
    {
     "data": {
      "text/plain": [
       "0"
      ]
     },
     "execution_count": 2,
     "metadata": {},
     "output_type": "execute_result"
    }
   ],
   "source": [
    "import fesslix as flx\n",
    "import yaml\n",
    "\n",
    "## NOTE: replace \"my_flx_test.yaml\" with your user-defined configuration file\n",
    "with open(\"my_flx_test.yaml\", \"r\") as fs:\n",
    "  flx.process_config( yaml.safe_load(fs) )\n",
    "\n",
    "flx.load_engine()"
   ]
  },
  {
   "cell_type": "markdown",
   "metadata": {},
   "source": [
    "Alternatively, you can also specify the configuration options directly inline:"
   ]
  },
  {
   "cell_type": "code",
   "execution_count": 3,
   "metadata": {},
   "outputs": [
    {
     "name": "stdout",
     "output_type": "stream",
     "text": [
      "  Random Number Generator: MT19937 - initialized with user seed (12345)\n",
      "Random Number Generator: MT19937 - initialized with 3000 initial calls.\n"
     ]
    },
    {
     "data": {
      "text/plain": [
       "0"
      ]
     },
     "execution_count": 3,
     "metadata": {},
     "output_type": "execute_result"
    }
   ],
   "source": [
    "flx.process_config( { 'MT19937': { 'init': { 'calls': 3000 } } } )\n",
    "flx.load_engine()"
   ]
  },
  {
   "cell_type": "code",
   "execution_count": null,
   "metadata": {},
   "outputs": [],
   "source": []
  }
 ],
 "metadata": {
  "kernelspec": {
   "display_name": "Python (.venv-fesslix)",
   "language": "python",
   "name": ".venv-fesslix"
  },
  "language_info": {
   "codemirror_mode": {
    "name": "ipython",
    "version": 3
   },
   "file_extension": ".py",
   "mimetype": "text/x-python",
   "name": "python",
   "nbconvert_exporter": "python",
   "pygments_lexer": "ipython3",
   "version": "3.13.2"
  },
  "widgets": {
   "application/vnd.jupyter.widget-state+json": {
    "state": {},
    "version_major": 2,
    "version_minor": 0
   }
  }
 },
 "nbformat": 4,
 "nbformat_minor": 4
}
