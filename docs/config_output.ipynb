{
 "cells": [
  {
   "cell_type": "markdown",
   "metadata": {},
   "source": [
    "# Output of the configuration"
   ]
  },
  {
   "cell_type": "markdown",
   "metadata": {},
   "source": [
    "To output all configuration options used by Fesslix, use the function `print_info()`:"
   ]
  },
  {
   "cell_type": "code",
   "execution_count": 1,
   "metadata": {},
   "outputs": [
    {
     "name": "stdout",
     "output_type": "stream",
     "text": [
      " Fesslix:\n",
      "   version: 0.1.11\n",
      "   compiled with the options ...\n",
      "     FLX_DEBUG                     OFF\n",
      "     FLX_DEBUG_COUT                OFF\n",
      "     FLX_USE_ARPACK                OFF\n",
      "     FLX_USE_GSL                   ON\n",
      "     FLX_BOOST_FS                  OFF\n",
      "     FLX_BOOST_RX                  OFF\n",
      "     FLX_KAHAN_MCI                 ON\n",
      "     FLX_KAHAN_KDE                 ON\n",
      "     FLX_KAHAN_DOT                 OFF\n",
      "     FLX_KAHAN_2NORM               OFF\n",
      "     FLX_KAHAN_MTX_FULL            OFF\n",
      "     FLX_KAHAN_MTX_LTRI            OFF\n",
      "     FLX_KAHAN_MTX_SLTRI           OFF\n",
      "     FLX_KAHAN_MTX_SSILU           OFF\n",
      "     FLX_KAHAN_MTX_SYM             OFF\n",
      "     FLX_KAHAN_MTX_SSYM            OFF\n",
      "     FLX_KAHAN_MTX_SSFEM           OFF\n",
      "     FLX_KAHAN_MTX_PFEM            OFF\n",
      "     FLX_KAHAN_CG_STAGE            1\n",
      " Compilation:\n",
      "   OS of compilation:              UNIX Linux \n",
      "   Compiled on Mar 12 2025 at 10:47:10\n",
      "   Numeric limits ...\n",
      "     tdouble                       \n",
      "        digits:                    15\n",
      "        epsilon:                   2.22045e-16\n",
      "        min:                       2.22507e-308\n",
      "        max:                       1.79769e+308\n",
      "        round_style:               1\n",
      "     tfloat                        \n",
      "        digits:                    6\n",
      "        epsilon:                   1.19209e-07\n",
      "        min:                       1.17549e-38\n",
      "        max:                       3.40282e+38\n",
      "        round_style:               1\n",
      "     double                        \n",
      "        digits:                    15\n",
      "        epsilon:                   2.22045e-16\n",
      "        min:                       2.22507e-308\n",
      "        max:                       1.79769e+308\n",
      "        round_style:               1\n",
      "     long double                   \n",
      "        digits:                    18\n",
      "        epsilon:                   1.0842e-19\n",
      "        min:                       3.3621e-4932\n",
      "        max:                       1.18973e+4932\n",
      "        round_style:               1\n",
      "     float                         \n",
      "        digits:                    6\n",
      "        epsilon:                   1.19209e-07\n",
      "        min:                       1.17549e-38\n",
      "        max:                       3.40282e+38\n",
      "        round_style:               1\n",
      "     int                           \n",
      "        digits:                    9\n",
      "        min:                       -2147483648\n",
      "        max:                       2147483647\n",
      "        round_style:               0\n",
      "     long                          \n",
      "        digits:                    18\n",
      "        min:                       -9223372036854775808\n",
      "        max:                       9223372036854775807\n",
      "        round_style:               0\n",
      "     unsigned int                  \n",
      "        digits:                    9\n",
      "        min:                       0\n",
      "        max:                       4294967295\n",
      "        round_style:               0\n",
      "     unsigned long                 \n",
      "        digits:                    19\n",
      "        min:                       0\n",
      "        max:                       18446744073709551615\n",
      "        round_style:               0\n",
      "     tuint                         \n",
      "        digits:                    9\n",
      "        min:                       0\n",
      "        max:                       4294967295\n",
      "        round_style:               0\n",
      "     tnlong                        \n",
      "        digits:                    9\n",
      "        min:                       0\n",
      "        max:                       4294967295\n",
      "        round_style:               0\n",
      "     tulong                        \n",
      "        digits:                    19\n",
      "        min:                       0\n",
      "        max:                       18446744073709551615\n",
      "        round_style:               0\n",
      "     size_t                        \n",
      "        digits:                    19\n",
      "        min:                       0\n",
      "        max:                       18446744073709551615\n",
      "        round_style:               0\n",
      "Fesslix: started with the configuration ...\n",
      "  gauss.maxnumb                 45\n",
      "  legendre.numb                 10\n",
      "  TOL                           1e-14\n",
      "  leak-check                    no\n",
      "  floating point conversion:\n",
      "        Precision:              6\n",
      "        Type:                   2 [0.01; 10000]\n",
      "        Del0:                   yes\n",
      "        DelP:                   yes\n"
     ]
    }
   ],
   "source": [
    "import fesslix as flx\n",
    "\n",
    "## Use flx.print_info() to output configuration options of Fesslix\n",
    "flx.print_info()"
   ]
  },
  {
   "cell_type": "code",
   "execution_count": null,
   "metadata": {},
   "outputs": [],
   "source": []
  }
 ],
 "metadata": {
  "kernelspec": {
   "display_name": "Python (.venv-fesslix)",
   "language": "python",
   "name": ".venv-fesslix"
  },
  "language_info": {
   "codemirror_mode": {
    "name": "ipython",
    "version": 3
   },
   "file_extension": ".py",
   "mimetype": "text/x-python",
   "name": "python",
   "nbconvert_exporter": "python",
   "pygments_lexer": "ipython3",
   "version": "3.13.2"
  },
  "widgets": {
   "application/vnd.jupyter.widget-state+json": {
    "state": {},
    "version_major": 2,
    "version_minor": 0
   }
  }
 },
 "nbformat": 4,
 "nbformat_minor": 4
}
