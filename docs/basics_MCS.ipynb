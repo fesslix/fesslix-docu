{
 "cells": [
  {
   "cell_type": "markdown",
   "metadata": {},
   "source": [
    "# Monte Carlo simulation\n"
   ]
  },
  {
   "cell_type": "markdown",
   "metadata": {},
   "source": [
    "## TODO\n",
    "\n",
    "```{todo}\n",
    "Write this section.\n",
    "```"
   ]
  },
  {
   "cell_type": "markdown",
   "metadata": {},
   "source": [
    "```{eval-rst}\n",
    ".. py:method:: flx.sampler.perform_MCS\n",
    "    :classmethod:\n",
    "\n",
    "    This method requires an object of type :class:`flx.sampler`.\n",
    "    \n",
    "    Syntax:\n",
    "        ``flx.sampler.perform_MCS(N, VFUN, DBOX)``\n",
    "\n",
    "    Description:\n",
    "        Perform a Monte Carlo simulation.\n",
    "        \n",
    "    :param N: The total number of samples to generate in the Monte Carlo simulation. Must be a value larger than *zero*.\n",
    "    :type N: *int*\n",
    "    :param VFUN: The model; i.e., a vector-valued function that depends on the input random variables of this sampler.\n",
    "    :type VFUN: :type:`flxVecPara`\n",
    "    :param DBOX: A data-box that handles the post-processing of the generated samples.\n",
    "    :type DBOX: :class:`flx.dataBox`\n",
    "    \n",
    "    :rtype: None\n",
    "```\n",
    "\n",
    "**Example**:"
   ]
  },
  {
   "cell_type": "code",
   "execution_count": 1,
   "metadata": {},
   "outputs": [
    {
     "name": "stdout",
     "output_type": "stream",
     "text": [
      "Random Number Generator: MT19937 - initialized with rand()=391051230;\n",
      "Random Number Generator: MT19937 - initialized with 1000 initial calls.\n"
     ]
    },
    {
     "data": {
      "text/plain": [
       "0"
      ]
     },
     "execution_count": 1,
     "metadata": {},
     "output_type": "execute_result"
    }
   ],
   "source": [
    "import fesslix as flx\n",
    "flx.load_engine()"
   ]
  },
  {
   "cell_type": "code",
   "execution_count": 2,
   "metadata": {},
   "outputs": [],
   "source": [
    "## ==============================================\n",
    "## Generate input model\n",
    "## ==============================================\n",
    "config_rv_R = { 'name':'R', 'type':'logn', 'mu':6., 'sd':1. }\n",
    "config_rv_S = { 'name':'S', 'type':'normal', 'mu':1., 'sd':1. }\n",
    "rv_set = flx.rv_set( {'name':'rv_set'}, [ config_rv_R, config_rv_S ] )\n",
    "sampler = flx.sampler(['rv_set'])"
   ]
  },
  {
   "cell_type": "code",
   "execution_count": 3,
   "metadata": {},
   "outputs": [],
   "source": [
    "## ==============================================\n",
    "## Generate output model\n",
    "## ==============================================\n",
    "model = [ \"rbrv(rv_set::R)-rbrv(rv_set::S)\" ]"
   ]
  },
  {
   "cell_type": "code",
   "execution_count": 4,
   "metadata": {},
   "outputs": [],
   "source": [
    "## ==============================================\n",
    "## Set up dataBox\n",
    "## ==============================================\n",
    "dBox = flx.dataBox(2,1)\n",
    "pp_rel = dBox.register_post_processor({ 'type':'reliability', 'col':{ 'set':'out', 'id':0} })"
   ]
  },
  {
   "cell_type": "code",
   "execution_count": 5,
   "metadata": {},
   "outputs": [],
   "source": [
    "## ==============================================\n",
    "## Perform the Monte Carlo simulation\n",
    "## ==============================================\n",
    "sampler.perform_MCS(100000,model,dBox)"
   ]
  },
  {
   "cell_type": "code",
   "execution_count": 6,
   "metadata": {},
   "outputs": [
    {
     "name": "stdout",
     "output_type": "stream",
     "text": [
      "{'N': 100000, 'H': 6, 'mean_freq': 6e-05, 'rv_pf': <fesslix.core.rv object at 0x7c899c705670>, 'mean_bayes': 6.999860002799944e-05}\n"
     ]
    }
   ],
   "source": [
    "## ==============================================\n",
    "## Post-processing\n",
    "## ==============================================\n",
    "pp_rel_res = pp_rel.eval()\n",
    "print( pp_rel_res )"
   ]
  },
  {
   "cell_type": "code",
   "execution_count": null,
   "metadata": {},
   "outputs": [],
   "source": []
  }
 ],
 "metadata": {
  "kernelspec": {
   "display_name": "Python (.venv-fesslix)",
   "language": "python",
   "name": ".venv-fesslix"
  },
  "language_info": {
   "codemirror_mode": {
    "name": "ipython",
    "version": 3
   },
   "file_extension": ".py",
   "mimetype": "text/x-python",
   "name": "python",
   "nbconvert_exporter": "python",
   "pygments_lexer": "ipython3",
   "version": "3.13.3"
  },
  "widgets": {
   "application/vnd.jupyter.widget-state+json": {
    "state": {},
    "version_major": 2,
    "version_minor": 0
   }
  }
 },
 "nbformat": 4,
 "nbformat_minor": 4
}
