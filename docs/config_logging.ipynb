{
 "cells": [
  {
   "cell_type": "markdown",
   "metadata": {},
   "source": [
    "(content:config:logging)=\n",
    "# Logging"
   ]
  },
  {
   "cell_type": "markdown",
   "metadata": {},
   "source": [
    "By default, all output and logging messages of Fesslix are sent to the file `fesslix.log` in the current working directory. Additionaly, most logging messages are also sent to the standard output (the screen). However, it is also possible to log exclusively to the standard output (count) or a log file. \n",
    "\n",
    "## Configuration \n",
    "Where the logging information should be written to is controlled by the {ref}`content:config:options` described in {ref}`content:config:options:logging`.\n",
    "\n",
    "## Log levels in Fesslix"
   ]
  },
  {
   "cell_type": "markdown",
   "metadata": {},
   "source": [
    "```{eval-rst}\n",
    ".. data:: flx_logLevel\n",
    "\n",
    "   Represents the logging level used in the logger of Fesslix.\n",
    "\n",
    "   :type: int\n",
    "\n",
    "   Possible values:\n",
    "       - **1**: ``ALERT`` » alerts and errors are logged\n",
    "       - **2**: ``WARNING`` » warnings are logged\n",
    "       - **3**: ``NOTICE`` » normal but significant information is logge\n",
    "       - **4**: ``INFO`` » information\n",
    "       - **5**: ``DEBUG`` » debug-level messages\n",
    "```"
   ]
  },
  {
   "cell_type": "markdown",
   "metadata": {},
   "source": [
    "The default log-level is 4. If the log-level of a message is larger than the log-level set\n",
    "in the application, the message is not logged. The initial log-level is set using the {ref}`content:config:options` `log.level` described in {ref}`content:config:options:logging`. \n",
    "\n",
    "```{todo}\n",
    "At runtime the log-level can be controlled by means of the object default and the DefSet-\n",
    "Name log::level.\n",
    "```\n",
    "\n",
    "## Generate user-defined log messages\n",
    "You can also use the logging interface of Fesslix from within Python through the function {func}`flx.slog`:"
   ]
  },
  {
   "cell_type": "markdown",
   "metadata": {},
   "source": [
    "```{eval-rst}\n",
    ".. function:: flx.slog\n",
    "\n",
    "    Syntax:\n",
    "        ``flx.slog(log_message,log_level=4)``\n",
    "\n",
    "    Description:\n",
    "        Send user-defined messages to the logger of Fesslix.\n",
    "        \n",
    "    :param log_message: The log message to be logged.\n",
    "    :type log_message: str\n",
    "    :param log_level: The level to use for logging.\n",
    "    :type log_level: :data:`flx_logLevel`\n",
    "    :rtype: None\n",
    "    \n",
    "```"
   ]
  },
  {
   "cell_type": "markdown",
   "metadata": {},
   "source": [
    "### Example"
   ]
  },
  {
   "cell_type": "code",
   "execution_count": 1,
   "metadata": {},
   "outputs": [
    {
     "name": "stdout",
     "output_type": "stream",
     "text": [
      "Random Number Generator: MT19937 - initialized with rand()=985321128;\n",
      "Random Number Generator: MT19937 - initialized with 1000 initial calls.\n",
      "Hello world!\n"
     ]
    }
   ],
   "source": [
    "import fesslix as flx\n",
    "flx.load_engine()\n",
    "\n",
    "## Use flx.slog(LOG_LEVEL,LOG_MESSAGE) to generate a log entry\n",
    "##    LOG_LEVEL   :: int\n",
    "##    LOG_MESSAGE :: string\n",
    "flx.slog(\"Hello world!\", 3)"
   ]
  },
  {
   "cell_type": "markdown",
   "metadata": {},
   "source": [
    "## Using a logger from Python's logging module\n",
    "However, you can also use Python's `logging` module to configure the logging behavior of Fesslix. For information on how to use the `logging` module, check out the [Python logging HowTo][logging-docu] or this [tutorial][logging-tutorial].\n",
    "\n",
    "Python's `logging` module uses the following default log levels: `DEBUG`, `INFO`, `WARNING`, `ERROR` and `CRITICAL`. The mapping between Python's log-levels and the log-levels in Fesslix is:\n",
    "- **5** » `DEBUG`\n",
    "- **4** » `INFO`\n",
    "- **3** » `INFO`\n",
    "- **2** » `WARNING`\n",
    "- **1** » `CRITICAL`\n",
    "\n",
    "The following example demonstrates how to set up a logger in Python that logs to both the command line and into a file:"
   ]
  },
  {
   "cell_type": "code",
   "execution_count": 2,
   "metadata": {},
   "outputs": [],
   "source": [
    "import logging\n",
    "\n",
    "## ===========================\n",
    "## Create and configure logger\n",
    "## ===========================\n",
    "logger = logging.getLogger(\"fesslix\")   ## you can assign any name to the logger you want\n",
    "logger.setLevel(logging.DEBUG)\n",
    "## If you increase the log-Level, \n",
    "## only log messages at least as important as the specified level \n",
    "## will be outputted.\n",
    "\n",
    "## =====================\n",
    "## Create a file handler\n",
    "## =====================\n",
    "## Send log messages to file 'fesslix.log':\n",
    "file_handler = logging.FileHandler(\"flx.log\", mode=\"w\") \n",
    "## mode: 'w' » overwrite existing log-file\n",
    "##       'a' » append to existing log-file\n",
    "file_handler.setLevel(logging.DEBUG)\n",
    "\n",
    "## Define a log format\n",
    "formatter = logging.Formatter(\n",
    "       \"{asctime} » {levelname} » {message}\",\n",
    "        style=\"{\",\n",
    "        datefmt=\"%Y-%m-%d %H:%M\",\n",
    "    )\n",
    "file_handler.setFormatter(formatter)\n",
    "\n",
    "## Add handler to the logger\n",
    "logger.addHandler(file_handler)\n",
    "\n",
    "## =====================\n",
    "## Create a console handler\n",
    "## =====================\n",
    "## Send log messages to the console:\n",
    "console_handler = logging.StreamHandler()\n",
    "console_handler.setLevel(logging.INFO)\n",
    "## log only messages with level equal to at least 'INFO' to the console.\n",
    "\n",
    "## Define a log format\n",
    "formatter = logging.Formatter(\"{levelname} - {message}\", style=\"{\")\n",
    "console_handler.setFormatter(formatter)\n",
    "\n",
    "## Add handler to the logger\n",
    "logger.addHandler(console_handler)"
   ]
  },
  {
   "cell_type": "markdown",
   "metadata": {},
   "source": [
    "It is important to set not only the log-level of each handler, but also the log-Level of `logger`. Log messages will appear on a specific handler if the log-Level of the message is at least as important as the log-Level specified for both the handler and the `logger`.\n",
    "\n",
    "In order to link the `logger` to Fesslix, use `set_logger(LOGGER)`:"
   ]
  },
  {
   "cell_type": "code",
   "execution_count": 3,
   "metadata": {},
   "outputs": [
    {
     "name": "stderr",
     "output_type": "stream",
     "text": [
      "INFO - Random Number Generator: MT19937 - initialized with rand()=985321128;\n",
      "INFO - Random Number Generator: MT19937 - initialized with 1000 initial calls.\n",
      "INFO - Gauss-points: up to 20 Gauss points inserted.\n",
      "INFO - Hello again!\n",
      "INFO - Hi!\n",
      "WARNING - See you!\n",
      "INFO - Bye!\n"
     ]
    }
   ],
   "source": [
    "## link the 'logger' to fesslix:\n",
    "flx.set_logger(logger)\n",
    "flx.load_engine()\n",
    "\n",
    "## Now Fesslix uses 'logger':\n",
    "flx.slog(\"Hello again!\", 3)\n",
    "logger.info(\"Hi!\")\n",
    "flx.slog(\"See you!\", 2)\n",
    "flx.slog(\"Bye!\")"
   ]
  },
  {
   "cell_type": "markdown",
   "metadata": {},
   "source": [
    "The content of the generated log file 'flx.log' is:"
   ]
  },
  {
   "cell_type": "code",
   "execution_count": 4,
   "metadata": {},
   "outputs": [
    {
     "name": "stdout",
     "output_type": "stream",
     "text": [
      "2025-03-15 14:14 » INFO » Random Number Generator: MT19937 - initialized with rand()=985321128;\n",
      "2025-03-15 14:14 » INFO » Random Number Generator: MT19937 - initialized with 1000 initial calls.\n",
      "2025-03-15 14:14 » INFO » Gauss-points: up to 20 Gauss points inserted.\n",
      "2025-03-15 14:14 » INFO » Hello again!\n",
      "2025-03-15 14:14 » INFO » Hi!\n",
      "2025-03-15 14:14 » WARNING » See you!\n",
      "2025-03-15 14:14 » INFO » Bye!\n"
     ]
    }
   ],
   "source": [
    "!cat flx.log"
   ]
  },
  {
   "cell_type": "markdown",
   "metadata": {},
   "source": [
    "```{attention}\n",
    "Usually, you want to register the user-defined Python logger before you {ref}`content:basics:intro:load_engine` with {func}`flx.load_engine`.\n",
    "```"
   ]
  },
  {
   "cell_type": "markdown",
   "metadata": {},
   "source": [
    "[logging-docu]: https://docs.python.org/3/howto/logging.html \"A short tutorial on the Python module 'logging'\"\n",
    "[logging-tutorial]: https://realpython.com/python-logging/ \"Another tutorial on the Python module 'logging'\""
   ]
  },
  {
   "cell_type": "code",
   "execution_count": null,
   "metadata": {},
   "outputs": [],
   "source": []
  }
 ],
 "metadata": {
  "kernelspec": {
   "display_name": "Python (.venv-fesslix)",
   "language": "python",
   "name": ".venv-fesslix"
  },
  "language_info": {
   "codemirror_mode": {
    "name": "ipython",
    "version": 3
   },
   "file_extension": ".py",
   "mimetype": "text/x-python",
   "name": "python",
   "nbconvert_exporter": "python",
   "pygments_lexer": "ipython3",
   "version": "3.13.5"
  },
  "widgets": {
   "application/vnd.jupyter.widget-state+json": {
    "state": {},
    "version_major": 2,
    "version_minor": 0
   }
  }
 },
 "nbformat": 4,
 "nbformat_minor": 4
}
