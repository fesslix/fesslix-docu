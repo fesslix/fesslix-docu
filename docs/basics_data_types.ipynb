{
 "cells": [
  {
   "cell_type": "markdown",
   "metadata": {},
   "source": [
    "# Common data types\n",
    "This section explains common data types used in Fesslix. Some important data types are defined in separate sections; this includes:\n",
    "- {type}`FlxFunction`\n",
    "\n",
    "```{todo}\n",
    "Consider moving documentation of Word into page of FlxFunction.\n",
    "```\n"
   ]
  },
  {
   "cell_type": "markdown",
   "metadata": {},
   "source": [
    "\n",
    "```{todo}\n",
    "Write this section.\n",
    "```\n"
   ]
  },
  {
   "cell_type": "markdown",
   "metadata": {},
   "source": [
    "```{eval-rst}\n",
    ".. py:type:: Word\n",
    "   :canonical: str\n",
    "   \n",
    "   The first character of a *Word* has to be one of the characters listed below:\n",
    "   \n",
    "       - ``A`` - ``Z``\n",
    "       - ``a`` - ``z``\n",
    "       - ``-``\n",
    "       \n",
    "   For all other characters, additionally, the following characters are permitted, too:\n",
    "    \n",
    "       - ``0`` - ``9``\n",
    "       \n",
    "   No spaces are allowed.\n",
    "```"
   ]
  },
  {
   "cell_type": "code",
   "execution_count": null,
   "metadata": {},
   "outputs": [],
   "source": []
  }
 ],
 "metadata": {
  "kernelspec": {
   "display_name": "Python (.venv-fesslix)",
   "language": "python",
   "name": ".venv-fesslix"
  },
  "language_info": {
   "codemirror_mode": {
    "name": "ipython",
    "version": 3
   },
   "file_extension": ".py",
   "mimetype": "text/x-python",
   "name": "python",
   "nbconvert_exporter": "python",
   "pygments_lexer": "ipython3",
   "version": "3.13.2"
  },
  "widgets": {
   "application/vnd.jupyter.widget-state+json": {
    "state": {},
    "version_major": 2,
    "version_minor": 0
   }
  }
 },
 "nbformat": 4,
 "nbformat_minor": 4
}
