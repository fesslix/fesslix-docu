{
 "cells": [
  {
   "cell_type": "markdown",
   "metadata": {},
   "source": [
    "# Compression strength of concrete\n",
    "For current and historic concrete classes used in Germany."
   ]
  },
  {
   "cell_type": "markdown",
   "metadata": {},
   "source": [
    "\n",
    "```{todo}\n",
    "Write this section.\n",
    "```\n"
   ]
  },
  {
   "cell_type": "code",
   "execution_count": 1,
   "metadata": {},
   "outputs": [
    {
     "name": "stdout",
     "output_type": "stream",
     "text": [
      "Random Number Generator: MT19937 - initialized with rand()=1238133505;\n",
      "Random Number Generator: MT19937 - initialized with 1000 initial calls.\n"
     ]
    },
    {
     "data": {
      "text/plain": [
       "0"
      ]
     },
     "execution_count": 1,
     "metadata": {},
     "output_type": "execute_result"
    }
   ],
   "source": [
    "import math\n",
    "import numpy as np\n",
    "import fesslix as flx\n",
    "flx.load_engine()"
   ]
  },
  {
   "cell_type": "markdown",
   "metadata": {},
   "source": [
    "## Select appropriate concrete strength class\n",
    "\n",
    "```{note}\n",
    "Please uncomment the string that matches the concrete class of interest. Leave empty if *unknown*.\n",
    "```"
   ]
  },
  {
   "cell_type": "code",
   "execution_count": 2,
   "metadata": {},
   "outputs": [
    {
     "name": "stdout",
     "output_type": "stream",
     "text": [
      "You selected '1978-2001: B 25'.\n"
     ]
    }
   ],
   "source": [
    "## ==============================\n",
    "## no prior information available\n",
    "## ==============================\n",
    "str_fc = \"\"    ## in case you do not have prior information about the concrete strength\n",
    "\n",
    "## unabhängig vom Baujahr »» keine Informationen über die Betonfestigkeitsklasse vorhanden\n",
    "#str_fc = \"\"\n",
    "\n",
    "## =========================\n",
    "## for concrete before 1916\n",
    "## =========================\n",
    "#str_fc = \"\"\n",
    "\n",
    "## ================================================================\n",
    "## Betongüten und -klassen von 1916 bis 1972 (für die DDR bis 1980)\n",
    "## ================================================================\n",
    "#str_fc = \"1916-1925: W_28=150kg/cm²\"\n",
    "#str_fc = \"1916-1925: W_28=180kg/cm²\"\n",
    "#str_fc = \"1925-1932: W_b28=100kg/cm²\"\n",
    "#str_fc = \"1925-1932: W_b28=130kg/cm²\"\n",
    "#str_fc = \"1925-1932: W_b28=180kg/cm²\"\n",
    "#str_fc = \"1932-1943: W_b28=120kg/cm²\"\n",
    "#str_fc = \"1932-1943: W_b28=160kg/cm²\"\n",
    "#str_fc = \"1932-1943: W_b28=210kg/cm²\"\n",
    "#str_fc = \"1943-1972: B 120; (DDR) bis 1980\"\n",
    "#str_fc = \"1943-1972: B 160; (DDR) bis 1980\"\n",
    "#str_fc = \"1943-1972: B 225; (DDR) bis 1980\"\n",
    "#str_fc = \"1943-1972: B 300; (DDR) bis 1980\"\n",
    "\n",
    "## ----------------------------------------------------------\n",
    "## In this category, please additionally uncomment 'str_qual'\n",
    "## ----------------------------------------------------------\n",
    "## Bitte bewerten Sie die Qualität der Betonherstellung und Ausführung:\n",
    "\n",
    "#str_qual = \"kleine Baustelle, keine Betonproben, Zumessung nach Volumen, Überwachung durch Polier\"\n",
    "#str_qual = \"mittlere Baustelle, 3-10 Betonproben, Zumessung nach Volumen oder Gewicht, Überwachung durch Polier\"\n",
    "#str_qual = \"Großbaustelle, 30 und mehr Betonproben, Zumessung nach Gewicht, Überwachung durch Betoningenieur\"\n",
    "\n",
    "## ==============================================\n",
    "## Betongüten und -klassen zwischen 1972 und 2001\n",
    "## ==============================================\n",
    "#str_fc = \"1972-1978: Bn 50\"\n",
    "#str_fc = \"1972-1978: Bn 100\"\"\n",
    "#str_fc = \"1972-1978: Bn 150\"\n",
    "#str_fc = \"1972-1978: Bn 250\"\n",
    "#str_fc = \"1972-1978: Bn 350\"\n",
    "#str_fc = \"1972-1978: Bn 450\"\n",
    "#str_fc = \"1972-1978: Bn 550\"\n",
    "#str_fc = \"1978-2001: B 5\"\n",
    "#str_fc = \"1978-2001: B 10\"\n",
    "#str_fc = \"1978-2001: B 15\"\n",
    "str_fc = \"1978-2001: B 25\"\n",
    "#str_fc = \"1978-2001: B 35\"\n",
    "#str_fc = \"1978-2001: B 45\"\n",
    "#str_fc = \"1978-2001: B 55\"\n",
    "#str_fc = \"Ostdeutschland (DDR), 1980-1990: Bk 5\"\n",
    "#str_fc = \"Ostdeutschland (DDR), 1980-1990: Bk 7.5\"\"\n",
    "#str_fc = \"Ostdeutschland (DDR), 1980-1990: Bk 10\"\n",
    "#str_fc = \"Ostdeutschland (DDR), 1980-1990: Bk 15\"\n",
    "#str_fc = \"Ostdeutschland (DDR), 1980-1990: Bk 20\"\n",
    "#str_fc = \"Ostdeutschland (DDR), 1980-1990: Bk 25\"\n",
    "#str_fc = \"Ostdeutschland (DDR), 1980-1990: Bk 35\"\n",
    "#str_fc = \"Ostdeutschland (DDR), 1980-1990: Bk 45\"\n",
    "#str_fc = \"Ostdeutschland (DDR), 1980-1990: Bk 55\"\n",
    "\n",
    "## =========\n",
    "## nach 2001\n",
    "## =========\n",
    "#str_fc = \"C12/15\"\n",
    "#str_fc = \"C16/20\"\n",
    "#str_fc = \"C20/25\"\n",
    "#str_fc = \"C25/30\"\n",
    "#str_fc = \"C30/37\"\n",
    "#str_fc = \"C35/45\"\n",
    "#str_fc = \"C40/50\"\n",
    "#str_fc = \"C45/55\"\n",
    "#str_fc = \"C50/60\"\n",
    "#str_fc = \"C55/67\"\n",
    "#str_fc = \"C60/75\"\n",
    "#str_fc = \"C70/85\"\n",
    "#str_fc = \"C80/95\"\n",
    "#str_fc = \"C90/105\"\n",
    "#str_fc = \"LC12/13\"\n",
    "#str_fc = \"LC16/18\"\n",
    "#str_fc = \"LC20/22\"\n",
    "#str_fc = \"LC25/28\"\n",
    "#str_fc = \"LC30/33\"\n",
    "#str_fc = \"LC35/38\"\n",
    "#str_fc = \"LC40/44\"\n",
    "#str_fc = \"LC45/50\"\n",
    "#str_fc = \"LC50/55\"\n",
    "#str_fc = \"LC55/60\"\n",
    "#str_fc = \"LC60/66\"\n",
    "#str_fc = \"LC70/77\"\n",
    "#str_fc = \"LC80/88\"\n",
    "\n",
    "## ==============================================\n",
    "## Output selection\n",
    "## ==============================================\n",
    "print(f\"You selected '{str_fc}'.\")"
   ]
  },
  {
   "cell_type": "markdown",
   "metadata": {},
   "source": [
    "## Processing of prior information\n",
    "Next, we process the prior information ..."
   ]
  },
  {
   "cell_type": "code",
   "execution_count": 3,
   "metadata": {},
   "outputs": [],
   "source": [
    "kappa_0 = 3.    ## following JCSS\n",
    "eta_0   = 7.    ## JCSS schlägt 10 vor; mit 7 werden die charakteristischen Werte aus dem EC besser getroffen (konservativer)\n",
    "q       = 0.05  ## quantile of characteristic value\n",
    "## 'gamma_0' and 'tau_0' are to be set within the following if-clauses\n",
    "## ================================\n",
    "## uniformative prior\n",
    "## ================================\n",
    "if str_fc==\"\":\n",
    "    gamma_0 = 0.\n",
    "    kappa_0 = 0.\n",
    "    eta_0   = 0.\n",
    "    tau_0   = 0.\n",
    "    xi_0    = 0.\n",
    "## ================================\n",
    "## process today's concrete classes\n",
    "## ================================\n",
    "elif str_fc[0]=='C' or str_fc[:2]=='LC':\n",
    "    ## select f_ck\n",
    "    is_lightweight = (str_fc[:2]=='LC')\n",
    "    i = str_fc.find('C') + 1\n",
    "    j = str_fc.find('/')\n",
    "    f_ck = float( str_fc[i:j] )\n",
    "    ## select f_cm\n",
    "    if is_lightweight and f_ck<20:\n",
    "        if f_ck < 15.:\n",
    "            f_cm = f_ck + 5.\n",
    "        else:\n",
    "            f_cm = f_ck + 6.\n",
    "    else:\n",
    "        f_cm = f_ck + 8.\n",
    "    rv_tmp = flx.rv({'type':'studentstgen', 'dof':eta_0, 'loc':math.log(f_cm), 'val_1':math.log(f_ck), 'pr_1':q})\n",
    "    rv_tmp_prop =  rv_tmp.info()\n",
    "    gamma_0 = rv_tmp_prop['loc']\n",
    "    tau_0 = rv_tmp_prop['scale']\n",
    "## ==============================================\n",
    "## Betongüten und -klassen zwischen 1972 und 2001\n",
    "## ==============================================\n",
    "elif (\"-1978: \" in str_fc) or (\"-2001: \" in str_fc) or (\"-1990: \" in str_fc):\n",
    "    i = str_fc.find(':') + 2\n",
    "    t_str = str_fc[i:]\n",
    "    if t_str[1]=='n':\n",
    "        f_ck_cube = float(t_str[3:])\n",
    "        f_ck_cube /= 10\n",
    "        f_ck = f_ck_cube*0.773\n",
    "        CoV_transf = 0.1\n",
    "    elif t_str[1]=='k':\n",
    "        f_ck_cube = float(t_str[3:])\n",
    "        f_ck = f_ck_cube*0.736\n",
    "        CoV_transf = 0.08\n",
    "    else:\n",
    "        f_ck_cube = float(t_str[2:])\n",
    "        f_ck = f_ck_cube*0.773\n",
    "        CoV_transf = 0.1\n",
    "    f_cm = f_ck + 8.  ## assume that today's standard is valid in this context\n",
    "    rv_tmp = flx.rv({'type':'studentstgen', 'dof':eta_0, 'loc':math.log(f_cm), 'val_1':math.log(f_ck), 'pr_1':q})\n",
    "    rv_tmp_prop =  rv_tmp.info()    \n",
    "    gamma_0 = rv_tmp_prop['loc']\n",
    "    tau_0 = rv_tmp_prop['scale']\n",
    "    ## consider uncertainty from transformation\n",
    "    tau2_add = math.log(CoV_transf**2+1.)\n",
    "    gamma_0 -= tau2_add/2\n",
    "    tau_0 += math.sqrt(tau2_add)\n",
    "## ==============================================\n",
    "## Betongüten und -klassen zwischen 1972 und 2001\n",
    "## ==============================================\n",
    "elif (\"(DDR) bis 1980\" in str_fc) or (\": W_\" in str_fc):\n",
    "    ## select f_cm\n",
    "    if \"(DDR) bis 1980\" in str_fc:\n",
    "        i = str_fc.find(':') + 4\n",
    "        j = str_fc.find(';')\n",
    "        f_cm_cube = float(str_fc[i:j])\n",
    "    else:\n",
    "        i = str_fc.find('=') + 1\n",
    "        j = str_fc.find('kg')\n",
    "        f_cm_cube = float(str_fc[i:j])\n",
    "    f_cm_cube /= 10\n",
    "    f_cm = f_cm_cube*0.773\n",
    "    gamma_0 = math.log(f_cm)\n",
    "    ## select standard deviation\n",
    "    if str_qual[:3]==\"kle\":\n",
    "        i = 0\n",
    "    elif str_qual[:3]==\"mit\":\n",
    "        i = 1\n",
    "    elif str_qual[:3]==\"Gro\":\n",
    "        i = 2\n",
    "    else:\n",
    "        raise NameError(f'ERROR 202503281450')\n",
    "    if f_cm_cube<20:\n",
    "        f_c_CoV = [0.35,0.28,0.2][i]\n",
    "    else:        \n",
    "        f_c_CoV = [7.,5.5,4.][i]/f_cm_cube\n",
    "    f_c_sd = f_c_CoV*f_cm\n",
    "    CoV_transf = 0.1\n",
    "    f_c_sd = math.sqrt( f_c_sd**2*(CoV_transf**2+1.)+CoV_transf**2*f_cm )\n",
    "    tau_0 = math.sqrt( math.log( (f_c_sd/f_cm)**2+1. ));\n",
    "    print(f\"yeah {gamma_0}, {tau_0}\")\n",
    "## ==============================================\n",
    "## Betongüten und -klassen zwischen 1972 und 2001\n",
    "## ==============================================\n",
    "else:\n",
    "    raise NameError(f'ERROR 202503281441') \n",
    "    \n",
    "## evaluate 'xi_0'\n",
    "if kappa_0>0.:\n",
    "    xi_0 = tau_0/math.sqrt(1.+1/kappa_0)"
   ]
  },
  {
   "cell_type": "markdown",
   "metadata": {},
   "source": [
    "... and evaluate the prior distribution:"
   ]
  },
  {
   "cell_type": "code",
   "execution_count": 4,
   "metadata": {},
   "outputs": [
    {
     "name": "stdout",
     "output_type": "stream",
     "text": [
      "gamma_0 = 3.30  kappa_0 = 3.0  eta_0 = 7.0  xi_0 = 0.24  tau_0 = 0.28\n",
      "f_ck = 15.92\n"
     ]
    }
   ],
   "source": [
    "rv_ln_prior = flx.rv({'type':'logt', 'dof':eta_0, 'loc':gamma_0, 'scale':tau_0})\n",
    "print(f\"{gamma_0 = :.2f}  {kappa_0 = :.1f}  {eta_0 = :.1f}  {xi_0 = :.2f}  {tau_0 = :.2f}\")\n",
    "print(f\"f_ck = {rv_ln_prior.icdf(q):.2f}\")"
   ]
  },
  {
   "cell_type": "markdown",
   "metadata": {},
   "source": [
    "## Measurements\n",
    "Please specify any measurement values for concrete:"
   ]
  },
  {
   "cell_type": "code",
   "execution_count": 5,
   "metadata": {},
   "outputs": [
    {
     "name": "stdout",
     "output_type": "stream",
     "text": [
      "[41.27137595 33.97658094 27.18473865 41.6437581  44.88876752 37.23485415\n",
      " 41.83004855 43.07006975 48.03015456 37.53130838]\n"
     ]
    }
   ],
   "source": [
    "## vector of measurements\n",
    "meas_obsv = [ 50.1, 41.1, 33.0, 50.2, 54.3, 45.2, 50.6, 52.1, 58.1, 45.4 ]  ## [N/mm²]\n",
    "h_test    = [ 82.,  83.,  82.,  84.,  83.,  82.,  83.,  83.,  83.,  83.  ]  ## [mm]  length of test specimen\n",
    "d_test    = 80.  ## [mm] diameter of test specimen\n",
    "\n",
    "## another set of measurements\n",
    "#meas_obsv = [ 53.0, 57.6, 64.8, 60.9, 62.6, 55.4, 56.3, 53.7, 52.7, 57.0 ]  ## [N/mm²]\n",
    "#h_test    = [ 81.,  82.,  81.,  81.,  81.,  80.,  81.,  82.,  81.,  81.  ]  ## [mm]  length of test specimen\n",
    "#d_test    = 80.  ## [mm] diameter of test specimen\n",
    "\n",
    "## transformation to 'reference cylinder'\n",
    "clf  = (np.array(h_test) / (2*d_test))**0.29\n",
    "f_c_obsv  = meas_obsv * clf\n",
    "print( f_c_obsv )\n",
    "# f_c_obsv = []  ## leave empty, if no measurements were taken"
   ]
  },
  {
   "cell_type": "markdown",
   "metadata": {},
   "source": [
    "Evaluate summary statistics:"
   ]
  },
  {
   "cell_type": "code",
   "execution_count": 6,
   "metadata": {},
   "outputs": [
    {
     "name": "stdout",
     "output_type": "stream",
     "text": [
      "  Anzahl der Messwerte:          10\n",
      "  Stichprobenmittel:             39.67 N/mm²\n",
      "  Stichprobenstandardabweichung: 5.64 N/mm²\n",
      "\n",
      "log-transformierte Messwerte:\n",
      "  Stichprobenmittel:             3.67\n",
      "  Stichprobenstandardabweichung: 0.15\n",
      "  Stichprobenstandardabweichung: 0.024\n"
     ]
    }
   ],
   "source": [
    "ln_obsv    = np.log(f_c_obsv)\n",
    "m_ln_obsv  = np.mean(ln_obsv)\n",
    "s2_ln_obsv = np.var(ln_obsv,ddof=0)\n",
    "n_obsv     = len(ln_obsv)\n",
    "\n",
    "print(f\"  Anzahl der Messwerte:          {n_obsv}\")\n",
    "print(f\"  Stichprobenmittel:             {np.mean(f_c_obsv):.2f} N/mm²\")\n",
    "print(f\"  Stichprobenstandardabweichung: {np.std(f_c_obsv,ddof=0):.2f} N/mm²\")\n",
    "print(f\"\")\n",
    "print(f\"log-transformierte Messwerte:\")\n",
    "print(f\"  Stichprobenmittel:             {m_ln_obsv:.2f}\")\n",
    "print(f\"  Stichprobenstandardabweichung: {math.sqrt(s2_ln_obsv):.2f}\")\n",
    "print(f\"  Stichprobenstandardabweichung: {s2_ln_obsv:.3f}\")"
   ]
  },
  {
   "cell_type": "markdown",
   "metadata": {},
   "source": [
    "## Posterior distribution: Taking information from both prior and measurements into account"
   ]
  },
  {
   "cell_type": "code",
   "execution_count": 7,
   "metadata": {},
   "outputs": [
    {
     "name": "stdout",
     "output_type": "stream",
     "text": [
      "gamma_n = 3.58  kappa_n = 13.0  eta_n = 17.0  xi_n = 0.24  tau_n = 0.25\n",
      "f_ck = 23.43\n"
     ]
    }
   ],
   "source": [
    "gamma_n = (kappa_0*gamma_0+n_obsv*m_ln_obsv)/(kappa_0+n_obsv)\n",
    "kappa_n = kappa_0 + n_obsv\n",
    "eta_n   = eta_0 + n_obsv\n",
    "xi2_n   = eta_0/eta_n*xi_0**2+n_obsv/eta_n*(s2_ln_obsv+(kappa_0*(m_ln_obsv-gamma_0)**2)/kappa_n)\n",
    "xi_n    = math.sqrt(xi2_n)\n",
    "tau_n   = xi_n*math.sqrt(1.+1/kappa_n);\n",
    "\n",
    "rv_ln_post = flx.rv({'type':'logt', 'dof':eta_n, 'loc':gamma_n, 'scale':tau_n})\n",
    "print(f\"{gamma_n = :.2f}  {kappa_n = :.1f}  {eta_n = :.1f}  {xi_n = :.2f}  {tau_n = :.2f}\")\n",
    "print(f\"f_ck = {rv_ln_post.icdf(q):.2f}\")"
   ]
  },
  {
   "cell_type": "markdown",
   "metadata": {},
   "source": [
    "## Posterior in case of uninformative prior"
   ]
  },
  {
   "cell_type": "markdown",
   "metadata": {},
   "source": [
    "In case of an uninformative prior, the parameters of the posterior distribution and the associated characteristic values are:"
   ]
  },
  {
   "cell_type": "code",
   "execution_count": 8,
   "metadata": {},
   "outputs": [
    {
     "name": "stdout",
     "output_type": "stream",
     "text": [
      "39.22258989185964 3.6692528535665603\n",
      "39.22258989185964 3.6692528535665603\n",
      "gamma_n_ui = 3.67  kappa_n_ui = 10.0  eta_n_ui = 10.0  xi_n_ui = 0.15  tau_n_ui = 0.16\n",
      "f_ck = 29.25\n"
     ]
    }
   ],
   "source": [
    "gamma_n_ui = (n_obsv*m_ln_obsv)/n_obsv\n",
    "kappa_n_ui = n_obsv\n",
    "eta_n_ui   = n_obsv\n",
    "xi2_n_ui   = s2_ln_obsv\n",
    "xi_n_ui    = math.sqrt(xi2_n_ui)\n",
    "tau_n_ui   = xi_n_ui*math.sqrt(1.+1/kappa_n_ui);\n",
    "\n",
    "rv_tmp = flx.rv({'type':'studentstgen', 'dof':eta_n_ui, 'loc':gamma_n_ui, 'scale':tau_n_ui})\n",
    "rv_ln_post_ui = flx.rv({'type':'logt', 'dof':eta_n_ui, 'loc':gamma_n_ui, 'scale':tau_n_ui})\n",
    "print( rv_ln_post_ui.get_value(), rv_tmp.get_value() )\n",
    "print( rv_ln_post_ui.y2x(0.), rv_tmp.y2x(0.) )\n",
    "print(f\"{gamma_n_ui = :.2f}  {kappa_n_ui = :.1f}  {eta_n_ui = :.1f}  {xi_n_ui = :.2f}  {tau_n_ui = :.2f}\")\n",
    "print(f\"f_ck = {rv_ln_post_ui.icdf(q):.2f}\")"
   ]
  },
  {
   "cell_type": "markdown",
   "metadata": {},
   "source": [
    "## Generate plot of distributions"
   ]
  },
  {
   "cell_type": "code",
   "execution_count": 9,
   "metadata": {},
   "outputs": [],
   "source": [
    "import fesslix.plot as flx_plot\n",
    "import matplotlib.pyplot as plt\n",
    "%matplotlib inline\n",
    "#%matplotlib notebook\n",
    "#%matplotlib widget"
   ]
  },
  {
   "cell_type": "markdown",
   "metadata": {},
   "source": [
    "Evaluate shape of likelihood from prior and posterior:"
   ]
  },
  {
   "cell_type": "code",
   "execution_count": 10,
   "metadata": {},
   "outputs": [
    {
     "data": {
      "image/png": "[encoded data removed]",
      "text/plain": [
       "<Figure size 900x400 with 1 Axes>"
      ]
     },
     "metadata": {},
     "output_type": "display_data"
    }
   ],
   "source": [
    "plt.rcParams.update({'font.size': 12})\n",
    "fig, ax = plt.subplots(figsize=(9, 4))\n",
    "\n",
    "flx_plot.draw_pdf(ax, rv_ln_prior, config_dict={'label':\"A-priori\"}, param_dict={ 'c':flx_plot.color_era_1, 'ls':'--' })\n",
    "flx_plot.draw_pdf(ax, rv_ln_post, config_dict={'label':\"A-posteriori\"}, param_dict={ 'c':flx_plot.color_era_2, 'lw':4 })\n",
    "\n",
    "flx_plot.draw_pdf(ax, rv_ln_post_ui, config_dict={'label':\"nur Messdaten, keine Vorinformation\"}, param_dict={ 'c':flx_plot.color_era_2, 'lw':2, 'ls':':' })\n",
    "\n",
    "for i, f_c in enumerate(f_c_obsv):\n",
    "    if i==0:\n",
    "        lbl = \"Messwerte\"\n",
    "    else:\n",
    "        lbl = None\n",
    "    plt.axvline(x=f_c, c=flx_plot.color_era_3, lw=1, ls='dotted', label=lbl)\n",
    "\n",
    "ax.set_ylim([0., None])\n",
    "plt.xlabel(\"Betondruckfestigkeit $f_c$ [N/mm²]\")\n",
    "plt.ylabel(\"Wahrscheinlichkeitsdichte\")\n",
    "#ax.get_yaxis().set_ticks([])\n",
    "ax.get_yaxis().set_ticklabels([])\n",
    "plt.legend()\n",
    "plt.tight_layout()\n",
    "#fig.savefig(f\"appl_concrete_fc_figure.pdf\")\n",
    "#fig.savefig(f\"appl_concrete_fc_figure.png\")\n",
    "#fig.savefig(f\"appl_concrete_fc_figure.eps\")\n",
    "#plt.grid()"
   ]
  },
  {
   "cell_type": "code",
   "execution_count": null,
   "metadata": {},
   "outputs": [],
   "source": []
  }
 ],
 "metadata": {
  "kernelspec": {
   "display_name": "Python (.venv-fesslix)",
   "language": "python",
   "name": ".venv-fesslix"
  },
  "language_info": {
   "codemirror_mode": {
    "name": "ipython",
    "version": 3
   },
   "file_extension": ".py",
   "mimetype": "text/x-python",
   "name": "python",
   "nbconvert_exporter": "python",
   "pygments_lexer": "ipython3",
   "version": "3.13.3"
  },
  "widgets": {
   "application/vnd.jupyter.widget-state+json": {
    "state": {},
    "version_major": 2,
    "version_minor": 0
   }
  }
 },
 "nbformat": 4,
 "nbformat_minor": 4
}
