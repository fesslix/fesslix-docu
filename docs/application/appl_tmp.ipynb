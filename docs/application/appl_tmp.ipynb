{
 "cells": [
  {
   "cell_type": "markdown",
   "metadata": {},
   "source": [
    "# TMP"
   ]
  },
  {
   "cell_type": "markdown",
   "metadata": {},
   "source": [
    "\n",
    "```{todo}\n",
    "Write this section.\n",
    "```\n"
   ]
  },
  {
   "cell_type": "code",
   "execution_count": 1,
   "metadata": {},
   "outputs": [
    {
     "name": "stdout",
     "output_type": "stream",
     "text": [
      "Random Number Generator: MT19937 - initialized with rand()=1990147488;\n",
      "Random Number Generator: MT19937 - initialized with 1000 initial calls.\n"
     ]
    },
    {
     "data": {
      "text/plain": [
       "0"
      ]
     },
     "execution_count": 1,
     "metadata": {},
     "output_type": "execute_result"
    }
   ],
   "source": [
    "import math\n",
    "import numpy as np\n",
    "import fesslix as flx\n",
    "flx.load_engine()"
   ]
  },
  {
   "cell_type": "markdown",
   "metadata": {},
   "source": [
    "## Winkel in Dreieck"
   ]
  },
  {
   "cell_type": "code",
   "execution_count": 24,
   "metadata": {},
   "outputs": [
    {
     "name": "stdout",
     "output_type": "stream",
     "text": [
      "52.6130738847861\n",
      "h_a = 255.25021302329503\n",
      "Y = 429.9387500000001\n"
     ]
    }
   ],
   "source": [
    "a = 400.  ## Länge auf Bezugsachse\n",
    "b = 257.   ## Abstand Punkt zu Ende Bezugsachse\n",
    "c = 500    ## Abstand Punkt bis Anfang Bezugsachse (Nullpunkt)\n",
    "\n",
    "s = (a+b+c)/2\n",
    "A = math.sqrt(s*(s-a)*(s-b)*(s-c))\n",
    "\n",
    "sin_alpha = 2*A/(b*c)\n",
    "alpha = math.asin(sin_alpha)\n",
    "print(math.degrees(alpha))\n",
    "\n",
    "h_a = 2*A/a                         ## Lot auf Bezugsachse\n",
    "print(f\"{h_a = }\")\n",
    "\n",
    "x = math.sqrt(b**2-h_a**2)\n",
    "if b>c:\n",
    "    Y = a - x\n",
    "else:\n",
    "    Y = a + x    \n",
    "print(f\"{Y = }\")   ## Koordinate auf Bezugsachse (bis Lot)\n"
   ]
  },
  {
   "cell_type": "code",
   "execution_count": null,
   "metadata": {},
   "outputs": [],
   "source": [
    "\n"
   ]
  },
  {
   "cell_type": "code",
   "execution_count": null,
   "metadata": {},
   "outputs": [],
   "source": []
  }
 ],
 "metadata": {
  "kernelspec": {
   "display_name": "Python (.venv-fesslix)",
   "language": "python",
   "name": ".venv-fesslix"
  },
  "language_info": {
   "codemirror_mode": {
    "name": "ipython",
    "version": 3
   },
   "file_extension": ".py",
   "mimetype": "text/x-python",
   "name": "python",
   "nbconvert_exporter": "python",
   "pygments_lexer": "ipython3",
   "version": "3.13.3"
  },
  "widgets": {
   "application/vnd.jupyter.widget-state+json": {
    "state": {},
    "version_major": 2,
    "version_minor": 0
   }
  }
 },
 "nbformat": 4,
 "nbformat_minor": 4
}
