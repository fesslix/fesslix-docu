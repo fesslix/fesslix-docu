{
 "cells": [
  {
   "cell_type": "markdown",
   "metadata": {},
   "source": [
    "# TMP"
   ]
  },
  {
   "cell_type": "markdown",
   "metadata": {},
   "source": [
    "\n",
    "```{todo}\n",
    "Write this section.\n",
    "```\n"
   ]
  },
  {
   "cell_type": "code",
   "execution_count": 1,
   "metadata": {},
   "outputs": [
    {
     "name": "stdout",
     "output_type": "stream",
     "text": [
      "Random Number Generator: MT19937 - initialized with rand()=257299832;\n",
      "Random Number Generator: MT19937 - initialized with 1000 initial calls.\n"
     ]
    },
    {
     "data": {
      "text/plain": [
       "0"
      ]
     },
     "execution_count": 1,
     "metadata": {},
     "output_type": "execute_result"
    }
   ],
   "source": [
    "import math\n",
    "import numpy as np\n",
    "import fesslix as flx\n",
    "flx.load_engine()"
   ]
  },
  {
   "cell_type": "markdown",
   "metadata": {},
   "source": [
    "## Weighting of models"
   ]
  },
  {
   "cell_type": "code",
   "execution_count": 2,
   "metadata": {},
   "outputs": [
    {
     "name": "stdout",
     "output_type": "stream",
     "text": [
      "52.6130738847861\n",
      "h_a = 255.25021302329503\n",
      "Y = 429.9387500000001\n"
     ]
    }
   ],
   "source": [
    "rv_p = flx.rv({'name':'rv_p', 'type':'uniform', 'a':0., 'b':1. })\n",
    "rv_Y1 = flx.rv({'type':'stdn'})\n",
    "rv_Y2 = flx.rv({'type':'stdn'})\n",
    "p_1 = rv_p.mean()\n",
    "u = flx.rv({'name':'rv_p', 'type':'uniform', 'a':0., 'b':1. })\n",
    "\n",
    "def rv_Z_V1():\n",
    "    if u.get_value()<=p_1:\n",
    "        return rv_Y1.get_value()\n",
    "    else:\n",
    "        return rv_Y2.get_value()\n",
    "    \n",
    "def rv_Z_V2():\n",
    "    p_smpl = rv_p.get_value()\n",
    "    if u.get_value()<=p_smpl:\n",
    "        return rv_Y1.get_value()\n",
    "    else:\n",
    "        return rv_Y2.get_value()\n",
    "\n",
    "\n",
    "\n",
    "s = (a+b+c)/2\n",
    "A = math.sqrt(s*(s-a)*(s-b)*(s-c))\n",
    "\n",
    "sin_alpha = 2*A/(b*c)\n",
    "alpha = math.asin(sin_alpha)\n",
    "print(math.degrees(alpha))\n",
    "\n",
    "h_a = 2*A/a                         ## Lot auf Bezugsachse\n",
    "print(f\"{h_a = }\")\n",
    "\n",
    "x = math.sqrt(b**2-h_a**2)\n",
    "if b>c:\n",
    "    Y = a - x\n",
    "else:\n",
    "    Y = a + x    \n",
    "print(f\"{Y = }\")   ## Koordinate auf Bezugsachse (bis Lot)\n"
   ]
  },
  {
   "cell_type": "code",
   "execution_count": null,
   "metadata": {},
   "outputs": [],
   "source": [
    "\n"
   ]
  },
  {
   "cell_type": "code",
   "execution_count": null,
   "metadata": {},
   "outputs": [],
   "source": []
  }
 ],
 "metadata": {
  "kernelspec": {
   "display_name": "Python (.venv-fesslix)",
   "language": "python",
   "name": ".venv-fesslix"
  },
  "language_info": {
   "codemirror_mode": {
    "name": "ipython",
    "version": 3
   },
   "file_extension": ".py",
   "mimetype": "text/x-python",
   "name": "python",
   "nbconvert_exporter": "python",
   "pygments_lexer": "ipython3",
   "version": "3.13.5"
  },
  "widgets": {
   "application/vnd.jupyter.widget-state+json": {
    "state": {},
    "version_major": 2,
    "version_minor": 0
   }
  }
 },
 "nbformat": 4,
 "nbformat_minor": 4
}
