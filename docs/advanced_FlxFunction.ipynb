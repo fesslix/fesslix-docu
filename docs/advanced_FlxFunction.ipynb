{
 "cells": [
  {
   "cell_type": "markdown",
   "metadata": {},
   "source": [
    "# FlxFunction\n",
    "\n",
    "```{eval-rst}\n",
    ".. py:type:: FlxFunction\n",
    "\n",
    "   Theoretically, a `FlxFunction` is simply a data type. However, it can be considered the most important (and most complex) data type in Fesslix. A `FlxFunction` defines a mathematical function that can be stored as a function and evaluated multiple times. The result of an evaluation of a `FlxFunction` is a scalar value.\n",
    "\n",
    "   The syntax of expressions of type `FlxFunction` is outlined in this section.\n",
    "```"
   ]
  },
  {
   "cell_type": "code",
   "execution_count": 1,
   "metadata": {},
   "outputs": [
    {
     "data": {
      "text/plain": [
       "0"
      ]
     },
     "execution_count": 1,
     "metadata": {},
     "output_type": "execute_result"
    },
    {
     "name": "stdout",
     "output_type": "stream",
     "text": [
      "Random Number Generator: MT19937 - initialized with rand()=199349714;\n",
      "Random Number Generator: MT19937 - initialized with 1000 initial calls.\n"
     ]
    }
   ],
   "source": [
    "import fesslix as flx\n",
    "flx.load_engine()"
   ]
  },
  {
   "cell_type": "markdown",
   "metadata": {},
   "source": [
    "## Working with a FlxFunction in Python\n",
    "In Python, you can specify a {type}`FlxFunction` when the type {type}`flxPara` is required:"
   ]
  },
  {
   "cell_type": "markdown",
   "metadata": {},
   "source": [
    "```{eval-rst}\n",
    ".. py:type:: flxPara\n",
    "   :canonical: str | float | collections.abc.Callable\n",
    "\n",
    "   A parameter that can pass a callable expression (that returns a floating-point number; i.e., scalar value).\n",
    "\n",
    "   The following types are accepted:\n",
    "     - ``str``: The content of the string is parsed as a callable expression of type :type:`FlxFunction`.\n",
    "     - ``callable``: A Python-callable that does not require any parameters is expected and returns a *float*.\n",
    "     - ``float``: A simple *float* value is assigned as value for the parameter.\n",
    "```\n",
    "**Example**:"
   ]
  },
  {
   "cell_type": "code",
   "execution_count": 2,
   "metadata": {},
   "outputs": [
    {
     "name": "stdout",
     "output_type": "stream",
     "text": [
      "42.0\n",
      "42.0\n",
      "42.0\n",
      "2.801944471776144\n"
     ]
    }
   ],
   "source": [
    "## ==============================================\n",
    "## use <float> as type for FlxPara\n",
    "## ==============================================\n",
    "print( flx.eval_fun( 42. ) )\n",
    "\n",
    "## ==============================================\n",
    "## use <callable> as type for FlxPara\n",
    "## ==============================================\n",
    "\n",
    "## -----------------------------------------\n",
    "## Function without arguments\n",
    "## -----------------------------------------\n",
    "def help_fun():\n",
    "    return 42.\n",
    "print( flx.eval_fun( help_fun ) )\n",
    "\n",
    "## -----------------------------------------\n",
    "## lambda function without arguments\n",
    "## -----------------------------------------\n",
    "print( flx.eval_fun( lambda: 42. ) )\n",
    "\n",
    "## ==============================================\n",
    "## use <FlxFunction> as type for FlxPara\n",
    "## ==============================================\n",
    "print( flx.eval_fun(\"sqrt(pi+e/gamma)\") )"
   ]
  },
  {
   "cell_type": "markdown",
   "metadata": {},
   "source": [
    "To simply check/evaluate a *FlxFunction*, you can use the Python function {func}`flx.eval_fun`.\n",
    "```{eval-rst}\n",
    ".. function:: flx.eval_fun\n",
    "\n",
    "    Syntax:\n",
    "        ``flx.eval_fun(expr)``\n",
    "\n",
    "    Description:\n",
    "        Evaluates the expression `expr` and returns the result.\n",
    "        \n",
    "    :param expr: The expression to evaluate.\n",
    "    :type expr: :type:`flxPara`\n",
    "    :rtype: float\n",
    "```\n",
    "\n",
    "**Example**:"
   ]
  },
  {
   "cell_type": "code",
   "execution_count": null,
   "metadata": {},
   "outputs": [],
   "source": [
    "print( flx.eval_fun( \"cos(pi)\" ) )\n",
    "\n",
    "## -----------------------------------------\n",
    "## Handling errors\n",
    "## -----------------------------------------\n",
    "## in case of errors, 'nan' is returned.\n",
    "def help_fun_raise():\n",
    "    raise NameError(f'ERROR 202504041234')\n",
    "    return 42.\n",
    "print( flx.eval_fun( help_fun_raise ) )"
   ]
  },
  {
   "cell_type": "markdown",
   "metadata": {},
   "source": [
    "## Syntax of a FlxFunction\n",
    "\n",
    "### Numbers\n",
    "\n",
    "The most primitive element of a FlxFunction is a {type}`Number`."
   ]
  },
  {
   "cell_type": "markdown",
   "metadata": {},
   "source": [
    "```{eval-rst}\n",
    ".. py:type:: Number\n",
    "\n",
    "   Syntax:\n",
    "       ``VALUE``\n",
    "\n",
    "   Description:\n",
    "        The type *Number* can be used exactly like the type :type:`Double`, with the following two additions:\n",
    "\n",
    "        - Angles can be specified. The default unit of an angle in Fesslix is radian. If you want to specify an angle in degrees, you have to put a ’°’ behind the value (the angle is internally transformed to radian).\n",
    "        - Values can be specified in percent.\n",
    "\n",
    "   Examples:\n",
    "        - ``180°``: evaluates to 3.14159...\n",
    "        - ``100%``: evaluates to 1.0\n",
    "```"
   ]
  },
  {
   "cell_type": "markdown",
   "metadata": {},
   "source": [
    "```{eval-rst}\n",
    ".. py:type:: Double\n",
    "\n",
    "   Syntax:\n",
    "       ``VALUE``\n",
    "\n",
    "   Description:\n",
    "       Represents a floating point value. The decimal separator for floating-point numbers in Fesslix is the dot (.). \n",
    "       \n",
    "   Examples:\n",
    "       In the following, a few examples of admissible floating-point numbers are given:\n",
    "       \n",
    "       ``1``\n",
    "       ``5.1``\n",
    "       ``-7.2``\n",
    "       ``4.124e-8``\n",
    "```"
   ]
  },
  {
   "cell_type": "markdown",
   "metadata": {},
   "source": [
    "### Operators\n",
    "\n",
    "The available operators in Fesslix are listed in the following table. \n",
    "The operators are ordered according to their precedence (in decreasing order): For example, ``1 + 32 · 2`` is equal to ``1 + ((32) · 2)``.\n",
    "\n",
    "| Name of operator  | Symbol  | Example    |\n",
    "| :--- | :--- | :--- |\n",
    "| logical NOT                | ``!``                     | !1 (= 0); !0 (= 1) |\n",
    "| exponentiation             | ``^``                     | 2^4 (= 16); 16^0.5 (= 4)    |\n",
    "| multiplication; division   | ``*`` ``/``               | 2*4 (= 8); 16/0.5 (= 32)  |\n",
    "| addition; substraction     | ``+`` ``-``               | 2+4 (= 6); 16-5 (= 11)  |\n",
    "| less than; greater than;   | ``<`` ``>`` ``<=`` ``>=`` | 2<2 (= 0); 4<=2 (= 0); |\n",
    "| less than or equal to;     |                           | 2<=4 (= 1); 2<=2 (= 1)    |\n",
    "| greater than or equal to   |                           |     |\n",
    "| equal to; not equal to     | ``==`` ``!=``             | 2==4 (= 0); 2==2 (= 1);    |\n",
    "|                            |                           | 2!=2 (= 0); 2!=4 (= 1)    |\n",
    "| logical AND                | ``&&``                    | 1&&1 (= 1); 1&&0 (= 0);    |\n",
    "| logical OR                 | ``\\|\\|``                    | 1\\|\\|0 (= 1)    |\n",
    "| ternary operator           | ``condt?true:false``      | 1?2:3 (= 2); 0?2:3 (= 3)    |\n",
    "\n",
    "```{note}\n",
    " The logical AND and OR operators evaluate the term on the right-hand-side\n",
    "only if the result is not already determined by the term on the left-hand-side.\n",
    "```"
   ]
  },
  {
   "cell_type": "markdown",
   "metadata": {},
   "source": [
    "### Variables\n",
    "\n",
    "Fesslix has two types of variables: [](content:FlxFunction:const) and [](content:FlxFunction:var). \n",
    "A [const-variable](content:FlxFunction:const) stores a scalar value, whereas a [var-variable](content:FlxFunction:var) stores a {type}`FlxFunction`. \n",
    "Calculations with [](content:FlxFunction:const) are faster than calculations with [](content:FlxFunction:var), \n",
    "because each time a [var-variable](content:FlxFunction:var) is used, a {type}`FlxFunction` has to be evaluated.\n",
    "\n",
    "A variable has to be defined (using either the method {meth}`flx.set_const` or the method {meth}`flx.set_var`) before it can be used. \n",
    "In the variable name, lowercase and uppercase letters are not distinguished.\n",
    "Variable names are unique: a name that was used to declare a [const-variable](content:FlxFunction:const) cannot be used to declare a [var-variable](content:FlxFunction:var), and vice versa. \n",
    "Moreover, names of [functions](content:FlxFunction:Functions) in a {type}`FlxFunction` are not allowed as names of variables.\n",
    "\n",
    "\n",
    "(content:FlxFunction:const)=\n",
    "#### const-variables\n",
    "\n",
    "A *const*-variable stores a scalar value. \n",
    "It is defined through the method {meth}`flx.set_const` and can be used within a {type}`FlxFunction` by its name.\n",
    "\n",
    "```{note}\n",
    "The value of a *const*-variable can change during the execution of Fesslix. \n",
    "Therefore, it is not constant. \n",
    "The *const*-keyword refers to the fact that the variable stores a scalar value and not a function.\n",
    "```"
   ]
  },
  {
   "cell_type": "markdown",
   "metadata": {},
   "source": [
    "```{eval-rst}\n",
    ".. function:: flx.set_const\n",
    "\n",
    "    Syntax:\n",
    "        ``flx.set_const( const_name, value )``\n",
    "\n",
    "    Description:\n",
    "        Assigns number `value` to a :ref:`const-variable <content:FlxFunction:const>` with name `const_name`.\n",
    "        \n",
    "    :param const_name: The name of the :ref:`const-variable <content:FlxFunction:const>`.\n",
    "    :type const_name: :type:`Word`\n",
    "    :param value: The value to assign.\n",
    "    :type value: float\n",
    "    :rtype: None\n",
    "    \n",
    "```\n",
    "**Example:**"
   ]
  },
  {
   "cell_type": "code",
   "execution_count": 4,
   "metadata": {},
   "outputs": [
    {
     "name": "stdout",
     "output_type": "stream",
     "text": [
      "15.14\n"
     ]
    }
   ],
   "source": [
    "flx.set_const( 'my_const', 7.57 )\n",
    "print( flx.eval_fun( \"my_const*2\" ) )"
   ]
  },
  {
   "cell_type": "markdown",
   "metadata": {},
   "source": [
    "```{eval-rst}\n",
    ".. py:type:: Word\n",
    "   :canonical: str\n",
    "   \n",
    "   The first character of a *Word* has to be one of the characters listed below:\n",
    "   \n",
    "       - ``A`` - ``Z``\n",
    "       - ``a`` - ``z``\n",
    "       - ``-``\n",
    "       \n",
    "   For all other characters, additionally, the following characters are permitted, too:\n",
    "    \n",
    "       - ``0`` - ``9``\n",
    "       \n",
    "   No spaces are allowed.\n",
    "```"
   ]
  },
  {
   "cell_type": "markdown",
   "metadata": {},
   "source": [
    "(content:FlxFunction:var)=\n",
    "#### var-variables\n",
    "\n",
    "A *var*-variable stores an arithmetic expression. \n",
    "It is defined by means of the object {meth}`flx.set_const` and can be used within a {type}`FlxFunction` by its name.\n",
    "\n",
    "```{note}\n",
    "Every time a *var*-variable is used, the {type}`FlxFunction` that is stored in the variable is evaluated. \n",
    "Therefore, a *var*-variable should be regarded as a function, despite the name \"variable\".\n",
    "```"
   ]
  },
  {
   "cell_type": "markdown",
   "metadata": {},
   "source": [
    "```{eval-rst}\n",
    ".. function:: flx.set_var\n",
    "\n",
    "    Syntax:\n",
    "        ``flx.set_var( var_name, FUN )``\n",
    "\n",
    "    Description:\n",
    "        Assigns expression `FUN` to a :ref:`var-variable <content:FlxFunction:var>` with name `var_name`.\n",
    "        \n",
    "    :param var_name: The name of the :ref:`var-variable <content:FlxFunction:var>`.\n",
    "    :type var_name: :type:`Word`\n",
    "    :param value: The expression to assign.\n",
    "    :type value: :type:`flxPara`\n",
    "    :rtype: None\n",
    "    \n",
    "```\n",
    "**Example:**"
   ]
  },
  {
   "cell_type": "code",
   "execution_count": 5,
   "metadata": {},
   "outputs": [
    {
     "name": "stdout",
     "output_type": "stream",
     "text": [
      "6.66\n"
     ]
    }
   ],
   "source": [
    "my_py_var = 7.57\n",
    "def my_py_fun():\n",
    "    return 2*my_py_var\n",
    "flx.set_var( 'my_var', my_py_fun )\n",
    "my_py_var = 3.33\n",
    "print( flx.eval_fun( \"my_var\" ) )"
   ]
  },
  {
   "cell_type": "markdown",
   "metadata": {},
   "source": [
    "(content:FlxFunction:special)=\n",
    "#### special variables\n",
    "\n",
    "A *special variable* is a [const-variable](content:FlxFunction:const) that is used as an internal variable in some methods of Fesslix. \n",
    "Some special variables used in Fesslix are:\n",
    "\n",
    "``gx``\n",
    ": used by sets of random variables defined with {meth}`flx.rv_set_proc`\n",
    "\n",
    "``gx2``\n",
    ": used by sets of random variables defined with {meth}`flx.rv_set_proc`\n",
    "\n",
    "``deltax``\n",
    ": used by sets of random variables defined with {meth}`flx.rv_set_proc`\n",
    "\n",
    "#### Predefined constants\n",
    "\n",
    "A *predefined constant* is a [const-variable](content:FlxFunction:const) that is defined at the startup of Fesslix. \n",
    "In spite of the name *predefined constants*, a *predefined constant* is technically nothing else than a [const-variable](content:FlxFunction:const). \n",
    "Therefore, the value of a *predefined constant* can be changed (by the user) during execution.\n",
    "However, it is strongly recommended not to change the value of a predefined constant.\n",
    "\n",
    "Predefined constants in Fesslix are:\n",
    "\n",
    "| Name of constant  | Value    |\n",
    "| :--- | :--- |\n",
    "| ``pi``    | 3.14159...    |\n",
    "| ``e ``    | 2.71828...    |\n",
    "| ``gamma`` | 0.5772...    |\n",
    "| ``true``  | 1.0   |\n",
    "| ``false`` | 0.0  |"
   ]
  },
  {
   "cell_type": "markdown",
   "metadata": {},
   "source": [
    "(content:FlxFunction:Functions)=\n",
    "### Functions\n",
    "\n",
    "```{todo}\n",
    "Write this section.\n",
    "```"
   ]
  },
  {
   "cell_type": "markdown",
   "metadata": {},
   "source": [
    "## Data-types based on flxPara\n",
    "\n",
    "```{eval-rst}\n",
    ".. py:type:: flxParaPr\n",
    "   :canonical: flxPara\n",
    "\n",
    "   Syntax:\n",
    "       ``flxPara``\n",
    "\n",
    "   Description:\n",
    "       Expects a value of type :type:`flxPara` that evaluates to a floating-point number on the interval ``[0.0, 1.0]``; i.e., the evaluated expression is interpreted as a probability.\n",
    "```\n",
    "\n",
    "```{eval-rst}\n",
    ".. py:type:: flxParaPos0\n",
    "   :canonical: flxPara\n",
    "\n",
    "   Syntax:\n",
    "       ``flxPara``\n",
    "\n",
    "   Description:\n",
    "       Expects a value of type :type:`flxPara` that evaluates to a positive floating-point number or *zero*.\n",
    "```\n",
    "\n",
    "```{eval-rst}\n",
    ".. py:type:: flxParaPosNo0\n",
    "   :canonical: flxPara\n",
    "\n",
    "   Syntax:\n",
    "       ``flxPara``\n",
    "\n",
    "   Description:\n",
    "       Expects a value of type :type:`flxPara` that evaluates to a positive floating-point number (*zero* is not allowed).\n",
    "```\n"
   ]
  }
 ],
 "metadata": {
  "kernelspec": {
   "display_name": "Python (.venv-fesslix)",
   "language": "python",
   "name": ".venv-fesslix"
  },
  "language_info": {
   "codemirror_mode": {
    "name": "ipython",
    "version": 3
   },
   "file_extension": ".py",
   "mimetype": "text/x-python",
   "name": "python",
   "nbconvert_exporter": "python",
   "pygments_lexer": "ipython3",
   "version": "3.13.3"
  },
  "widgets": {
   "application/vnd.jupyter.widget-state+json": {
    "state": {},
    "version_major": 2,
    "version_minor": 0
   }
  }
 },
 "nbformat": 4,
 "nbformat_minor": 4
}
