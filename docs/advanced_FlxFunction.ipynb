{
 "cells": [
  {
   "cell_type": "markdown",
   "metadata": {},
   "source": [
    "# FlxFunction\n",
    "\n",
    "```{eval-rst}\n",
    ".. py:type:: FlxFunction\n",
    "\n",
    "   Theoretically, a `FlxFunction` is simply a data type. However, it can be considered the most important (and most complex) data type in Fesslix. A `FlxFunction` defines a mathematical function that can be stored as a function and evaluated multiple times. The result of an evaluation of a `FlxFunction` is a scalar value.\n",
    "\n",
    "   The syntax of expressions of type `FlxFunction` is outlined in this section.\n",
    "```"
   ]
  },
  {
   "cell_type": "code",
   "execution_count": 1,
   "metadata": {},
   "outputs": [
    {
     "data": {
      "text/plain": [
       "0"
      ]
     },
     "execution_count": 1,
     "metadata": {},
     "output_type": "execute_result"
    },
    {
     "name": "stdout",
     "output_type": "stream",
     "text": [
      "Random Number Generator: MT19937 - initialized with rand()=437982557;\n",
      "Random Number Generator: MT19937 - initialized with 1000 initial calls.\n"
     ]
    }
   ],
   "source": [
    "import fesslix as flx\n",
    "flx.load_engine()"
   ]
  },
  {
   "cell_type": "markdown",
   "metadata": {},
   "source": [
    "## Working with a FlxFunction in Python\n",
    "In Python, you can specify a {type}`FlxFunction` when the type {type}`flxPara` is required:"
   ]
  },
  {
   "cell_type": "markdown",
   "metadata": {},
   "source": [
    "```{eval-rst}\n",
    ".. py:type:: flxPara\n",
    "   :canonical: str | float | collections.abc.Callable\n",
    "\n",
    "   A parameter that can pass a callable expression.\n",
    "\n",
    "   The following types are accepted:\n",
    "     - ``str``: The content of the string is parsed as a callable expression of type :type:`FlxFunction`.\n",
    "     - ``callable``: A Python-callable that does not require any parameters is expected.\n",
    "     - ``float``: A simple *float* value is assigned as value for the parameter.\n",
    "```\n",
    "**Example**:"
   ]
  },
  {
   "cell_type": "code",
   "execution_count": 2,
   "metadata": {},
   "outputs": [
    {
     "name": "stdout",
     "output_type": "stream",
     "text": [
      "42.0\n",
      "42.0\n",
      "42.0\n",
      "2.801944471776144\n"
     ]
    }
   ],
   "source": [
    "## ==============================================\n",
    "## use <float> as type for FlxPara\n",
    "## ==============================================\n",
    "print( flx.eval_fun( 42. ) )\n",
    "\n",
    "## ==============================================\n",
    "## use <callable> as type for FlxPara\n",
    "## ==============================================\n",
    "\n",
    "## -----------------------------------------\n",
    "## Function without arguments\n",
    "## -----------------------------------------\n",
    "def help_fun():\n",
    "    return 42.\n",
    "print( flx.eval_fun( help_fun ) )\n",
    "\n",
    "## -----------------------------------------\n",
    "## lambda function without arguments\n",
    "## -----------------------------------------\n",
    "print( flx.eval_fun( lambda: 42. ) )\n",
    "\n",
    "## ==============================================\n",
    "## use <FlxFunction> as type for FlxPara\n",
    "## ==============================================\n",
    "print( flx.eval_fun(\"sqrt(pi+e/gamma)\") )"
   ]
  },
  {
   "cell_type": "markdown",
   "metadata": {},
   "source": [
    "## Syntax of a FlxFunction\n",
    "\n",
    "### Numbers\n",
    "\n",
    "The most primitive element of a FlxFunction is a {type}`Number`."
   ]
  },
  {
   "cell_type": "markdown",
   "metadata": {},
   "source": [
    "```{eval-rst}\n",
    ".. py:type:: Number\n",
    "\n",
    "   Syntax:\n",
    "       ``VALUE``\n",
    "\n",
    "   Description:\n",
    "        The type *Number* can be used exactly like the type :type:`Double`, with the following two additions:\n",
    "\n",
    "        - Angles can be specified. The default unit of an angle in Fesslix is radian. If you want to specify an angle in degrees, you have to put a ’°’ behind the value (the angle is internally transformed to radian).\n",
    "        - Values can be specified in percent.\n",
    "\n",
    "   Examples:\n",
    "        - ``180°``: evaluates to 3.14159...\n",
    "        - ``100%``: evaluates to 1.0\n",
    "```"
   ]
  },
  {
   "cell_type": "markdown",
   "metadata": {},
   "source": [
    "```{eval-rst}\n",
    ".. py:type:: Double\n",
    "\n",
    "   Syntax:\n",
    "       ``VALUE``\n",
    "\n",
    "   Description:\n",
    "       Represents a floating point value. The decimal separator for floating-point numbers in Fesslix is the dot (.). \n",
    "       \n",
    "   Examples:\n",
    "       In the following, a few examples of admissible floating-point numbers are given:\n",
    "       \n",
    "       ``1``\n",
    "       ``5.1``\n",
    "       ``-7.2``\n",
    "       ``4.124e-8``\n",
    "```"
   ]
  },
  {
   "cell_type": "markdown",
   "metadata": {},
   "source": [
    "### Operators\n",
    "\n",
    "```{todo}\n",
    "Write this section.\n",
    "```"
   ]
  }
 ],
 "metadata": {
  "kernelspec": {
   "display_name": "Python (.venv-fesslix)",
   "language": "python",
   "name": ".venv-fesslix"
  },
  "language_info": {
   "codemirror_mode": {
    "name": "ipython",
    "version": 3
   },
   "file_extension": ".py",
   "mimetype": "text/x-python",
   "name": "python",
   "nbconvert_exporter": "python",
   "pygments_lexer": "ipython3",
   "version": "3.13.2"
  },
  "widgets": {
   "application/vnd.jupyter.widget-state+json": {
    "state": {},
    "version_major": 2,
    "version_minor": 0
   }
  }
 },
 "nbformat": 4,
 "nbformat_minor": 4
}
