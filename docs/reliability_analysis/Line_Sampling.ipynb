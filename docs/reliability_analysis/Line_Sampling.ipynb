{
 "cells": [
  {
   "cell_type": "markdown",
   "metadata": {},
   "source": [
    "# Line Sampling\n"
   ]
  },
  {
   "cell_type": "markdown",
   "metadata": {},
   "source": [
    "## TODO\n",
    "\n",
    "```{todo}\n",
    "Write this section.\n",
    "```"
   ]
  },
  {
   "cell_type": "markdown",
   "metadata": {},
   "source": [
    "## Syntax\n",
    "```{eval-rst}\n",
    ".. function:: flx.perform_Line_Sampling\n",
    "\n",
    "    Syntax:\n",
    "        ``flx.perform_Line_Sampling(LSF, U_STAR, SAMPLER, CONFIG)``\n",
    "\n",
    "    Description:\n",
    "        Perform a line sampling (structural reliability analysis).\n",
    "        \n",
    "    :param LSF: The limit-state function (that depends on the input random variables of sampler ``SAMPLER``).\n",
    "    :type LSF: :type:`flxPara`\n",
    "    :param U_STAR: The base-vector for performing the line sampling. Ideally, this point is the design point of the structural reliability problem.\n",
    "    :type U_STAR: numpy.ndarray\n",
    "    :param SAMPLER: A sampler for a set (or multiple sets) of random variables.\n",
    "    :type SAMPLER: :class:`flx.sampler`\n",
    "    :param CONFIG: \n",
    "        A configuration dictionary. The following keys are allowed in ``CONFIG``:\n",
    "    \n",
    "         - ``n_ls`` (*int*, default: 10): The total number of line searches to perform. Value must be positive.\n",
    "         - ``ls_max_iter`` (*int*, default: 10): The maximum number of iterations per line-search. Value must be positive.\n",
    "         - ``ls_tol`` (*float*, default: 0.001): Tolerance parameter for performing the line search. Value must be positive.\n",
    "         - ``use_bisec`` (*bool*, default: *False*): Specifies the line-search algorithm. ``True``: bisection method; ``False``: regula falsi / secant method\n",
    "         - ``extended_ls`` (*bool*, default: *False*): If ``True``, the algorithm searches for multiple roots per line-search.\n",
    "         - ``verboseLog`` (*bool*, default: *False*): Verbose logging.\n",
    "         - ``show_progress`` (*bool*, default: *True*): Show progress bar.\n",
    "         - ``data_box`` (type :class:`flx.dataBox`): A :class:`flx.dataBox` to store/post-process all evaluations of the limit-state function performed by the line sampling algorithm.\n",
    "\n",
    "    :type CONFIG: *dict*\n",
    "    \n",
    "    :returns:     \n",
    "      A Python *dict* with the following information is returned:\n",
    "\n",
    "        - ``pf`` (*float*): The probability of failure estimated by line-sampling.\n",
    "        - ``N_lsf_calls`` (*int*): The total number of times the limit-state function was evaluated.\n",
    "        - ``calls_per_line_search`` (*int*): The average number of limit-state function calls per line-search.\n",
    "        - ``n_ls`` (*int*): The total number of line searches performed.\n",
    "        \n",
    "    :rtype: *dict*\n",
    "\n",
    "```\n",
    "\n",
    "## Application Example\n",
    "(content:reliability_analysis:LS:example)="
   ]
  },
  {
   "cell_type": "code",
   "execution_count": 1,
   "metadata": {},
   "outputs": [
    {
     "name": "stdout",
     "output_type": "stream",
     "text": [
      "Random Number Generator: MT19937 - initialized with rand()=396754188;\n",
      "Random Number Generator: MT19937 - initialized with 1000 initial calls.\n"
     ]
    },
    {
     "data": {
      "text/plain": [
       "0"
      ]
     },
     "execution_count": 1,
     "metadata": {},
     "output_type": "execute_result"
    }
   ],
   "source": [
    "import fesslix as flx\n",
    "flx.load_engine()"
   ]
  },
  {
   "cell_type": "code",
   "execution_count": 2,
   "metadata": {},
   "outputs": [],
   "source": [
    "## ==============================================\n",
    "## Generate input model\n",
    "## ==============================================\n",
    "config_rv_R = { 'name':'R', 'type':'logn', 'mu':6., 'sd':1. }\n",
    "config_rv_S = { 'name':'S', 'type':'normal', 'mu':1., 'sd':1. }\n",
    "rv_set = flx.rv_set( {'name':'rv_set', 'allow_x2y':True}, [ config_rv_R, config_rv_S ] )\n",
    "sampler = flx.sampler(['rv_set'])"
   ]
  },
  {
   "cell_type": "code",
   "execution_count": 3,
   "metadata": {},
   "outputs": [],
   "source": [
    "## ==============================================\n",
    "## Limit-state function\n",
    "## ==============================================\n",
    "lsf_expr = \"rbrv(rv_set::R)-rbrv(rv_set::S)\""
   ]
  },
  {
   "cell_type": "code",
   "execution_count": 4,
   "metadata": {},
   "outputs": [],
   "source": [
    "## ==============================================\n",
    "## Set up dataBox\n",
    "## ==============================================\n",
    "dBox = flx.dataBox(2,1)\n",
    "pp_rel = dBox.register_post_processor({ 'type':'counter' })"
   ]
  },
  {
   "cell_type": "code",
   "execution_count": 5,
   "metadata": {},
   "outputs": [
    {
     "name": "stdout",
     "output_type": "stream",
     "text": [
      "{'FORM_alpha': array([-0.5658187 ,  0.82452968]), 'FORM_beta': 3.8105978475448645, 'FORM_pf': 6.931556382892316e-05, 'pf_upper_bound': '7.028775e-4', 'dzdy': array([ 0.13952447, -0.20331966]), 'FORM_x': array([4.14195278, 4.14195104]), 'FORM_u': array([-2.15610752,  3.14195104]), 'N_lsf_calls': 16, 'N_iter': 5}\n",
      "{'N': 6}\n"
     ]
    }
   ],
   "source": [
    "## ==============================================\n",
    "## FORM solution\n",
    "## ==============================================\n",
    "config = { 'verboseLog':True, 'opt_method':'HLRF', 'fdstep':5e-2, 'data_box':dBox }\n",
    "form_res = flx.perform_FORM(lsf_expr, sampler, config)\n",
    "print(form_res)\n",
    "print(pp_rel.eval())"
   ]
  },
  {
   "cell_type": "code",
   "execution_count": 6,
   "metadata": {},
   "outputs": [
    {
     "name": "stdout",
     "output_type": "stream",
     "text": [
      "{'pf': 6.189847873928923e-05, 'N_lsf_calls': 60004, 'calls_per_line_search': 6.0, 'n_ls': 10000}\n",
      "{'N': 60010}\n"
     ]
    }
   ],
   "source": [
    "## ==============================================\n",
    "## Line sampling\n",
    "## ==============================================\n",
    "config = { 'n_ls':10000, 'extended_ls':True, 'use_bisec':False, 'data_box':dBox }\n",
    "ra_ls_res = flx.perform_Line_Sampling(lsf_expr, form_res['FORM_u'], sampler, config)\n",
    "print(ra_ls_res)\n",
    "print(pp_rel.eval())"
   ]
  },
  {
   "cell_type": "code",
   "execution_count": null,
   "metadata": {},
   "outputs": [],
   "source": []
  }
 ],
 "metadata": {
  "kernelspec": {
   "display_name": "Python (.venv-fesslix)",
   "language": "python",
   "name": ".venv-fesslix"
  },
  "language_info": {
   "codemirror_mode": {
    "name": "ipython",
    "version": 3
   },
   "file_extension": ".py",
   "mimetype": "text/x-python",
   "name": "python",
   "nbconvert_exporter": "python",
   "pygments_lexer": "ipython3",
   "version": "3.13.5"
  },
  "widgets": {
   "application/vnd.jupyter.widget-state+json": {
    "state": {},
    "version_major": 2,
    "version_minor": 0
   }
  }
 },
 "nbformat": 4,
 "nbformat_minor": 4
}
