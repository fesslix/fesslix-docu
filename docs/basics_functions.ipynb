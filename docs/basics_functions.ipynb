{
 "cells": [
  {
   "cell_type": "markdown",
   "metadata": {},
   "source": [
    "# Standard functions"
   ]
  },
  {
   "cell_type": "code",
   "execution_count": 1,
   "metadata": {},
   "outputs": [
    {
     "name": "stdout",
     "output_type": "stream",
     "text": [
      "Random Number Generator: MT19937 - initialized with rand()=1599074920;\n",
      "Random Number Generator: MT19937 - initialized with 1000 initial calls.\n"
     ]
    },
    {
     "data": {
      "text/plain": [
       "0"
      ]
     },
     "execution_count": 1,
     "metadata": {},
     "output_type": "execute_result"
    }
   ],
   "source": [
    "import fesslix as flx\n",
    "flx.load_engine()"
   ]
  },
  {
   "cell_type": "markdown",
   "metadata": {},
   "source": [
    "\n",
    "```{todo}\n",
    "Write this section.\n",
    "```\n"
   ]
  },
  {
   "cell_type": "markdown",
   "metadata": {},
   "source": [
    "## Mathematical functions\n",
    "\n"
   ]
  },
  {
   "cell_type": "markdown",
   "metadata": {},
   "source": [
    "### Statistics"
   ]
  },
  {
   "cell_type": "markdown",
   "metadata": {},
   "source": [
    "```{eval-rst}\n",
    ".. function:: flx.cdfn_inv\n",
    "\n",
    "    Syntax:\n",
    "        ``flx.cdfn_inv(q)``\n",
    "\n",
    "    Description:\n",
    "        Returns the inverse of the CDF of the standard Normal distribution of `q`.\n",
    "        \n",
    "    :param q: The quantile at which to evaluate the inverse of the CDF.\n",
    "    :type q: :type:`flx_pr`\n",
    "    :rtype: float\n",
    "    \n",
    "```\n",
    "\n",
    "**Example**:"
   ]
  },
  {
   "cell_type": "code",
   "execution_count": 2,
   "metadata": {},
   "outputs": [
    {
     "data": {
      "text/plain": [
       "-4.753424308822899"
      ]
     },
     "execution_count": 2,
     "metadata": {},
     "output_type": "execute_result"
    }
   ],
   "source": [
    "flx.cdfn_inv(1e-6)"
   ]
  },
  {
   "cell_type": "markdown",
   "metadata": {},
   "source": [
    "## Other functions"
   ]
  },
  {
   "cell_type": "markdown",
   "metadata": {},
   "source": [
    "```{eval-rst}\n",
    ".. function:: flx.randStr\n",
    "\n",
    "    Syntax:\n",
    "        ``flx.randStr(N)``\n",
    "\n",
    "    Description:\n",
    "        returns a random string of length `N`.\n",
    "        \n",
    "    :param N: Length of the string to generate. Value must be larger than *zero*.\n",
    "    :type N: int\n",
    "    :rtype: str\n",
    "\n",
    "    The random string is generated based on the following set of characters, where each character has the same probability of occurrence:\n",
    "\n",
    "        - ``0123456789``\n",
    "        - ``ABCDEFGHIJKLMNOPQRSTUVWXYZ``\n",
    "        - ``abcdefghijklmnopqrstuvwxyz``\n",
    "    \n",
    "```\n",
    "\n",
    "**Example**:"
   ]
  },
  {
   "cell_type": "code",
   "execution_count": 3,
   "metadata": {},
   "outputs": [
    {
     "data": {
      "text/plain": [
       "'bVJEYsJYPH'"
      ]
     },
     "execution_count": 3,
     "metadata": {},
     "output_type": "execute_result"
    }
   ],
   "source": [
    "flx.randStr(10)"
   ]
  }
 ],
 "metadata": {
  "kernelspec": {
   "display_name": "Python (.venv-fesslix)",
   "language": "python",
   "name": ".venv-fesslix"
  },
  "language_info": {
   "codemirror_mode": {
    "name": "ipython",
    "version": 3
   },
   "file_extension": ".py",
   "mimetype": "text/x-python",
   "name": "python",
   "nbconvert_exporter": "python",
   "pygments_lexer": "ipython3",
   "version": "3.13.3"
  },
  "widgets": {
   "application/vnd.jupyter.widget-state+json": {
    "state": {},
    "version_major": 2,
    "version_minor": 0
   }
  }
 },
 "nbformat": 4,
 "nbformat_minor": 4
}
