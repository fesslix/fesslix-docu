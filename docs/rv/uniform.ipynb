{
 "cells": [
  {
   "cell_type": "markdown",
   "metadata": {},
   "source": [
    "(content:rv:uniform)=\n",
    "# Uniform distribution\n",
    "\n",
    "The PDF of the *uniform* distribution is constant on the interval $[a,b]$, where $a$ and $b$ denote the lower and upper bounds of plausible values, respectively.\n",
    "\n",
    "In the following, let $X$ be a random variable that follows a *uniform* distribution with parameters $a$ and $b$, and let $x$ denote a particular outcome of $X$."
   ]
  },
  {
   "cell_type": "code",
   "execution_count": 2,
   "metadata": {},
   "outputs": [
    {
     "name": "stdout",
     "output_type": "stream",
     "text": [
      "Random Number Generator: MT19937 - initialized with rand()=1948283619;\n",
      "Random Number Generator: MT19937 - initialized with 1000 initial calls.\n"
     ]
    }
   ],
   "source": [
    "import fesslix as flx\n",
    "flx.load_engine()\n",
    "\n",
    "import numpy as np\n",
    "import fesslix.plot as flx_plot\n",
    "import matplotlib.pyplot as plt\n",
    "%matplotlib inline"
   ]
  },
  {
   "cell_type": "markdown",
   "metadata": {},
   "source": [
    "## Syntax\n",
    "\n",
    "```{eval-rst}\n",
    ".. py:property:: uniform\n",
    "\n",
    "   Uniform distribution\n",
    "\n",
    "   ``uniform`` is a distribution type (:type:`flx_rv_type`) for :ref:`content:rv:basics` in Fesslix.\n",
    "\n",
    "   Parametrization:\n",
    "       Parameters of the distribution can be specified as additional key-value pairs in an object of type :type:`flx_rv_config`. \n",
    "       The following combinations of parameters are accepted:\n",
    "\n",
    "         - ``a``, ``b``\n",
    "         \n",
    "       The interpretation of the parameters is:\n",
    "\n",
    "         - ``a`` (:type:`flxPara`): lower bound\n",
    "         - ``b`` (:type:`flxPara`): upper bound; value must be larger than `a`   \n",
    "       \n",
    "```\n",
    "**Example:**"
   ]
  },
  {
   "cell_type": "code",
   "execution_count": 3,
   "metadata": {},
   "outputs": [],
   "source": [
    "rv = flx.rv({'name':'rv_1', 'type':'uniform', 'a':0., 'b':1. })"
   ]
  },
  {
   "cell_type": "markdown",
   "metadata": {},
   "source": [
    "## Properties\n",
    "\n",
    "Notation\n",
    ": $X\\sim\\mathcal{U}(a,b)$\n",
    "\n",
    "Parameters\n",
    ": $-\\infty<a<b<\\infty$\n",
    "\n",
    "Support\n",
    ": $x\\in[a,b]$\n",
    "\n",
    "Mean\n",
    ": $\\mu_X = \\frac{1}{2}(a+b)$\n",
    "\n",
    "Standard deviation\n",
    ": $\\sigma_X = \\frac{1}{\\sqrt{12}}(b-a)$\n",
    "\n",
    "Median\n",
    ": $\\mu_X$\n",
    "\n",
    "Mode\n",
    ": $\\mu_X$\n",
    "\n",
    "Skewness\n",
    ": *zero*\n",
    "\n",
    "Excess kurtosis\n",
    ": $-\\frac{6}{5}$\n",
    "\n",
    "Entropy\n",
    ": $\\ln(b-a)$\n",
    "\n",
    "## PDF\n",
    "\n",
    "The PDF $f_X(x)$ of the \\emph{uniform} distribution is:\n",
    "\n",
    "$$f_X(x) = \\frac{1}{b-a}\\;, \\quad a \\le x \\le b$$\n",
    "\n",
    "## CDF\n",
    "\n",
    "The CDF $F_X(x)$ of the \\emph{uniform} distribution is defined as:\n",
    "\n",
    "$$F_X(x) = \\frac{x-a}{b-a}$$\n",
    "\n",
    "## Quantile function\n",
    "\n",
    "The *quantile function* of the *uniform* distribution is: \n",
    "\n",
    "$$F_X^{-1}(p) = p\\cdot(b-a) + a \\;, \\quad p\\in(0,1)$$\n",
    "    \n",
    "## Parametrization in terms of $\\mu_X$ and $\\sigma_X$\n",
    "\n",
    "If the mean and standard deviation are given, the parameters $a$ and $b$ can be derived as:\n",
    "\n",
    "$$a = \\mu_X - \\sigma_X \\sqrt{3}$$\n",
    "$$b = \\mu_X + \\sigma_X \\sqrt{3}$$"
   ]
  }
 ],
 "metadata": {
  "kernelspec": {
   "display_name": "Python (.venv-fesslix)",
   "language": "python",
   "name": ".venv-fesslix"
  },
  "language_info": {
   "codemirror_mode": {
    "name": "ipython",
    "version": 3
   },
   "file_extension": ".py",
   "mimetype": "text/x-python",
   "name": "python",
   "nbconvert_exporter": "python",
   "pygments_lexer": "ipython3",
   "version": "3.13.2"
  },
  "widgets": {
   "application/vnd.jupyter.widget-state+json": {
    "state": {},
    "version_major": 2,
    "version_minor": 0
   }
  }
 },
 "nbformat": 4,
 "nbformat_minor": 4
}
