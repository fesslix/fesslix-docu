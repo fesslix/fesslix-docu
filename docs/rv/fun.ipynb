{
 "cells": [
  {
   "cell_type": "markdown",
   "metadata": {},
   "source": [
    "(content:rv:fun)=\n",
    "# Fun » function of random variables\n",
    "\n",
    "*Fun* does not specify a random variable, but a function that can depend on other random variables."
   ]
  },
  {
   "cell_type": "markdown",
   "metadata": {},
   "source": [
    "## Syntax\n",
    "\n",
    "```{eval-rst}\n",
    ".. py:property:: fun\n",
    "\n",
    "   Function of random variables that defines a generalized random variable. Conditional on the values of the dependend random variables, it is a deterministic mapping.\n",
    "\n",
    "   ``fun`` specifies a function that can depend on other random variables.\n",
    "\n",
    "   Parametrization:\n",
    "       Parameters of the generalized random variable can be specified as additional key-value pairs in an object of type :type:`flx_rv_config`. \n",
    "       The following combinations of parameters are accepted:\n",
    "\n",
    "         - ``fun``\n",
    "\n",
    "       The interpretation of the parameters is:\n",
    "\n",
    "         - ``fun`` (:type:`flxPara`): mapping\n",
    "       \n",
    "```\n",
    "**Example:**\n",
    "... see {ref}`this example<content:rv_sets:ex1>`"
   ]
  },
  {
   "cell_type": "code",
   "execution_count": null,
   "metadata": {},
   "outputs": [],
   "source": []
  }
 ],
 "metadata": {
  "kernelspec": {
   "display_name": "Python (.venv-fesslix)",
   "language": "python",
   "name": ".venv-fesslix"
  },
  "language_info": {
   "codemirror_mode": {
    "name": "ipython",
    "version": 3
   },
   "file_extension": ".py",
   "mimetype": "text/x-python",
   "name": "python",
   "nbconvert_exporter": "python",
   "pygments_lexer": "ipython3",
   "version": "3.13.5"
  },
  "widgets": {
   "application/vnd.jupyter.widget-state+json": {
    "state": {},
    "version_major": 2,
    "version_minor": 0
   }
  }
 },
 "nbformat": 4,
 "nbformat_minor": 4
}
