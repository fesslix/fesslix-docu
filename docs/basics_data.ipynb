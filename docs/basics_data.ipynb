{
 "cells": [
  {
   "cell_type": "markdown",
   "metadata": {},
   "source": [
    "# Handling data\n",
    "\n",
    "[kahan-summation]: https://en.wikipedia.org/wiki/Kahan_summation_algorithm \"Kahan summation algorithm\"\n",
    "\n",
    "## The \"dataBox\""
   ]
  },
  {
   "cell_type": "markdown",
   "metadata": {},
   "source": [
    "```{eval-rst}\n",
    ".. class:: flx.dataBox\n",
    "\n",
    "   Handles the processing/storage of data-points.\n",
    "\n",
    "   .. method:: __init__(M_in, M_out)\n",
    "\n",
    "      Initialize an empty data-box.\n",
    "      \n",
    "      :param M_in: The dimension of the input vector. Value must be positive or *zero*.\n",
    "      :type M_in: int\n",
    "      :param M_out: The dimension of the output vector. Value must be positive or *zero*.\n",
    "      :type M_out: int\n",
    "\n",
    "   .. py:method:: write2mem(config)\n",
    "\n",
    "      Allocate memory for storing data-points.\n",
    "\n",
    "      :param config: The following keys are allowed in `config`:\n",
    "    \n",
    "         - ``N_reserve`` (type *unsigned long*): The total number of data-points the memory can hold.\n",
    "         - ``cols`` (*string* or *list*): ... see parameter ``cols`` in :func:`flx.dataBox.write2file`.\n",
    "\n",
    "      :type config: dict\n",
    "      :rtype: None\n",
    "      \n",
    "   .. py:method:: extract_col_from_mem(col)\n",
    "\n",
    "      Return a numpy-array that points to the memory of ``col``.\n",
    "\n",
    "      :param col: An identifier for the data-column to extract.\n",
    "      :type col: :type:`dataBox_colID`\n",
    "      :rtype: numpy.ndarray[float]\n",
    "      \n",
    "   .. py:method:: free_mem()\n",
    "\n",
    "      Free the allocated memory for storing data.\n",
    "\n",
    "      :rtype: None\n",
    "\n",
    "   .. py:method:: write2file(config)\n",
    "\n",
    "      Set the handle to write data-points to a file / output stream.\n",
    "\n",
    "      :param config: The following keys are allowed in `config`:\n",
    "    \n",
    "         - ``fname`` (type *string*): The name of the file to open for output.\n",
    "         - ``append`` (*bool*, default: *True*): ``True``: Append output to an existing file. ``False``: Overwrite an existing file.\n",
    "         - ``binary`` (*bool*, default: *True*): ``True``: Output data in binary format. ``False``: Create a human-readable text file.\n",
    "         - ``cols`` (*string* or *list*): \n",
    "         \n",
    "             If a *string* is provided, the following keywords are accepted:\n",
    "\n",
    "                 - ``all``: all data columns (i.e., model output and model input) are sent to the output stream. First, the model output and thereafter the model input is written.\n",
    "                 - ``all_in``: only the model input is written to the output stream.\n",
    "                 - ``all_out``: only the model output is written to the output stream.\n",
    "                 \n",
    "             If a *list* is provided, the list must be composed of entries of type :type:`dataBox_colID`.             \n",
    "\n",
    "      :type config: dict\n",
    "      :rtype: None\n",
    "     \n",
    "   .. py:method:: read_from_file(config)\n",
    "\n",
    "      Import data-points from a file. \n",
    "      \n",
    "      The total number of values stored in the file must be a multiple of ``M_in+M_out``.\n",
    "\n",
    "      :param config: The following keys are allowed in `config`:\n",
    "    \n",
    "         - ``fname`` (type *string*): The name of the file to read from.\n",
    "         - ``binary`` (*bool*, default: *True*): ``True``: Input data in binary format. ``False``: Input from a human-readable text file.          \n",
    "\n",
    "      :type config: dict\n",
    "      :rtype: None\n",
    "      \n",
    "   .. py:method:: close_file()\n",
    "\n",
    "      Closes an open file stream. No more samples will be written to the file.\n",
    "\n",
    "      :rtype: None\n",
    "\n",
    "   .. py:method:: register_post_processor(config)\n",
    "\n",
    "      Registers a new :class:`post-processor<flx.dataBox.postProc>` and returns it.\n",
    "\n",
    "      :param config: The configuration of the post-processor.\n",
    "      :type config: :type:`dataBox_postProc`\n",
    "      :rtype: :class:`flx.dataBox.postProc`\n",
    "```"
   ]
  },
  {
   "cell_type": "markdown",
   "metadata": {},
   "source": [
    "```{eval-rst}\n",
    ".. py:type:: dataBox_colID\n",
    "   :canonical: int | dict\n",
    "\n",
    "   Syntax:\n",
    "       ``COL``\n",
    "\n",
    "   Description:   \n",
    "       The configuration used to identify a data-column in a :type:`flx.dataBox`.\n",
    "\n",
    "   The following types are accepted for `COL`:\n",
    "   \n",
    "     - ``int``: A *integer* that specifies the ID of a data-column. The numbering of column IDs for the model output starts with *zero*. The numbering of the column IDs for the model input starts with the total number of output columns. Value must be postive for *zero*.\n",
    "     - ``dict``: A Python-dictionary that expects the following keys:\n",
    "\n",
    "         - ``set`` (type *string*): Specifies how the ``id`` is interpreted. The value must either be ``full`` (on full set of data-columns), ``in`` (on data-columns of the input) or ``out`` (on data-columns of the output). \n",
    "         - ``id`` (type *int*): The index of the data-column.\n",
    "```"
   ]
  },
  {
   "cell_type": "markdown",
   "metadata": {},
   "source": [
    "## Post-processors\n",
    "### Overview"
   ]
  },
  {
   "cell_type": "markdown",
   "metadata": {},
   "source": [
    "```{eval-rst}\n",
    ".. py:type:: dataBox_postProc\n",
    "   :canonical: dict\n",
    "\n",
    "   Syntax:\n",
    "       ``CONFIG``\n",
    "\n",
    "   Description:   \n",
    "       The configuration used to initialize a post-processor for a :type:`flx.dataBox`, where `CONFIG` is of type *dict*.\n",
    "\n",
    "   The following keys are allowed independent of the :type:`type of the post-processor<dataBox_postProc_type>`:\n",
    "     - ``type`` (:type:`dataBox_postProc_type`): The type of the post-processor (*required*).\n",
    "     \n",
    "   Additionally, depending on the specified ``type`` of the random variable, other keys can be required for definition; see section :ref:`content:basics:data:postproc:types`.\n",
    "```"
   ]
  },
  {
   "cell_type": "markdown",
   "metadata": {},
   "source": [
    "```{eval-rst}\n",
    ".. type:: dataBox_postProc_type\n",
    "   :canonical: str\n",
    "\n",
    "   Syntax:\n",
    "       ``TYPE``\n",
    "\n",
    "   Description:\n",
    "       Specifies the type of a :class:`post-processor<flx.dataBox.postProc>` for a :type:`flx.dataBox`.\n",
    "\n",
    "   The following values/types for :class:`post-processors<flx.dataBox.postProc>` can be used:\n",
    "     - ``mean_double`` » :ref:`content:basics:data:postproc:types:mean_double`\n",
    "     - ``mean_pdouble`` » :ref:`content:basics:data:postproc:types:mean_pdouble`\n",
    "     - ``mean_qdouble`` » :ref:`content:basics:data:postproc:types:mean_qdouble`\n",
    "     - ``vdouble`` » :ref:`content:basics:data:postproc:types:vdouble`\n",
    "\n",
    "   The state of a :class:`post-processor<flx.dataBox.postProc>` can be retrieved by means of the function :func:`flx.dataBox.postProc.eval`.\n",
    "```"
   ]
  },
  {
   "cell_type": "markdown",
   "metadata": {},
   "source": [
    "```{eval-rst}\n",
    ".. class:: flx.dataBox.postProc\n",
    "\n",
    "   A post-processor for a :type:`flx.dataBox`.\n",
    "\n",
    "   .. method:: eval()\n",
    "\n",
    "       Syntax:\n",
    "           ``flx.dataBox.postProc.eval()``\n",
    "\n",
    "       Description:\n",
    "           Returns the current state of the post-processor. The states of the different post-processors are documented in section :ref:`content:basics:data:postproc:types`.\n",
    "        \n",
    "       :rtype: dict\n",
    "```"
   ]
  },
  {
   "cell_type": "markdown",
   "metadata": {},
   "source": [
    "(content:basics:data:postproc:types)=\n",
    "### Types"
   ]
  },
  {
   "cell_type": "markdown",
   "metadata": {},
   "source": [
    "(content:basics:data:postproc:types:mean_double)=\n",
    "#### ``mean_double``\n",
    "\n",
    "```{eval-rst}\n",
    ".. py:property:: mean_double\n",
    "\n",
    "   A :class:`post-processor<flx.dataBox.postProc>` that tracks the mean of the data-column based on a floating-point variable.\n",
    "   It is a fast post-processor.\n",
    "   However, for large sums, accuracy can become an issue due to floating-point precission.\n",
    "\n",
    "   Parametrization:\n",
    "       Parameters of this post-processor can be specified as additional key-value pairs in an object of type :type:`dataBox_postProc_type`. \n",
    "       The following parameters are accepted:\n",
    "\n",
    "         - ``col`` (:type:`dataBox_colID`): An identifier for the data-column to track.\n",
    "\n",
    "   States:\n",
    "       When the function :func:`flx.dataBox.postProc.eval` is called on this post-processor, the following states are returned:\n",
    "\n",
    "       - ``mean`` (*float*): The sample mean of the tracked data-column.\n",
    "       - ``N`` (*int*): The total number of samples of the tracked data-column.\n",
    "\n",
    "```"
   ]
  },
  {
   "cell_type": "markdown",
   "metadata": {},
   "source": [
    "(content:basics:data:postproc:types:mean_pdouble)=\n",
    "#### ``mean_pdouble``\n",
    "\n",
    "```{eval-rst}\n",
    ".. py:property:: mean_pdouble\n",
    "\n",
    "   A :class:`post-processor<flx.dataBox.postProc>` that tracks the mean of the data-column based on a special floating-point variable that minimizes potential numerical summation errors (based on the *Kahan summation algorithm*).\n",
    "\n",
    "   Parametrization:\n",
    "       Parameters of this post-processor can be specified as additional key-value pairs in an object of type :type:`dataBox_postProc_type`. \n",
    "       The following parameters are accepted:\n",
    "\n",
    "         - ``col`` (:type:`dataBox_colID`): An identifier for the data-column to track.\n",
    "\n",
    "   States:\n",
    "       When the function :func:`flx.dataBox.postProc.eval` is called on this post-processor, the following states are returned:\n",
    "\n",
    "       - ``mean`` (*float*): The sample mean of the tracked data-column.\n",
    "       - ``N`` (*int*): The total number of samples of the tracked data-column.\n",
    "\n",
    "```"
   ]
  },
  {
   "cell_type": "markdown",
   "metadata": {},
   "source": [
    "(content:basics:data:postproc:types:mean_qdouble)=\n",
    "#### ``mean_qdouble``\n",
    "\n",
    "```{eval-rst}\n",
    ".. py:property:: mean_qdouble\n",
    "\n",
    "   A :class:`post-processor<flx.dataBox.postProc>` that tracks the mean of the data-column based on a special floating-point variable that minimizes potential numerical summation errors (based on performing the summation in separate bins).\n",
    "\n",
    "   Parametrization:\n",
    "       Parameters of this post-processor can be specified as additional key-value pairs in an object of type :type:`dataBox_postProc_type`. \n",
    "       The following parameters are accepted:\n",
    "\n",
    "         - ``col`` (:type:`dataBox_colID`): An identifier for the data-column to track.\n",
    "         - ``NpV`` (*int*): A number of points. Value must be larger than *zero*.\n",
    "         - ``ppb`` (*bool*): ``True``, `NpV` is interpreted as the number of points per summation bin. ``False``, `NpV` is interpreted as the total number of samples - and the number of bins is estimated from this number.\n",
    "\n",
    "   States:\n",
    "       When the function :func:`flx.dataBox.postProc.eval` is called on this post-processor, the following states are returned:\n",
    "\n",
    "       - ``mean`` (*float*): The sample mean of the tracked data-column.\n",
    "       - ``N`` (*int*): The total number of samples of the tracked data-column.\n",
    "\n",
    "```"
   ]
  },
  {
   "cell_type": "markdown",
   "metadata": {},
   "source": [
    "(content:basics:data:postproc:types:vdouble)=\n",
    "#### ``vdouble``\n",
    "\n",
    "```{eval-rst}\n",
    ".. py:property:: vdouble\n",
    "\n",
    "   A :class:`post-processor<flx.dataBox.postProc>` that tracks the mean and the variance of the data-column.\n",
    "   A special floating-point variable (based on the Kahan summation algorithm) is used to increase floating-point precision.\n",
    "\n",
    "   Parametrization:\n",
    "       Parameters of this post-processor can be specified as additional key-value pairs in an object of type :type:`dataBox_postProc_type`. \n",
    "       The following parameters are accepted:\n",
    "\n",
    "         - ``col`` (:type:`dataBox_colID`): An identifier for the data-column to track.\n",
    "\n",
    "   States:\n",
    "       When the function :func:`flx.dataBox.postProc.eval` is called on this post-processor, the following states are returned:\n",
    "\n",
    "       - ``mean`` (*float*): The sample mean of the tracked data-column.\n",
    "       - ``sd`` (*float*): The sample standard deviation of the tracked data-column.\n",
    "       - ``var`` (*float*): The sample variance of the tracked data-column.\n",
    "       - ``N`` (*int*): The total number of samples of the tracked data-column.\n",
    "       - ``rv_mean`` (:class:`flx.rv`): A random variable quantifying the uncertainty about the mean value of the tracked data-column.\n",
    "\n",
    "```"
   ]
  },
  {
   "cell_type": "markdown",
   "metadata": {},
   "source": [
    "(content:basics:data:postproc:types:reliability)=\n",
    "#### ``reliability``\n",
    "\n",
    "```{eval-rst}\n",
    ".. py:property:: reliability\n",
    "\n",
    "   A :class:`post-processor<flx.dataBox.postProc>` that interprets the values of the data-column as a limit-state function and tracks the reliability.\n",
    "\n",
    "   Parametrization:\n",
    "       Parameters of this post-processor can be specified as additional key-value pairs in an object of type :type:`dataBox_postProc_type`. \n",
    "       The following parameters are accepted:\n",
    "\n",
    "         - ``col`` (:type:`dataBox_colID`): An identifier for the data-column to track.\n",
    "\n",
    "   States:\n",
    "       When the function :func:`flx.dataBox.postProc.eval` is called on this post-processor, the following states are returned:\n",
    "\n",
    "       - ``N`` (*int*): The total number of samples of the tracked data-column.\n",
    "       - ``H`` (*int*): The number of samples of the tracked data-column with a limit-state function smaller or equal than *zero*.\n",
    "       - ``mean_freq`` (*float*): Frequentist estimate of the mean value.\n",
    "       - ``mean_bayes`` (*float*): Bayesian estimate of the mean value.\n",
    "       - ``rv_pf`` (:class:`flx.rv`): A random variable quantifying the uncertainty about the probability of failure of the tracked data-column.\n",
    "\n",
    "```"
   ]
  },
  {
   "cell_type": "markdown",
   "metadata": {},
   "source": [
    "## Examples"
   ]
  },
  {
   "cell_type": "code",
   "execution_count": 1,
   "metadata": {},
   "outputs": [
    {
     "name": "stdout",
     "output_type": "stream",
     "text": [
      "Random Number Generator: MT19937 - initialized with rand()=962222853;\n",
      "Random Number Generator: MT19937 - initialized with 1000 initial calls.\n"
     ]
    }
   ],
   "source": [
    "import fesslix as flx\n",
    "flx.load_engine()\n",
    "import fesslix.model_templates as flx_model_templates\n",
    "\n",
    "import numpy as np"
   ]
  },
  {
   "cell_type": "markdown",
   "metadata": {},
   "source": [
    "### Write samples to a file and to memory"
   ]
  },
  {
   "cell_type": "code",
   "execution_count": 2,
   "metadata": {},
   "outputs": [
    {
     "name": "stdout",
     "output_type": "stream",
     "text": [
      "mean of S: 0.99\n",
      "pp_1a: {'N': 10000, 'mean': 4.992860617932716}\n",
      "pp_1b: {'N': 10000, 'mean': 4.992860617932716}\n",
      "pp_1c: {'mean': 4.992860617932717, 'N': 10000}\n",
      "pp_1d: {'mean': 4.992860617932716, 'var': 1.0009114343890506, 'sd': 1.000455613402739, 'N': 10000, 'rv_mean': <fesslix.core.rv object at 0x7c832d516ff0>} 4.992860617932716\n"
     ]
    }
   ],
   "source": [
    "## ==============================================\n",
    "## Generate model\n",
    "## ==============================================\n",
    "my_model = flx_model_templates.generate_reliability_R_S_example()\n",
    "\n",
    "## ==============================================\n",
    "## Set up dataBox\n",
    "## ==============================================\n",
    "dBox_1 = flx.dataBox(my_model['sampler'].get_NOX(),len(my_model['model']))\n",
    "\n",
    "## ----------------------------------------\n",
    "## set up writing to a file\n",
    "## ----------------------------------------\n",
    "dBox_1.write2file( {\n",
    "    'fname': \"mcs_samples.bin\",\n",
    "    'append': False,\n",
    "    'binary': True,\n",
    "    'cols': 'all'\n",
    "    } )\n",
    "\n",
    "## ----------------------------------------\n",
    "## set up storing data in memory\n",
    "## ----------------------------------------\n",
    "dBox_1.write2mem( {\n",
    "    'N_reserve': int(1e6),\n",
    "    'cols': 'all'\n",
    "    } )\n",
    "\n",
    "## ----------------------------------------\n",
    "## register post-processors\n",
    "## ----------------------------------------\n",
    "pp_1a = dBox_1.register_post_processor({ 'type':'mean_double', 'col':{ 'set':'in', 'id':0} })\n",
    "pp_1b = dBox_1.register_post_processor({ 'type':'mean_pdouble', 'col':{ 'set':'in', 'id':0} })\n",
    "pp_1c = dBox_1.register_post_processor({ 'type':'mean_qdouble', 'col':{ 'set':'in', 'id':0} })\n",
    "pp_1d = dBox_1.register_post_processor({ 'type':'vdouble', 'col':{ 'set':'in', 'id':0} })\n",
    "\n",
    "## ==============================================\n",
    "## Perform the Monte Carlo simulation\n",
    "## ==============================================\n",
    "my_model['sampler'].perform_MCS(10000,my_model['model'],dBox_1)\n",
    "\n",
    "## ==============================================\n",
    "## Close the file stream of dBox_1\n",
    "## ==============================================\n",
    "dBox_1.close_file()\n",
    "\n",
    "## ==============================================\n",
    "## Extract a data-column from dBox_1\n",
    "## ==============================================\n",
    "data_fvec = dBox_1.extract_col_from_mem( { 'set':'in', 'id':1} )\n",
    "print( f\"mean of S: {np.mean(data_fvec):.2f}\" )\n",
    "\n",
    "## ==============================================\n",
    "## Evaluate post-processors\n",
    "## ==============================================\n",
    "\n",
    "print( \"pp_1a:\", pp_1a.eval() )\n",
    "print( \"pp_1b:\", pp_1b.eval() )\n",
    "print( \"pp_1c:\", pp_1c.eval() )\n",
    "pp_1d_res = pp_1d.eval()\n",
    "print( \"pp_1d:\", pp_1d_res, pp_1d_res['rv_mean'].mean() )\n"
   ]
  },
  {
   "cell_type": "markdown",
   "metadata": {},
   "source": [
    "### Import samples from a binary file"
   ]
  },
  {
   "cell_type": "code",
   "execution_count": 3,
   "metadata": {},
   "outputs": [
    {
     "name": "stdout",
     "output_type": "stream",
     "text": [
      "pp_2a: {'mean': 4.992860618948937, 'N': 10000}\n",
      "pp_2b: {'mean': 0.9865246530708391, 'N': 10000}\n"
     ]
    }
   ],
   "source": [
    "## ==============================================\n",
    "## Set up dataBox and post-processors\n",
    "## ==============================================\n",
    "dBox_2 = flx.dataBox(2,1)\n",
    "\n",
    "pp_2a = dBox_2.register_post_processor({ 'type':'mean_qdouble', 'col':{ 'set':'in', 'id':0} })\n",
    "pp_2b = dBox_2.register_post_processor({ 'type':'mean_qdouble', 'col':{ 'set':'in', 'id':1} })\n",
    "\n",
    "dBox_2.write2file( {\n",
    "    'fname': \"mcs_samples.dat\",\n",
    "    'append': False,\n",
    "    'binary': False,\n",
    "    'cols': 'all_in'\n",
    "    } )\n",
    "\n",
    "## ==============================================\n",
    "## import data from file\n",
    "## ==============================================\n",
    "dBox_2.read_from_file({ 'fname': \"mcs_samples.bin\", 'binary': True })\n",
    "\n",
    "## ==============================================\n",
    "## Evaluate post-processors\n",
    "## ==============================================\n",
    "print( \"pp_2a:\", pp_2a.eval() )\n",
    "print( \"pp_2b:\", pp_2b.eval() )\n"
   ]
  },
  {
   "cell_type": "markdown",
   "metadata": {},
   "source": [
    "### Import samples from a text-file"
   ]
  },
  {
   "cell_type": "code",
   "execution_count": 4,
   "metadata": {},
   "outputs": [
    {
     "name": "stdout",
     "output_type": "stream",
     "text": [
      "pp_3a: {'mean': 4.992860621699999, 'N': 10000}\n",
      "pp_3b: {'mean': 0.9865246652292301, 'N': 10000}\n"
     ]
    }
   ],
   "source": [
    "## ==============================================\n",
    "## Set up dataBox and post-processors\n",
    "## ==============================================\n",
    "dBox_3 = flx.dataBox(2,0)\n",
    "\n",
    "pp_3a = dBox_3.register_post_processor({ 'type':'mean_qdouble', 'col':{ 'set':'in', 'id':0} })\n",
    "pp_3b = dBox_3.register_post_processor({ 'type':'mean_qdouble', 'col':{ 'set':'in', 'id':1} })\n",
    "\n",
    "## ==============================================\n",
    "## import data from file\n",
    "## ==============================================\n",
    "dBox_3.read_from_file({ 'fname': \"mcs_samples.dat\", 'binary': False })\n",
    "\n",
    "## ==============================================\n",
    "## Evaluate post-processors\n",
    "## ==============================================\n",
    "print( \"pp_3a:\", pp_3a.eval() )\n",
    "print( \"pp_3b:\", pp_3b.eval() )"
   ]
  },
  {
   "cell_type": "code",
   "execution_count": null,
   "metadata": {},
   "outputs": [],
   "source": []
  },
  {
   "cell_type": "code",
   "execution_count": null,
   "metadata": {},
   "outputs": [],
   "source": []
  }
 ],
 "metadata": {
  "kernelspec": {
   "display_name": "Python (.venv-fesslix)",
   "language": "python",
   "name": ".venv-fesslix"
  },
  "language_info": {
   "codemirror_mode": {
    "name": "ipython",
    "version": 3
   },
   "file_extension": ".py",
   "mimetype": "text/x-python",
   "name": "python",
   "nbconvert_exporter": "python",
   "pygments_lexer": "ipython3",
   "version": "3.13.3"
  },
  "widgets": {
   "application/vnd.jupyter.widget-state+json": {
    "state": {},
    "version_major": 2,
    "version_minor": 0
   }
  }
 },
 "nbformat": 4,
 "nbformat_minor": 4
}
