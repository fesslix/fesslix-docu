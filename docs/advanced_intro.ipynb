{
 "cells": [
  {
   "cell_type": "markdown",
   "metadata": {},
   "source": [
    "# Advanced features\n",
    "\n",
    "This document covers some of the more advanced features of Fesslix.\n"
   ]
  },
  {
   "cell_type": "code",
   "execution_count": 1,
   "metadata": {},
   "outputs": [
    {
     "name": "stdout",
     "output_type": "stream",
     "text": [
      "Random Number Generator: MT19937 - initialized with rand()=1926170500;\n",
      "Random Number Generator: MT19937 - initialized with 1000 initial calls.\n"
     ]
    },
    {
     "data": {
      "text/plain": [
       "0"
      ]
     },
     "execution_count": 1,
     "metadata": {},
     "output_type": "execute_result"
    }
   ],
   "source": [
    "import fesslix as flx\n",
    "flx.load_engine()"
   ]
  },
  {
   "cell_type": "markdown",
   "metadata": {},
   "source": [
    "```{eval-rst}\n",
    ".. function:: flx.eval_fun\n",
    "\n",
    "    Syntax:\n",
    "        ``flx.eval_fun(expr)``\n",
    "\n",
    "    Description:\n",
    "        Evaluates the expression `expr` and returns the result.\n",
    "        \n",
    "    :param expr: The expression to evaluate.\n",
    "    :type expr: :type:`flxPara`\n",
    "    :rtype: float\n",
    "```\n",
    "\n",
    "**Example**:"
   ]
  },
  {
   "cell_type": "code",
   "execution_count": 5,
   "metadata": {},
   "outputs": [
    {
     "name": "stdout",
     "output_type": "stream",
     "text": [
      "-1.0\n",
      "nan\n",
      "-fesslix/lib/python3.13/site-packages/tornado/platform/asyncio.py(205): start\n",
      "  /home/wbetz/.venv-fesslix/lib/python3.13/site-packages/ipykernel/kernelapp.py(739): start\n",
      "  /home/wbetz/.venv-fesslix/lib/python3.13/site-packages/traitlets/config/application.py(1075): launch_instance\n",
      "  /home/wbetz/.venv-fesslix/lib/python3.13/site-packages/ipykernel_launcher.py(18): <module>\n",
      "  /usr/lib/python3.13/runpy.py(88): _run_code\n",
      "  /usr/lib/python3.13/runpy.py(198): _run_module_as_main\n",
      "\n",
      "\t\n",
      "\n",
      "\n",
      "ERROR - an error occurred while running Fesslix (FunBaseFun_Python::calc_01)\n",
      "\tError in evaluating Python expression: NameError: ERROR 202504041234\n",
      "\n",
      "At:\n",
      "  /tmp/ipykernel_169895/3280357769.py(8): help_fun_raise\n",
      "  /tmp/ipykernel_169895/3280357769.py(10): <module>\n",
      "  /home/wbetz/.venv-fesslix/lib/python3.13/site-packages/IPython/core/interactiveshell.py(3579): run_code\n",
      "  /home/wbetz/.venv-fesslix/lib/python3.13/site-packages/IPython/core/interactiveshell.py(3519): run_ast_nodes\n",
      "  /home/wbetz/.venv-fesslix/lib/python3.13/site-packages/IPython/core/interactiveshell.py(3336): run_cell_async\n",
      "  /home/wbetz/.venv-fesslix/lib/python3.13/site-packages/IPython/core/async_helpers.py(128): _pseudo_sync_runner\n",
      "  /home/wbetz/.venv-fesslix/lib/python3.13/site-packages/IPython/core/interactiveshell.py(3132): _run_cell\n",
      "  /home/wbetz/.venv-fesslix/lib/python3.13/site-packages/IPython/core/interactiveshell.py(3077): run_cell\n",
      "  /home/wbetz/.venv-fesslix/lib/python3.13/site-packages/ipykernel/zmqshell.py(549): run_cell\n",
      "  /home/wbetz/.venv-fesslix/lib/python3.13/site-packages/ipykernel/ipkernel.py(449): do_execute\n",
      "  /home/wbetz/.venv-fesslix/lib/python3.13/site-packages/ipykernel/kernelbase.py(778): execute_request\n",
      "  /home/wbetz/.venv-fesslix/lib/python3.13/site-packages/ipykernel/ipkernel.py(362): execute_request\n",
      "  /home/wbetz/.venv-fesslix/lib/python3.13/site-packages/ipykernel/kernelbase.py(437): dispatch_shell\n",
      "  /home/wbetz/.venv-fesslix/lib/python3.13/site-packages/ipykernel/kernelbase.py(534): process_one\n",
      "  /home/wbetz/.venv-fesslix/lib/python3.13/site-packages/ipykernel/kernelbase.py(545): dispatch_queue\n",
      "  /usr/lib/python3.13/asyncio/events.py(89): _run\n",
      "  /usr/lib/python3.13/asyncio/base_events.py(2040): _run_once\n",
      "  /usr/lib/python3.13/asyncio/base_events.py(683): run_forever\n",
      "  /home/wbetz/.venv-fesslix/lib/python3.13/site-packages/tornado/platform/asyncio.py(205): start\n",
      "  /home/wbetz/.venv-fesslix/lib/python3.13/site-packages/ipykernel/kernelapp.py(739): start\n",
      "  /home/wbetz/.venv-fesslix/lib/python3.13/site-packages/traitlets/config/application.py(1075): launch_instance\n",
      "  /home/wbetz/.venv-fesslix/lib/python3.13/site-packages/ipykernel_launcher.py(18): <module>\n",
      "  /usr/lib/python3.13/runpy.py(88): _run_code\n",
      "  /usr/lib/python3.13/runpy.py(198): _run_module_as_main\n",
      "\n",
      "\t\n",
      "\n",
      "\n",
      "ERROR - an error occurred while running Fesslix (FunBaseFun_Python::calc_01)\n",
      "\tError in evaluating Python expression: NameError: ERROR 202504041234\n",
      "\n",
      "At:\n",
      "  /tmp/ipykernel_169895/3280357769.py(8): help_fun_raise\n",
      "  /tmp/ipykernel_169895/3280357769.py(10): <module>\n",
      "  /home/wbetz/.venv-fesslix/lib/python3.13/site-packages/IPython/core/interactiveshell.py(3579): run_code\n",
      "  /home/wbetz/.venv-fesslix/lib/python3.13/site-packages/IPython/core/interactiveshell.py(3519): run_ast_nodes\n",
      "  /home/wbetz/.venv-fesslix/lib/python3.13/site-packages/IPython/core/interactiveshell.py(3336): run_cell_async\n",
      "  /home/wbetz/.venv-fesslix/lib/python3.13/site-packages/IPython/core/async_helpers.py(128): _pseudo_sync_runner\n",
      "  /home/wbetz/.venv-fesslix/lib/python3.13/site-packages/IPython/core/interactiveshell.py(3132): _run_cell\n",
      "  /home/wbetz/.venv-fesslix/lib/python3.13/site-packages/IPython/core/interactiveshell.py(3077): run_cell\n",
      "  /home/wbetz/.venv-fesslix/lib/python3.13/site-packages/ipykernel/zmqshell.py(549): run_cell\n",
      "  /home/wbetz/.venv-fesslix/lib/python3.13/site-packages/ipykernel/ipkernel.py(449): do_execute\n",
      "  /home/wbetz/.venv-fesslix/lib/python3.13/site-packages/ipykernel/kernelbase.py(778): execute_request\n",
      "  /home/wbetz/.venv-fesslix/lib/python3.13/site-packages/ipykernel/ipkernel.py(362): execute_request\n",
      "  /home/wbetz"
     ]
    }
   ],
   "source": [
    "print( flx.eval_fun( \"cos(pi)\" ) )\n",
    "\n",
    "## -----------------------------------------\n",
    "## Handling errors\n",
    "## -----------------------------------------\n",
    "## in case of errors, 'nan' is returned.\n",
    "def help_fun_raise():\n",
    "    raise NameError(f'ERROR 202504041234')\n",
    "    return 42.\n",
    "print( flx.eval_fun( help_fun_raise ) )"
   ]
  },
  {
   "cell_type": "code",
   "execution_count": null,
   "metadata": {},
   "outputs": [],
   "source": []
  },
  {
   "cell_type": "code",
   "execution_count": null,
   "metadata": {},
   "outputs": [],
   "source": []
  }
 ],
 "metadata": {
  "kernelspec": {
   "display_name": "Python (.venv-fesslix)",
   "language": "python",
   "name": ".venv-fesslix"
  },
  "language_info": {
   "codemirror_mode": {
    "name": "ipython",
    "version": 3
   },
   "file_extension": ".py",
   "mimetype": "text/x-python",
   "name": "python",
   "nbconvert_exporter": "python",
   "pygments_lexer": "ipython3",
   "version": "3.13.2"
  },
  "widgets": {
   "application/vnd.jupyter.widget-state+json": {
    "state": {},
    "version_major": 2,
    "version_minor": 0
   }
  }
 },
 "nbformat": 4,
 "nbformat_minor": 4
}
