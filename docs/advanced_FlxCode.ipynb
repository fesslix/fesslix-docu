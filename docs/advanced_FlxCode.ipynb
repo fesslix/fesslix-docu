{
 "cells": [
  {
   "cell_type": "markdown",
   "metadata": {},
   "source": [
    "# FlxCode\n",
    "\n",
    "*Fesslix* comes with its own scripting language that can be used whenever a parameter/input of type {type}`FlxCode` is required. For some time-critical operations, the internal scripting language can outperform code written directly in *Python*.\n"
   ]
  },
  {
   "cell_type": "markdown",
   "metadata": {},
   "source": [
    "```{eval-rst}\n",
    ".. py:type:: FlxCode\n",
    "\n",
    "   .. code-block::\n",
    "      \n",
    "         {\n",
    "           OBJECT_1;\n",
    "           OBJECT_2;\n",
    "           ...\n",
    "           OBJECT_N;\n",
    "         }\n",
    "\n",
    "   Description:\n",
    "       An expression of type *FlxCode* consists of a successive definition of objects of type :type:`FlxObject`, enclosed in curly braces. \n",
    "       \n",
    "   The definition of an object starts always with the name of the object and ends always with a semicolon ``;`` (see also :type:`FlxObject`). \n",
    "   Besides that, strict rules for the syntax of objects do not exist and, theoretically, each object can have its own syntax. \n",
    "   However, most objects require first the definition of obligatory parameters and last the specification of optional parameters.\n",
    "   In the object name uppercase and lowercase letters are not distinguished.\n",
    "\n",
    "   The definition of an object can go over more than a single line. \n",
    "   If a line break occurs within the definition of an object, it is simply ignored. \n",
    "   Moreover, white-spaces are ignored as well.\n",
    "\n",
    "   Using an extended syntax, selected const-variables can be declared as local constants within the specified `code-block`:\n",
    "   \n",
    "   .. code-block::\n",
    "   \n",
    "         {\n",
    "           OBJECT_1;\n",
    "           OBJECT_2;\n",
    "           ...\n",
    "           OBJECT_N;\n",
    "         }::{lc1,lc2,lc3})\n",
    "\n",
    "   where ``lc1,lc2,lc3`` is a comma separated list of :ref:`const-variables <content:FlxFunction:const>` (i.e., ``lc1``, ``lc2``, ``lc3`` have type :type:`Word`). \n",
    "   If ``lc1``, ``lc2``, ``lc3`` have not yet been declared, they are declared when the list is read. \n",
    "   The :ref:`const-variables <content:FlxFunction:const>` ``lc1``, ``lc2``, ``lc3`` are treated as local:\n",
    "   If their value changes within the specified `code-block`, the changes are reverted after ``{FLXCODE}`` is executed. \n",
    "   An arbitrary number of :ref:`const-variables <content:FlxFunction:const>` can be defined as local.\n",
    "```\n",
    "\n",
    "**Example:**\n",
    "\n",
    "As a simple introductory example, let us consider the object ``calc`` (we will only consider obligatory parameters here). \n",
    "This object requires a {type}`FlxFunction` as input and outputs the result of the evaluated function (it is the equivalent of the Python function {func}`flx.eval_fun`). \n",
    "The following two definitions are equivalent:"
   ]
  },
  {
   "cell_type": "code",
   "execution_count": 1,
   "metadata": {},
   "outputs": [
    {
     "name": "stdout",
     "output_type": "stream",
     "text": [
      "Random Number Generator: MT19937 - initialized with rand()=1267020289;\n",
      "Random Number Generator: MT19937 - initialized with 1000 initial calls.\n",
      "56 = 56\n",
      "56 = 56\n"
     ]
    }
   ],
   "source": [
    "import fesslix as flx\n",
    "flx.load_engine()\n",
    "\n",
    "flx.eval_code(\"\"\"{\n",
    "    calc 1+55;\n",
    "    calc \n",
    "            1\n",
    "        +  55\n",
    "        ;\n",
    "}\"\"\")"
   ]
  },
  {
   "cell_type": "markdown",
   "metadata": {},
   "source": [
    "```{note}\n",
    "Do not forget the curly braces (``{`` and ``}``) at the beginning and end of the definition of {type}`FlxCode`.\n",
    "```"
   ]
  },
  {
   "cell_type": "markdown",
   "metadata": {},
   "source": [
    "## Working with FlxCode in Python"
   ]
  },
  {
   "cell_type": "markdown",
   "metadata": {},
   "source": [
    "```{eval-rst}\n",
    ".. function:: flx.eval_code\n",
    "\n",
    "    Syntax:\n",
    "        ``flx.eval_code(expr)``\n",
    "\n",
    "    Description:\n",
    "        Evaluates the expression `expr`.\n",
    "        \n",
    "    :param expr: The expression to evaluate.\n",
    "    :type expr: :type:`FlxCode`\n",
    "```\n",
    "\n",
    "**Example**:"
   ]
  },
  {
   "cell_type": "code",
   "execution_count": 2,
   "metadata": {},
   "outputs": [
    {
     "name": "stdout",
     "output_type": "stream",
     "text": [
      "5.123449999999999\n",
      " 3.141593    \n"
     ]
    }
   ],
   "source": [
    "flx.eval_code( \"\"\"{\n",
    "  funplot pi;\n",
    "  const my_const = 5.12345;\n",
    "}\"\"\" )\n",
    "print( flx.eval_fun( \"my_const\" ) )"
   ]
  },
  {
   "cell_type": "markdown",
   "metadata": {},
   "source": [
    "## Syntax of FlxCode"
   ]
  },
  {
   "cell_type": "markdown",
   "metadata": {},
   "source": [
    "### Comments\n",
    "\n",
    "Comments are portions of the code that are ignored by the interpreter. \n",
    "They allow the user to make simple notes in relevant areas of the code. \n",
    "In *Fesslix*, comments are initiated by a sharp ``#``. \n",
    "The comment ends with the beginning of a new line."
   ]
  },
  {
   "cell_type": "code",
   "execution_count": 3,
   "metadata": {},
   "outputs": [
    {
     "name": "stdout",
     "output_type": "stream",
     "text": [
      "1.909297 = 1.909297\n"
     ]
    }
   ],
   "source": [
    "flx.eval_code( \"\"\"{\n",
    "  calc 1+sin(2);  # this is a comment - which will not be executed\n",
    "    # (/&%$$%&/() !!!\n",
    "}\"\"\" )"
   ]
  },
  {
   "cell_type": "markdown",
   "metadata": {},
   "source": [
    "### Objects\n",
    "\n",
    "```{eval-rst}\n",
    ".. py:type:: FlxObject\n",
    "\n",
    "   Description:\n",
    "       Contains an object in Fesslix.\n",
    "\n",
    "   This data type expects an object. \n",
    "   For the definition of an object, not many rules adhere: \n",
    "   (i) it must start with the respective name of the object, and \n",
    "   (ii)it  must end with a semicolon. \n",
    "   Apart from these two rules, every object may have its own syntax. \n",
    "   However, most objects first require the definition of obligatory parameters and, last, the specification of optional parameters.\n",
    "```"
   ]
  }
 ],
 "metadata": {
  "kernelspec": {
   "display_name": "Python (.venv-fesslix)",
   "language": "python",
   "name": ".venv-fesslix"
  },
  "language_info": {
   "codemirror_mode": {
    "name": "ipython",
    "version": 3
   },
   "file_extension": ".py",
   "mimetype": "text/x-python",
   "name": "python",
   "nbconvert_exporter": "python",
   "pygments_lexer": "ipython3",
   "version": "3.13.5"
  },
  "widgets": {
   "application/vnd.jupyter.widget-state+json": {
    "state": {},
    "version_major": 2,
    "version_minor": 0
   }
  }
 },
 "nbformat": 4,
 "nbformat_minor": 4
}
