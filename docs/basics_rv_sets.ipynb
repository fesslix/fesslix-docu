{
 "cells": [
  {
   "cell_type": "markdown",
   "metadata": {},
   "source": [
    "# Sets of random variables\n",
    "\n",
    "## Introduction\n",
    "\n",
    "In Fesslix, sets of random variables can be defined. In this context, a set is a collection of random variables. Sets and random variables are addressed by their unique ID. Each set of random variables has a unique ID of type rvSetID. All random variables within a specific set have a unique ID of type rvID. The full ID (rvFullID) of a random variable is a\n",
    "combination of the set-ID and its internal ID: `rvSetID::rvID`."
   ]
  },
  {
   "cell_type": "code",
   "execution_count": 1,
   "metadata": {},
   "outputs": [
    {
     "name": "stdout",
     "output_type": "stream",
     "text": [
      "Random Number Generator: MT19937 - initialized with rand()=775222211;\n",
      "Random Number Generator: MT19937 - initialized with 1000 initial calls.\n"
     ]
    }
   ],
   "source": [
    "import fesslix as flx\n",
    "flx.load_engine()\n",
    "import numpy as np"
   ]
  },
  {
   "cell_type": "markdown",
   "metadata": {},
   "source": [
    "## Sets of general random variables\n",
    "### Definition"
   ]
  },
  {
   "cell_type": "markdown",
   "metadata": {},
   "source": [
    "```{eval-rst}\n",
    ".. function:: flx.rv_set\n",
    "\n",
    "    Syntax:\n",
    "        ``flx.rv_set( config_set, rv_lst )``\n",
    "\n",
    "    Description:\n",
    "        Returns a set of general random variables of type :class:`flx.rvset`.\n",
    "        \n",
    "    :param config_set: The quantile at which to evaluate the inverse of the CDF. The following keys are allowed in `config_set`:\n",
    "    \n",
    "         - ``name`` (type :type:`rvSetID`): The name of the set of random variables to create.\n",
    "         - ``is_Nataf`` (*bool*, default: *False*): ``True``: the set is based on the Nataf transformation; ``False``: the set is based on the Rosenblatt transformation.\n",
    "\n",
    "     In case of the **Rosenblatt transformation** (i.e., for ``config_set['is_Nataf']=False``), additionally, the following keys can be specified:\n",
    "    \n",
    "         - ``parents`` (*list*, default: *[]*): A list (of already defined sets or random variables) on which the set to be defined is to be conditioned on. The list entries must be of type :type:`rvSetID`. Used this key if the parameters of random variables in the current set depend on the values of random variables in another set.\n",
    "         - ``allow_x2y`` (*bool*, default: *False*): By default, only the transformation from standard normal space to original space is supported by this set. However, sometimes the reverse transformation is required – which is more involved from a mathematical and numerical point of view. By setting this parameter to ``True``, the reverse transformation is activated if possible.\n",
    "     \n",
    "     In case of the **Nataf transformation** (i.e., for ``config_set['is_Nataf']=True``), additionally, the following keys can be specified:\n",
    "    \n",
    "         - ``corr`` (*list*, default: *[]*): A list of correlations. The entries in the list must be of type *dict*; the following keys are allowed:\n",
    "\n",
    "            - ``rv_1`` (:type:`rvID`): identifier (name) of random variable in current set\n",
    "            - ``rv_2`` (:type:`rvID`): identifier (name) of random variable in current set (must be different from `rv_1`)\n",
    "            - ``value`` (*float*): value of the correlation coefficient of the pair of random variables `rv_1` and `rv_2`.\n",
    "            - ``corr_approx`` (*bool*, default: *True*):  ``True``: an approximate empirical relationship is used to determine the correlation coefficient of the underlying pair of standard Normal random variables. ``False``: this value is evaluated numerically by means of the algorithm described in TODO. This parameter is only relevant if `rhogauss` is set to *False*.\n",
    "            - ``rhogauss`` (*bool*, default: *False*): If *True*, the specified correlation coefficient is associated with the underlying standard Normal random variables (i.e., the correlation coefficient is applied to the random variables transformed to standard Normal space). Activating this option can reduce the computational costs of assembling the correlation matrix.\n",
    "     \n",
    "         - ``is_Nataf_only_once`` (*bool*, default: *True*): If ``True``, the parameters of the marginal distributions of the Nataf transformation are evaluated only once. Only experienced users should consider setting the value of this parameter to ``False``.\n",
    "     \n",
    "    :type config_set: dict\n",
    "    :param rv_lst: A list with configurations for the random variables to create in the set. The list entries must be of type :type:`flx_rv_config`.\n",
    "    \n",
    "     In case of the **Rosenblatt transformation** (i.e., for ``config_set['is_Nataf']=False``), additionally, the following keys can be specified for the individual entries:\n",
    "    \n",
    "         - ``corr`` (*dict*, *optional*): Defines a correlation coefficient between this random variable and another random variable in the set. The following keys are allowed:\n",
    "\n",
    "            - ``rv_name`` (:type:`rvID`): identifier (name) of random variable in current set\n",
    "            - ``value`` (*float*): value of the correlation coefficient of the current random variable with the random variable specified in `rv_name`.\n",
    "            - ``fix`` (*bool*, default: *False*): ``True``: The correlation coefficient is evaluated a single time and the parameters of the involved random variables are constant. In this case the correlation of the underlying standard normal random variables is a constant and, thus, needs to be evaluated only once. ``False``:  The correlation of the underlying standard normal random variables is not treated as a constant and needs to be evaluated anew every time a new realization is generated. This mode can be computationally demanding – and should be used only if really needed.\n",
    "         \n",
    "    :type rv_lst: list\n",
    "    :rtype: :class:`flx.rvset`\n",
    "    \n",
    "```"
   ]
  },
  {
   "cell_type": "markdown",
   "metadata": {},
   "source": [
    "```{eval-rst}\n",
    ".. py:type:: rvSetID\n",
    "   :canonical: Word\n",
    "   \n",
    "   Syntax:\n",
    "       ``Word``\n",
    "\n",
    "   Description:\n",
    "       This data-type assigns a unique identifier (of type :type:`Word`) to a set (i.e., a collection) of random variables.\n",
    "```"
   ]
  },
  {
   "cell_type": "markdown",
   "metadata": {},
   "source": [
    "### Working with sets of random variables"
   ]
  },
  {
   "cell_type": "markdown",
   "metadata": {},
   "source": [
    "```{eval-rst}\n",
    ".. class:: flx.rvset\n",
    "\n",
    "   A set (i.e., collection) of random variables.\n",
    "\n",
    "   .. py:method:: get_name()\n",
    "\n",
    "      Retrieves the name of the set of random variables.\n",
    "\n",
    "      :returns: name of set\n",
    "      :rtype: :type:`rvSetID`\n",
    "\n",
    "   .. py:method:: get_values(mode)\n",
    "\n",
    "      Returns an array of quantities of all entries contained in the set of random variables.\n",
    "\n",
    "      :param mode: Specifies the mode of the operation. \n",
    "      \n",
    "          The following keywords are allowed:\n",
    "          \n",
    "              - ``x``: Return an array with the current realizations of the random variables in the set.\n",
    "              - ``y``: Return an array with the standard Normal transformed values of the current realizations of the random variables in the set.\n",
    "              - ``mean``: Return an array with the mean values of the random variables in the set.\n",
    "              - ``sd``: Return an array with the standard deviations of the random variables in the set.\n",
    "              \n",
    "      :type mode: :type:`Word`\n",
    "      \n",
    "      :rtype: numpy.ndarray\n",
    "```"
   ]
  },
  {
   "cell_type": "markdown",
   "metadata": {},
   "source": [
    "```{eval-rst}\n",
    ".. function:: flx.get_rv_from_set\n",
    "\n",
    "    Syntax:\n",
    "        ``flx.get_rv_from_set( rv_name )``\n",
    "\n",
    "    Description:\n",
    "        Retrieve random variable `rv_name` from a set of random variables.\n",
    "        \n",
    "    :param rv_name: A unique global identifier of the targeted random variable.\n",
    "    :type rv_name: :type:`rvFullID`\n",
    "    :rtype: :class:`flx.rv`\n",
    "    \n",
    "```"
   ]
  },
  {
   "cell_type": "markdown",
   "metadata": {},
   "source": [
    "```{eval-rst}\n",
    ".. py:type:: rvFullID\n",
    "   :canonical: str\n",
    "   \n",
    "   Syntax:\n",
    "       ``rvSetID::rvID``\n",
    "\n",
    "   Description:\n",
    "       This data-type assigns a unique identifier (of type :type:`Word`) to a random variable (of type :class:`flx.rv`).\n",
    "```"
   ]
  },
  {
   "cell_type": "markdown",
   "metadata": {},
   "source": [
    "```{eval-rst}\n",
    ".. function:: FlxFunction.rbrv\n",
    "\n",
    "    Syntax:\n",
    "        ``rbrv( rv_name )``\n",
    "\n",
    "    Description:\n",
    "        This :type:`FlxFunction` returns the current realization of random variable `rv_name`.\n",
    "        \n",
    "    :param rv_name: A unique global identifier of the targeted random variable.\n",
    "    :type rv_name: :type:`rvFullID`\n",
    "    \n",
    "```"
   ]
  },
  {
   "cell_type": "markdown",
   "metadata": {},
   "source": [
    "### Generating random samples"
   ]
  },
  {
   "cell_type": "markdown",
   "metadata": {},
   "source": [
    "```{eval-rst}\n",
    ".. class:: flx.sampler\n",
    "\n",
    "   Used to generate random realizatios from a set (or multiple sets) of random variables.\n",
    "\n",
    "   .. method:: __init__(config)\n",
    "\n",
    "      Initialize the `flx.rv` instance with the given configuration.\n",
    "      \n",
    "      :param config: The configuration to use for the random variable.\n",
    "      :type config: :type:`flx_rv_config`\n",
    "\n",
    "   .. py:method:: sample()\n",
    "\n",
    "      Generate a random realization for a collection of sets of random variables. The generated realizations can be accessed using :meth:`flx.rv.get_value` or :meth:`flx.rvset.get_values`.\n",
    "\n",
    "      :rtype: None\n",
    "\n",
    "```"
   ]
  },
  {
   "cell_type": "markdown",
   "metadata": {},
   "source": [
    "### Examples"
   ]
  },
  {
   "cell_type": "markdown",
   "metadata": {},
   "source": [
    "#### Set without dependencies (i.e., parents)"
   ]
  },
  {
   "cell_type": "code",
   "execution_count": 2,
   "metadata": {},
   "outputs": [
    {
     "name": "stdout",
     "output_type": "stream",
     "text": [
      "{'type': 'stdn', 'name': 'rv_set_a::rv1', 'mean': 0.0, 'sd': 1.0, 'entropy': 1.4189385332046727}\n",
      "sample  1:     0.02,     0.11\n",
      "sample  2:    -1.33,     0.07\n",
      "sample  3:     1.28,     0.76\n",
      "sample  4:    -0.89,     0.90\n",
      "sample  5:    -0.71,     1.41\n",
      "sample  6:    -0.51,     0.13\n",
      "sample  7:    -0.46,     0.29\n",
      "sample  8:    -0.42,     0.39\n",
      "sample  9:    -0.90,     4.60\n",
      "sample 10:     1.42,     1.24\n"
     ]
    }
   ],
   "source": [
    "## ================================================================\n",
    "## Set without dependencies (i.e., parents)\n",
    "## ================================================================\n",
    "\n",
    "## ------------------------------------------\n",
    "## Definition\n",
    "## ------------------------------------------\n",
    "config_rv_a1 = { 'name':'rv1', 'type':'stdn' }\n",
    "config_rv_a2 = { 'name':'rv2', 'type':'logn', 'mu':1., 'sd':2. }\n",
    "rv_set_a = flx.rv_set( {'name':'rv_set_a'}, [ config_rv_a1, config_rv_a2 ] )\n",
    "\n",
    "## ------------------------------------------\n",
    "## Retrieve random variables from the set\n",
    "## ------------------------------------------\n",
    "rv_a1 = flx.get_rv_from_set(\"rv_set_a::rv1\")\n",
    "rv_a2 = flx.get_rv_from_set(\"rv_set_a::rv2\")\n",
    "print( rv_a1.info() )\n",
    "\n",
    "## ------------------------------------------\n",
    "## Generate random samples\n",
    "## ------------------------------------------\n",
    "sampler_a = flx.sampler(['rv_set_a'])\n",
    "for i in range(10):\n",
    "    sampler_a.sample()\n",
    "    print(f\"sample {i+1:2.0f}: {rv_a1.get_value():8.2f}, {rv_a2.get_value():8.2f}\" )"
   ]
  },
  {
   "cell_type": "markdown",
   "metadata": {},
   "source": [
    "#### Set that depends on another set"
   ]
  },
  {
   "cell_type": "code",
   "execution_count": 3,
   "metadata": {},
   "outputs": [
    {
     "name": "stdout",
     "output_type": "stream",
     "text": [
      "sample  1:     0.68,     0.19,     0.19,     0.30,     0.30,     0.36\n",
      "sample  2:    -1.67,     0.10,     0.10,     0.34,     0.34,     0.43\n",
      "sample  3:    -0.56,     0.14,     0.14,     0.25,     0.25,     0.30\n",
      "sample  4:    -1.93,     0.32,     0.32,     0.35,     0.35,     0.23\n",
      "sample  5:     0.62,     2.40,     2.40,     2.44,     2.44,     2.43\n",
      "sample  6:    -0.30,     1.19,     1.19,     1.18,     1.18,     1.21\n",
      "sample  7:    -0.38,     0.35,     0.35,     0.27,     0.27,     0.27\n",
      "sample  8:     1.42,     0.15,     0.15,     0.40,     0.40,     0.34\n",
      "sample  9:     0.75,     1.48,     1.48,     1.60,     1.60,     1.55\n",
      "sample 10:     1.01,     0.65,     0.65,     0.74,     0.74,     0.71\n"
     ]
    }
   ],
   "source": [
    "## ================================================================\n",
    "## Set that depends on 'rv_set_a'\n",
    "## ================================================================\n",
    "\n",
    "## ------------------------------------------\n",
    "## Definition\n",
    "## ------------------------------------------\n",
    "config_rv_b1 = { 'name':'rv1', 'type':'normal', 'mu':\"rbrv(rv_set_a::rv2)\", 'sd':0.1 }\n",
    "config_rv_b2 = { 'name':'rv2', 'type':'normal', 'mu':\"rbrv(rv_set_b::rv1)\", 'sd':0.05 }\n",
    "rv_set_b = flx.rv_set( {'name':'rv_set_b', 'parents':['rv_set_a']}, [ config_rv_b1, config_rv_b2 ] )\n",
    "\n",
    "## ------------------------------------------\n",
    "## Retrieve random variables from the set\n",
    "## ------------------------------------------\n",
    "rv_b1 = flx.get_rv_from_set(\"rv_set_b::rv1\")\n",
    "rv_b2 = flx.get_rv_from_set(\"rv_set_b::rv2\")\n",
    "\n",
    "## ------------------------------------------\n",
    "## Generate random samples\n",
    "## ------------------------------------------\n",
    "sampler_b = flx.sampler(['rv_set_b'])   ## 'rv_set_a' is added implicitly!\n",
    "for i in range(10):\n",
    "    sampler_b.sample()\n",
    "    print(f\"sample {i+1:2.0f}: {rv_a1.get_value():8.2f}, {rv_a2.get_value():8.2f}, {rv_b1.mean():8.2f}, {rv_b1.get_value():8.2f}, {rv_b2.mean():8.2f}, {rv_b2.get_value():8.2f}\" )\n"
   ]
  },
  {
   "cell_type": "markdown",
   "metadata": {},
   "source": [
    "#### Set with correlated random variables"
   ]
  },
  {
   "cell_type": "code",
   "execution_count": 4,
   "metadata": {},
   "outputs": [
    {
     "name": "stdout",
     "output_type": "stream",
     "text": [
      "mean: [2. 0. 5.]\n",
      "sd: [1. 1. 5.]\n",
      "[[1.         0.95007326 0.70769658]\n",
      " [0.95007326 1.         0.67198567]\n",
      " [0.70769658 0.67198567 1.        ]]\n"
     ]
    }
   ],
   "source": [
    "## ================================================================\n",
    "## Set with correlated random variables\n",
    "## ================================================================\n",
    "\n",
    "## ------------------------------------------\n",
    "## Definition\n",
    "## ------------------------------------------\n",
    "config_rv_c1 = { 'name':'rv1', 'type':'normal', 'mu':2., 'sd':1. }\n",
    "config_rv_c2 = { 'name':'rv2', 'type':'stdn', 'corr':{ 'rv_name': 'rv1', 'value':0.95, 'fix':True } }\n",
    "config_rv_c3 = { 'name':'rv3', 'type':'logn', 'mu':5., 'sd':5., 'corr':{ 'rv_name': 'rv1', 'value':0.7, 'fix':True } }\n",
    "rv_set_c = flx.rv_set( {'name':'rv_set_c'}, [ config_rv_c1, config_rv_c2, config_rv_c3 ] )\n",
    "\n",
    "## ------------------------------------------\n",
    "## Retrieve random variables from the set\n",
    "## ------------------------------------------\n",
    "rv_c1 = flx.get_rv_from_set(\"rv_set_c::rv1\")\n",
    "rv_c2 = flx.get_rv_from_set(\"rv_set_c::rv2\")\n",
    "rv_c3 = flx.get_rv_from_set(\"rv_set_c::rv3\")\n",
    "\n",
    "## ------------------------------------------\n",
    "## Output mean and std.dev. vector\n",
    "## ------------------------------------------\n",
    "print( \"mean:\", rv_set_c.get_values('mean') )\n",
    "print( \"sd:\", rv_set_c.get_values('sd') )\n",
    "\n",
    "## ------------------------------------------\n",
    "## Generate random samples\n",
    "## ------------------------------------------\n",
    "N = 10000   ## number of samples to generate\n",
    "sampler_c = flx.sampler(['rv_set_c'])  \n",
    "smpl_mtx = np.empty((N, 3))\n",
    "for i in range(N):\n",
    "    sampler_c.sample()\n",
    "    smpl_mtx[i] = rv_set_c.get_values('x')\n",
    "    \n",
    "## ------------------------------------------\n",
    "## evaluate correlation of sample matrix\n",
    "## ------------------------------------------\n",
    "corr_mtx = np.corrcoef( smpl_mtx, rowvar=False )\n",
    "print(corr_mtx)"
   ]
  },
  {
   "cell_type": "markdown",
   "metadata": {},
   "source": [
    "#### Set based on the Nataf transformation"
   ]
  },
  {
   "cell_type": "code",
   "execution_count": 5,
   "metadata": {},
   "outputs": [
    {
     "name": "stdout",
     "output_type": "stream",
     "text": [
      "[[1.         0.95042585 0.69454652]\n",
      " [0.95042585 1.         0.79314782]\n",
      " [0.69454652 0.79314782 1.        ]]\n"
     ]
    }
   ],
   "source": [
    "## ================================================================\n",
    "## Set based on the Nataf transformation\n",
    "## ================================================================\n",
    "\n",
    "## ------------------------------------------\n",
    "## Definition\n",
    "## ------------------------------------------\n",
    "config_rv_d1 = { 'name':'rv1', 'type':'normal', 'mu':2., 'sd':1. }\n",
    "config_rv_d2 = { 'name':'rv2', 'type':'stdn' }\n",
    "config_rv_d3 = { 'name':'rv3', 'type':'logn', 'mu':5., 'sd':5. }\n",
    "rv_set_d = flx.rv_set( {'name':'rv_set_d', \n",
    "                        'is_Nataf':True, \n",
    "                        'allow_x2y':True,\n",
    "                        'corr': [ {'rv_1':'rv1', 'rv_2':'rv2', 'value':0.95 }, \n",
    "                                  {'rv_1':'rv1', 'rv_2':'rv3', 'value':0.7 } , \n",
    "                                  {'rv_1':'rv2', 'rv_2':'rv3', 'value':0.8 } \n",
    "                                ]\n",
    "                       }, [ config_rv_d1, config_rv_d2, config_rv_d3 ] )\n",
    "\n",
    "## ------------------------------------------\n",
    "## Generate random samples\n",
    "## ------------------------------------------\n",
    "N = 10000   ## number of samples to generate\n",
    "sampler_d = flx.sampler(['rv_set_d'])  \n",
    "smpl_mtx = np.empty((N, 3))\n",
    "for i in range(N):\n",
    "    sampler_d.sample()\n",
    "    smpl_mtx[i] = rv_set_d.get_values('x')\n",
    "    \n",
    "## ------------------------------------------\n",
    "## evaluate correlation of sample matrix\n",
    "## ------------------------------------------\n",
    "corr_mtx = np.corrcoef( smpl_mtx, rowvar=False )\n",
    "print(corr_mtx)"
   ]
  }
 ],
 "metadata": {
  "kernelspec": {
   "display_name": "Python (.venv-fesslix)",
   "language": "python",
   "name": ".venv-fesslix"
  },
  "language_info": {
   "codemirror_mode": {
    "name": "ipython",
    "version": 3
   },
   "file_extension": ".py",
   "mimetype": "text/x-python",
   "name": "python",
   "nbconvert_exporter": "python",
   "pygments_lexer": "ipython3",
   "version": "3.13.2"
  },
  "widgets": {
   "application/vnd.jupyter.widget-state+json": {
    "state": {},
    "version_major": 2,
    "version_minor": 0
   }
  }
 },
 "nbformat": 4,
 "nbformat_minor": 4
}
